{
 "cells": [
  {
   "cell_type": "code",
   "execution_count": null,
   "id": "98e06ebf",
   "metadata": {},
   "outputs": [],
   "source": [
    "import pandas as pd\n",
    "import random"
   ]
  },
  {
   "cell_type": "code",
   "execution_count": null,
   "id": "85d5bd9f",
   "metadata": {},
   "outputs": [],
   "source": [
    "filename = '../data/2019-Dec.csv'"
   ]
  },
  {
   "cell_type": "code",
   "execution_count": null,
   "id": "abea17b3",
   "metadata": {},
   "outputs": [],
   "source": [
    "p = 0.001  # 10% of the lines\n",
    "# keep the header, then take only 10% of lines\n",
    "# if random from [0,1] interval is greater than 0.1 the row will be skipped\n",
    "df = pd.read_csv(filename,\n",
    "                 header=0,\n",
    "                 skiprows=lambda i: i>0 and random.random() > p)\n",
    "\n",
    "df.shape"
   ]
  },
  {
   "cell_type": "code",
   "execution_count": null,
   "id": "b5951e52",
   "metadata": {},
   "outputs": [],
   "source": [
    "df.head()"
   ]
  },
  {
   "cell_type": "code",
   "execution_count": null,
   "id": "dcea1fe1",
   "metadata": {},
   "outputs": [],
   "source": [
    "# df.to_csv(f'10%_sample_{pt}', index = False)"
   ]
  },
  {
   "cell_type": "code",
   "execution_count": null,
   "id": "52fd61f2",
   "metadata": {},
   "outputs": [],
   "source": [
    "filename_oct = '../data/2019-Oct.csv'"
   ]
  },
  {
   "cell_type": "code",
   "execution_count": null,
   "id": "eae1e133",
   "metadata": {},
   "outputs": [],
   "source": [
    "p = 0.001  # 10% of the lines\n",
    "# keep the header, then take only 10% of lines\n",
    "# if random from [0,1] interval is greater than 0.1 the row will be skipped\n",
    "df_oct = pd.read_csv(filename_oct,\n",
    "                 header=0,\n",
    "                 skiprows=lambda i: i>0 and random.random() > p)\n",
    "\n",
    "df_oct.shape"
   ]
  },
  {
   "cell_type": "code",
   "execution_count": null,
   "id": "415da631",
   "metadata": {},
   "outputs": [],
   "source": [
    "df_oct.head()"
   ]
  },
  {
   "cell_type": "code",
   "execution_count": null,
   "id": "71ed7287",
   "metadata": {},
   "outputs": [],
   "source": [
    "df_oct.to_csv('../data/20pct_oct19.csv')"
   ]
  },
  {
   "cell_type": "code",
   "execution_count": null,
   "id": "18b6c804",
   "metadata": {},
   "outputs": [],
   "source": [
    "df_oct[df_oct['product_id'] == 28719071]"
   ]
  },
  {
   "cell_type": "code",
   "execution_count": null,
   "id": "7c843656",
   "metadata": {},
   "outputs": [],
   "source": []
  },
  {
   "cell_type": "code",
   "execution_count": null,
   "id": "38afce39",
   "metadata": {},
   "outputs": [],
   "source": []
  },
  {
   "cell_type": "code",
   "execution_count": null,
   "id": "733d2a87",
   "metadata": {},
   "outputs": [],
   "source": []
  }
 ],
 "metadata": {
  "kernelspec": {
   "display_name": "Python 3 (ipykernel)",
   "language": "python",
   "name": "python3"
  },
  "language_info": {
   "codemirror_mode": {
    "name": "ipython",
    "version": 3
   },
   "file_extension": ".py",
   "mimetype": "text/x-python",
   "name": "python",
   "nbconvert_exporter": "python",
   "pygments_lexer": "ipython3",
   "version": "3.10.6"
  },
  "toc": {
   "base_numbering": 1,
   "nav_menu": {},
   "number_sections": true,
   "sideBar": true,
   "skip_h1_title": false,
   "title_cell": "Table of Contents",
   "title_sidebar": "Contents",
   "toc_cell": false,
   "toc_position": {},
   "toc_section_display": true,
   "toc_window_display": false
  }
 },
 "nbformat": 4,
 "nbformat_minor": 5
}
