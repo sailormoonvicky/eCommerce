{
 "cells": [
  {
   "cell_type": "code",
   "execution_count": 3,
   "id": "377cc012",
   "metadata": {},
   "outputs": [],
   "source": [
    "import pandas as pd\n",
    "import numpy as np\n",
    "import matplotlib.pyplot as plt\n",
    "from sklearn.preprocessing import OneHotEncoder\n",
    "from sklearn.feature_extraction.text import CountVectorizer\n",
    "from sklearn.decomposition import TruncatedSVD\n",
    "from sklearn.metrics.pairwise import cosine_similarity"
   ]
  },
  {
   "cell_type": "markdown",
   "id": "e480518d",
   "metadata": {},
   "source": [
    "# Latent matrix from metadata"
   ]
  },
  {
   "cell_type": "code",
   "execution_count": null,
   "id": "fe0bd973",
   "metadata": {},
   "outputs": [],
   "source": [
    "filename = '../data/2019_oct_sort_1000.csv'"
   ]
  },
  {
   "cell_type": "code",
   "execution_count": null,
   "id": "9012102a",
   "metadata": {},
   "outputs": [],
   "source": [
    "!pwd"
   ]
  },
  {
   "cell_type": "code",
   "execution_count": null,
   "id": "8cb5359b",
   "metadata": {},
   "outputs": [],
   "source": [
    "import random\n",
    "p = 1  # 1% of the lines\n",
    "# keep the header, then take only 1% of lines\n",
    "# if random from [0,1] interval is greater than 0.01 the row will be skipped\n",
    "df = pd.read_csv(\n",
    "         filename,\n",
    "         header=0, \n",
    "         skiprows=lambda i: i>0 and random.random() > p\n",
    ")\n",
    "df.shape"
   ]
  },
  {
   "cell_type": "code",
   "execution_count": null,
   "id": "1bcf8b6b",
   "metadata": {},
   "outputs": [],
   "source": [
    "df.shape"
   ]
  },
  {
   "cell_type": "code",
   "execution_count": null,
   "id": "acafa99e",
   "metadata": {},
   "outputs": [],
   "source": [
    "df.category_code.nunique()"
   ]
  },
  {
   "cell_type": "code",
   "execution_count": null,
   "id": "eddf4d1f",
   "metadata": {},
   "outputs": [],
   "source": [
    "df.columns"
   ]
  },
  {
   "cell_type": "code",
   "execution_count": null,
   "id": "1c259065",
   "metadata": {},
   "outputs": [],
   "source": [
    "df.head()"
   ]
  },
  {
   "cell_type": "code",
   "execution_count": null,
   "id": "384abaac",
   "metadata": {},
   "outputs": [],
   "source": [
    "def preprocessing_feat(X, drop_event_time=False):\n",
    "    if drop_event_time:\n",
    "        X = X.drop(\"event_time\", axis=1)\n",
    "    \n",
    "    X_preprocessed = X.dropna(subset = ['category_code', 'brand']) #tbd!!\n",
    "    X_preprocessed = X_preprocessed.drop_duplicates()\n",
    "    X_preprocessed['category_code'] = X_preprocessed['category_code'].str.replace('.',' ')\n",
    "    return X_preprocessed"
   ]
  },
  {
   "cell_type": "code",
   "execution_count": null,
   "id": "2689a181",
   "metadata": {},
   "outputs": [],
   "source": [
    "X_preprocessed = preprocessing_feat(df,  drop_event_time=True)"
   ]
  },
  {
   "cell_type": "code",
   "execution_count": null,
   "id": "df390005",
   "metadata": {},
   "outputs": [],
   "source": [
    "X_preprocessed.shape"
   ]
  },
  {
   "cell_type": "markdown",
   "id": "7f60917a",
   "metadata": {},
   "source": [
    "## Pricing criterion"
   ]
  },
  {
   "cell_type": "code",
   "execution_count": null,
   "id": "59c344db",
   "metadata": {},
   "outputs": [],
   "source": [
    "def make_column(row):\n",
    "    if row[\"price\"] < row[\"25%\"]:\n",
    "        return \"low\"\n",
    "    elif row[\"price\"] < row[\"75%\"]:\n",
    "        return \"medium\"\n",
    "    else:\n",
    "        return \"high\"\n",
    "\n",
    "def pricing_criterion(X):\n",
    "    pricing_guide = X.groupby('category_code')['price'].describe()[[\"25%\", \"75%\"]].reset_index()\n",
    "    X_merged = X.merge(pricing_guide, on=\"category_code\", how=\"right\")\n",
    "    X_merged[\"price_category\"] = X_merged.apply(lambda row: make_column(row), axis=1)\n",
    "    return X_merged\n"
   ]
  },
  {
   "cell_type": "code",
   "execution_count": null,
   "id": "c15b56fe",
   "metadata": {},
   "outputs": [],
   "source": [
    "X_merged = pricing_criterion(X_preprocessed)"
   ]
  },
  {
   "cell_type": "code",
   "execution_count": null,
   "id": "8326b89c",
   "metadata": {},
   "outputs": [],
   "source": [
    "def metadata(X):\n",
    "    X['metadata'] = X[['category_code', 'brand', 'price_category']].apply(lambda x: ' '.join(x), axis = 1)\n",
    "    return X\n"
   ]
  },
  {
   "cell_type": "code",
   "execution_count": null,
   "id": "5300e000",
   "metadata": {},
   "outputs": [],
   "source": [
    "X_meta = metadata(X_merged)\n",
    "X_meta.nunique()"
   ]
  },
  {
   "cell_type": "code",
   "execution_count": null,
   "id": "c35fd7f5",
   "metadata": {},
   "outputs": [],
   "source": [
    "X_meta.set_index(X_meta['product_id'], inplace=True)"
   ]
  },
  {
   "cell_type": "code",
   "execution_count": null,
   "id": "55f41b1b",
   "metadata": {},
   "outputs": [],
   "source": [
    "print(X_meta.shape)\n",
    "X_meta.head()"
   ]
  },
  {
   "cell_type": "markdown",
   "id": "ca43bf95",
   "metadata": {},
   "source": [
    "### Count Vectorizer"
   ]
  },
  {
   "cell_type": "code",
   "execution_count": null,
   "id": "53a0b2e9",
   "metadata": {},
   "outputs": [],
   "source": [
    "count = CountVectorizer()\n",
    "count_matrix = count.fit_transform(X_meta['metadata'])\n",
    "count_df_1 = pd.DataFrame(count_matrix.toarray(), index=X_meta.product_id.tolist())\n",
    "print(count_df_1.shape)\n",
    "count_df_1.head()"
   ]
  },
  {
   "cell_type": "code",
   "execution_count": null,
   "id": "c550b6d6",
   "metadata": {},
   "outputs": [],
   "source": [
    "count_df_1 = count_df_1.reset_index()"
   ]
  },
  {
   "cell_type": "code",
   "execution_count": null,
   "id": "81a2a600",
   "metadata": {},
   "outputs": [],
   "source": [
    "len(list(set(count_df_1.index)))#.nunique()"
   ]
  },
  {
   "cell_type": "code",
   "execution_count": null,
   "id": "3439b41c",
   "metadata": {},
   "outputs": [],
   "source": [
    "count_df_1.drop_duplicates(subset='index', keep='first', inplace=True) \n",
    "count_df_1[\"product_id\"] = count_df_1[\"index\"]\n",
    "count_df_1.drop(\"index\", axis=1, inplace=True)\n",
    "count_df_1.head()"
   ]
  },
  {
   "cell_type": "markdown",
   "id": "139ee061",
   "metadata": {},
   "source": [
    "### Dimensionality reduction"
   ]
  },
  {
   "cell_type": "code",
   "execution_count": null,
   "id": "238498de",
   "metadata": {},
   "outputs": [],
   "source": [
    "n = 50\n",
    "svd = TruncatedSVD(n_components=n)\n",
    "latent_df_1 = svd.fit_transform(count_df_1.set_index(\"product_id\"))"
   ]
  },
  {
   "cell_type": "code",
   "execution_count": null,
   "id": "c3810dbf",
   "metadata": {},
   "outputs": [],
   "source": [
    "plt.plot(svd.explained_variance_ratio_.cumsum())\n",
    "plt.xlabel('number of singular value components')\n",
    "plt.ylabel('Cumulative percent of variance')   \n",
    "plt.grid()\n",
    "plt.show()"
   ]
  },
  {
   "cell_type": "code",
   "execution_count": null,
   "id": "f17ba857",
   "metadata": {},
   "outputs": [],
   "source": [
    "#count_df_1=count_df_1.set_index(\"product_id\")\n",
    "#count_df_1.head()\n",
    "df_for_latent1 = count_df_1.product_id.tolist()"
   ]
  },
  {
   "cell_type": "code",
   "execution_count": null,
   "id": "fc73c7bc",
   "metadata": {},
   "outputs": [],
   "source": [
    "#n defined above\n",
    "#n = 50\n",
    "latent_df_1 = pd.DataFrame(latent_df_1[:,0:n], index=df_for_latent1)\n",
    "print(latent_df_1.shape)\n",
    "latent_df_1"
   ]
  },
  {
   "cell_type": "code",
   "execution_count": null,
   "id": "e818bafb",
   "metadata": {},
   "outputs": [],
   "source": [
    "latent_df_1.reset_index().drop_duplicates().shape"
   ]
  },
  {
   "cell_type": "code",
   "execution_count": null,
   "id": "d8fe8ec7",
   "metadata": {},
   "outputs": [],
   "source": [
    "#X_meta['product_id'].nunique()"
   ]
  },
  {
   "cell_type": "markdown",
   "id": "93db8b39",
   "metadata": {},
   "source": [
    "# Latent matrix from event types"
   ]
  },
  {
   "cell_type": "code",
   "execution_count": null,
   "id": "0060c697",
   "metadata": {},
   "outputs": [],
   "source": [
    "def preprocessing_event(X):\n",
    "    X_preprocessed = X.dropna(subset = ['category_code', 'brand']) #tbd!!\n",
    "    X_preprocessed = X_preprocessed.drop_duplicates()\n",
    "    return X_preprocessed"
   ]
  },
  {
   "cell_type": "code",
   "execution_count": null,
   "id": "21e0f6d2",
   "metadata": {},
   "outputs": [],
   "source": [
    "df_event = preprocessing_event(df)\n",
    "df_event.user_id.nunique()"
   ]
  },
  {
   "cell_type": "code",
   "execution_count": null,
   "id": "da09853f",
   "metadata": {},
   "outputs": [],
   "source": [
    "dct = {'view': 1, 'cart': 3, 'purchase': 5}"
   ]
  },
  {
   "cell_type": "code",
   "execution_count": null,
   "id": "017db36f",
   "metadata": {},
   "outputs": [],
   "source": [
    "df_event['rating'] = df_event['event_type'].map(dct)"
   ]
  },
  {
   "cell_type": "code",
   "execution_count": null,
   "id": "9b504622",
   "metadata": {},
   "outputs": [],
   "source": [
    "df_event[\"rating\"].sum()"
   ]
  },
  {
   "cell_type": "code",
   "execution_count": null,
   "id": "6c8be956",
   "metadata": {},
   "outputs": [],
   "source": [
    "# df_rating.shape"
   ]
  },
  {
   "cell_type": "code",
   "execution_count": null,
   "id": "c402b446",
   "metadata": {},
   "outputs": [],
   "source": [
    "# df_rating = df_event.pivot_table(values='rating',\n",
    "#                                  index='product_id',\n",
    "#                                  columns='user_id',\n",
    "#                                  aggfunc=\"sum\").fillna(0)\n",
    "# df_rating"
   ]
  },
  {
   "cell_type": "code",
   "execution_count": null,
   "id": "1e195925",
   "metadata": {},
   "outputs": [],
   "source": [
    "df_event.nunique()"
   ]
  },
  {
   "cell_type": "code",
   "execution_count": null,
   "id": "bfe680cd",
   "metadata": {},
   "outputs": [],
   "source": [
    "df_event.drop_duplicates(subset='product_id',inplace=True)\n",
    "df_event.nunique()"
   ]
  },
  {
   "cell_type": "code",
   "execution_count": null,
   "id": "33e86ab0",
   "metadata": {},
   "outputs": [],
   "source": [
    "%%time\n",
    "\n",
    "df_rating = df_event.pivot(values='rating',\n",
    "               index='product_id',\n",
    "               columns='user_id').fillna(0)\n",
    "\n",
    "df_rating"
   ]
  },
  {
   "cell_type": "code",
   "execution_count": null,
   "id": "f407362f",
   "metadata": {},
   "outputs": [],
   "source": [
    "df_rating.sum().reset_index()[0].sum()"
   ]
  },
  {
   "cell_type": "code",
   "execution_count": null,
   "id": "cea898fa",
   "metadata": {},
   "outputs": [],
   "source": [
    "df_event.groupby(\"user_id\").agg({\"rating\":sum}).sort_values(by=\"rating\").sum()"
   ]
  },
  {
   "cell_type": "code",
   "execution_count": null,
   "id": "06b54862",
   "metadata": {},
   "outputs": [],
   "source": [
    "df_event.groupby(\"user_id\").agg({\"rating\":sum}).sort_values(by=\"rating\").sum()"
   ]
  },
  {
   "cell_type": "code",
   "execution_count": null,
   "id": "63bebc7b",
   "metadata": {},
   "outputs": [],
   "source": [
    "df_rating.reset_index()"
   ]
  },
  {
   "cell_type": "code",
   "execution_count": null,
   "id": "c6fc8a6f",
   "metadata": {},
   "outputs": [],
   "source": [
    "svd = TruncatedSVD(n_components=75)\n",
    "latent_df_2 = svd.fit_transform(df_rating)"
   ]
  },
  {
   "cell_type": "code",
   "execution_count": null,
   "id": "15a466b4",
   "metadata": {},
   "outputs": [],
   "source": [
    "plt.plot(svd.explained_variance_ratio_.cumsum())\n",
    "plt.xlabel('number of singular value components')\n",
    "plt.ylabel('Cumulative percent of variance')   \n",
    "plt.grid()\n",
    "plt.show()"
   ]
  },
  {
   "cell_type": "code",
   "execution_count": null,
   "id": "d9e69064",
   "metadata": {},
   "outputs": [],
   "source": [
    "latent_df_2 = pd.DataFrame(latent_df_2, index=df_rating.reset_index().product_id.tolist())\n",
    "latent_df_2.head()"
   ]
  },
  {
   "cell_type": "code",
   "execution_count": null,
   "id": "dbc028d6",
   "metadata": {},
   "outputs": [],
   "source": [
    "latent_df_2.shape"
   ]
  },
  {
   "cell_type": "code",
   "execution_count": null,
   "id": "6592bd3c",
   "metadata": {},
   "outputs": [],
   "source": []
  },
  {
   "cell_type": "code",
   "execution_count": null,
   "id": "84a114d8",
   "metadata": {},
   "outputs": [],
   "source": []
  },
  {
   "cell_type": "code",
   "execution_count": null,
   "id": "597815dc",
   "metadata": {},
   "outputs": [],
   "source": []
  },
  {
   "cell_type": "code",
   "execution_count": 8,
   "id": "e514359d",
   "metadata": {},
   "outputs": [],
   "source": [
    "filename_latent_df_1 = '../data/latent_df_1_with_0.75_data_50_svd_components.csv'"
   ]
  },
  {
   "cell_type": "code",
   "execution_count": 9,
   "id": "e5b16abc",
   "metadata": {},
   "outputs": [],
   "source": [
    "filename_latent_df_2 = '../data/latent_df_2_with_0.75_data_100_svd_components.csv'"
   ]
  },
  {
   "cell_type": "code",
   "execution_count": 10,
   "id": "8989e189",
   "metadata": {},
   "outputs": [],
   "source": [
    "filename_meta = '../data/X_meta_with_0.75_data.csv'"
   ]
  },
  {
   "cell_type": "code",
   "execution_count": 11,
   "id": "b9ed6de9",
   "metadata": {},
   "outputs": [
    {
     "data": {
      "text/plain": [
       "(97678, 50)"
      ]
     },
     "execution_count": 11,
     "metadata": {},
     "output_type": "execute_result"
    }
   ],
   "source": [
    "latent_df_1 = pd.read_csv(\n",
    "         filename_latent_df_1, index_col=[0]\n",
    ")\n",
    "latent_df_1.shape"
   ]
  },
  {
   "cell_type": "code",
   "execution_count": 12,
   "id": "6b1ba535",
   "metadata": {},
   "outputs": [
    {
     "data": {
      "text/plain": [
       "(97678, 100)"
      ]
     },
     "execution_count": 12,
     "metadata": {},
     "output_type": "execute_result"
    }
   ],
   "source": [
    "latent_df_2 = pd.read_csv(\n",
    "         filename_latent_df_2, index_col=[0]\n",
    ")\n",
    "latent_df_2.shape"
   ]
  },
  {
   "cell_type": "code",
   "execution_count": 13,
   "id": "0cf6795f",
   "metadata": {},
   "outputs": [
    {
     "data": {
      "text/html": [
       "<div>\n",
       "<style scoped>\n",
       "    .dataframe tbody tr th:only-of-type {\n",
       "        vertical-align: middle;\n",
       "    }\n",
       "\n",
       "    .dataframe tbody tr th {\n",
       "        vertical-align: top;\n",
       "    }\n",
       "\n",
       "    .dataframe thead th {\n",
       "        text-align: right;\n",
       "    }\n",
       "</style>\n",
       "<table border=\"1\" class=\"dataframe\">\n",
       "  <thead>\n",
       "    <tr style=\"text-align: right;\">\n",
       "      <th></th>\n",
       "      <th>0</th>\n",
       "      <th>1</th>\n",
       "      <th>2</th>\n",
       "      <th>3</th>\n",
       "      <th>4</th>\n",
       "      <th>5</th>\n",
       "      <th>6</th>\n",
       "      <th>7</th>\n",
       "      <th>8</th>\n",
       "      <th>9</th>\n",
       "      <th>...</th>\n",
       "      <th>90</th>\n",
       "      <th>91</th>\n",
       "      <th>92</th>\n",
       "      <th>93</th>\n",
       "      <th>94</th>\n",
       "      <th>95</th>\n",
       "      <th>96</th>\n",
       "      <th>97</th>\n",
       "      <th>98</th>\n",
       "      <th>99</th>\n",
       "    </tr>\n",
       "  </thead>\n",
       "  <tbody>\n",
       "    <tr>\n",
       "      <th>1000894</th>\n",
       "      <td>-1.835656e-14</td>\n",
       "      <td>4.520790e-13</td>\n",
       "      <td>-7.985596e-13</td>\n",
       "      <td>-5.905201e-13</td>\n",
       "      <td>1.073430e-12</td>\n",
       "      <td>1.614425e-13</td>\n",
       "      <td>-1.716163e-12</td>\n",
       "      <td>-6.534994e-13</td>\n",
       "      <td>1.819376e-13</td>\n",
       "      <td>-8.999795e-13</td>\n",
       "      <td>...</td>\n",
       "      <td>-2.592643e-11</td>\n",
       "      <td>-2.201411e-10</td>\n",
       "      <td>-1.872037e-10</td>\n",
       "      <td>-2.487008e-10</td>\n",
       "      <td>-8.921736e-11</td>\n",
       "      <td>2.005085e-11</td>\n",
       "      <td>-2.275451e-10</td>\n",
       "      <td>4.343912e-10</td>\n",
       "      <td>-6.525066e-10</td>\n",
       "      <td>-3.039636e-10</td>\n",
       "    </tr>\n",
       "    <tr>\n",
       "      <th>1000978</th>\n",
       "      <td>-2.941788e-14</td>\n",
       "      <td>-1.021807e-13</td>\n",
       "      <td>-1.173152e-14</td>\n",
       "      <td>-2.816329e-13</td>\n",
       "      <td>1.834223e-12</td>\n",
       "      <td>3.979463e-13</td>\n",
       "      <td>1.633979e-12</td>\n",
       "      <td>-7.425283e-13</td>\n",
       "      <td>3.711580e-12</td>\n",
       "      <td>2.338082e-12</td>\n",
       "      <td>...</td>\n",
       "      <td>-4.022742e-11</td>\n",
       "      <td>-3.638857e-10</td>\n",
       "      <td>3.895402e-12</td>\n",
       "      <td>2.302426e-10</td>\n",
       "      <td>-1.132427e-10</td>\n",
       "      <td>5.862918e-11</td>\n",
       "      <td>-1.224797e-10</td>\n",
       "      <td>5.106937e-11</td>\n",
       "      <td>-1.402225e-10</td>\n",
       "      <td>2.274363e-11</td>\n",
       "    </tr>\n",
       "    <tr>\n",
       "      <th>1001588</th>\n",
       "      <td>3.516446e-14</td>\n",
       "      <td>6.643427e-13</td>\n",
       "      <td>5.443896e-13</td>\n",
       "      <td>5.595949e-13</td>\n",
       "      <td>8.009927e-13</td>\n",
       "      <td>-2.208433e-13</td>\n",
       "      <td>-8.459085e-14</td>\n",
       "      <td>3.144015e-13</td>\n",
       "      <td>9.922731e-13</td>\n",
       "      <td>-1.052064e-11</td>\n",
       "      <td>...</td>\n",
       "      <td>3.107847e-10</td>\n",
       "      <td>3.567679e-11</td>\n",
       "      <td>-4.318511e-10</td>\n",
       "      <td>-3.367824e-10</td>\n",
       "      <td>5.466734e-11</td>\n",
       "      <td>-1.559944e-10</td>\n",
       "      <td>1.840067e-10</td>\n",
       "      <td>2.248758e-10</td>\n",
       "      <td>-3.799162e-11</td>\n",
       "      <td>2.254247e-10</td>\n",
       "    </tr>\n",
       "    <tr>\n",
       "      <th>1001605</th>\n",
       "      <td>4.855821e-14</td>\n",
       "      <td>-3.268435e-13</td>\n",
       "      <td>-4.457225e-13</td>\n",
       "      <td>2.409434e-13</td>\n",
       "      <td>7.628716e-13</td>\n",
       "      <td>3.947373e-13</td>\n",
       "      <td>6.325431e-13</td>\n",
       "      <td>-1.888941e-12</td>\n",
       "      <td>3.595318e-12</td>\n",
       "      <td>-3.991449e-12</td>\n",
       "      <td>...</td>\n",
       "      <td>-9.184417e-11</td>\n",
       "      <td>2.393336e-10</td>\n",
       "      <td>6.375184e-12</td>\n",
       "      <td>2.030610e-10</td>\n",
       "      <td>-4.624885e-10</td>\n",
       "      <td>-1.592591e-10</td>\n",
       "      <td>-2.892722e-10</td>\n",
       "      <td>-3.349816e-10</td>\n",
       "      <td>3.388150e-10</td>\n",
       "      <td>-3.307759e-10</td>\n",
       "    </tr>\n",
       "    <tr>\n",
       "      <th>1001606</th>\n",
       "      <td>1.424618e-14</td>\n",
       "      <td>-8.109685e-14</td>\n",
       "      <td>3.457390e-13</td>\n",
       "      <td>-8.807927e-13</td>\n",
       "      <td>9.649459e-14</td>\n",
       "      <td>2.099010e-12</td>\n",
       "      <td>8.082827e-13</td>\n",
       "      <td>-2.844927e-13</td>\n",
       "      <td>2.039062e-12</td>\n",
       "      <td>5.939513e-12</td>\n",
       "      <td>...</td>\n",
       "      <td>-3.097525e-10</td>\n",
       "      <td>4.939785e-11</td>\n",
       "      <td>-4.056259e-10</td>\n",
       "      <td>-3.369652e-10</td>\n",
       "      <td>-9.648606e-12</td>\n",
       "      <td>-3.077545e-11</td>\n",
       "      <td>2.516165e-10</td>\n",
       "      <td>5.570320e-10</td>\n",
       "      <td>-3.096536e-10</td>\n",
       "      <td>2.338247e-10</td>\n",
       "    </tr>\n",
       "  </tbody>\n",
       "</table>\n",
       "<p>5 rows × 100 columns</p>\n",
       "</div>"
      ],
      "text/plain": [
       "                    0             1             2             3             4  \\\n",
       "1000894 -1.835656e-14  4.520790e-13 -7.985596e-13 -5.905201e-13  1.073430e-12   \n",
       "1000978 -2.941788e-14 -1.021807e-13 -1.173152e-14 -2.816329e-13  1.834223e-12   \n",
       "1001588  3.516446e-14  6.643427e-13  5.443896e-13  5.595949e-13  8.009927e-13   \n",
       "1001605  4.855821e-14 -3.268435e-13 -4.457225e-13  2.409434e-13  7.628716e-13   \n",
       "1001606  1.424618e-14 -8.109685e-14  3.457390e-13 -8.807927e-13  9.649459e-14   \n",
       "\n",
       "                    5             6             7             8             9  \\\n",
       "1000894  1.614425e-13 -1.716163e-12 -6.534994e-13  1.819376e-13 -8.999795e-13   \n",
       "1000978  3.979463e-13  1.633979e-12 -7.425283e-13  3.711580e-12  2.338082e-12   \n",
       "1001588 -2.208433e-13 -8.459085e-14  3.144015e-13  9.922731e-13 -1.052064e-11   \n",
       "1001605  3.947373e-13  6.325431e-13 -1.888941e-12  3.595318e-12 -3.991449e-12   \n",
       "1001606  2.099010e-12  8.082827e-13 -2.844927e-13  2.039062e-12  5.939513e-12   \n",
       "\n",
       "         ...            90            91            92            93  \\\n",
       "1000894  ... -2.592643e-11 -2.201411e-10 -1.872037e-10 -2.487008e-10   \n",
       "1000978  ... -4.022742e-11 -3.638857e-10  3.895402e-12  2.302426e-10   \n",
       "1001588  ...  3.107847e-10  3.567679e-11 -4.318511e-10 -3.367824e-10   \n",
       "1001605  ... -9.184417e-11  2.393336e-10  6.375184e-12  2.030610e-10   \n",
       "1001606  ... -3.097525e-10  4.939785e-11 -4.056259e-10 -3.369652e-10   \n",
       "\n",
       "                   94            95            96            97            98  \\\n",
       "1000894 -8.921736e-11  2.005085e-11 -2.275451e-10  4.343912e-10 -6.525066e-10   \n",
       "1000978 -1.132427e-10  5.862918e-11 -1.224797e-10  5.106937e-11 -1.402225e-10   \n",
       "1001588  5.466734e-11 -1.559944e-10  1.840067e-10  2.248758e-10 -3.799162e-11   \n",
       "1001605 -4.624885e-10 -1.592591e-10 -2.892722e-10 -3.349816e-10  3.388150e-10   \n",
       "1001606 -9.648606e-12 -3.077545e-11  2.516165e-10  5.570320e-10 -3.096536e-10   \n",
       "\n",
       "                   99  \n",
       "1000894 -3.039636e-10  \n",
       "1000978  2.274363e-11  \n",
       "1001588  2.254247e-10  \n",
       "1001605 -3.307759e-10  \n",
       "1001606  2.338247e-10  \n",
       "\n",
       "[5 rows x 100 columns]"
      ]
     },
     "execution_count": 13,
     "metadata": {},
     "output_type": "execute_result"
    }
   ],
   "source": [
    "latent_df_2.head()"
   ]
  },
  {
   "cell_type": "code",
   "execution_count": 57,
   "id": "dabc713a",
   "metadata": {},
   "outputs": [],
   "source": [
    "X_meta = pd.read_csv(\n",
    "         filename_meta, index_col=[0]\n",
    ")"
   ]
  },
  {
   "cell_type": "code",
   "execution_count": 64,
   "id": "96786f95",
   "metadata": {},
   "outputs": [],
   "source": [
    "X_meta = X_meta[['product_id.1', 'price', 'metadata']]\n",
    "X_meta.rename(columns={'product_id.1': 'product_id'}, inplace=True)\n",
    "# X_meta.columns['product_id', 'price', 'metadata']"
   ]
  },
  {
   "cell_type": "code",
   "execution_count": 65,
   "id": "2c32a21d",
   "metadata": {},
   "outputs": [
    {
     "data": {
      "text/html": [
       "<div>\n",
       "<style scoped>\n",
       "    .dataframe tbody tr th:only-of-type {\n",
       "        vertical-align: middle;\n",
       "    }\n",
       "\n",
       "    .dataframe tbody tr th {\n",
       "        vertical-align: top;\n",
       "    }\n",
       "\n",
       "    .dataframe thead th {\n",
       "        text-align: right;\n",
       "    }\n",
       "</style>\n",
       "<table border=\"1\" class=\"dataframe\">\n",
       "  <thead>\n",
       "    <tr style=\"text-align: right;\">\n",
       "      <th></th>\n",
       "      <th>product_id</th>\n",
       "      <th>price</th>\n",
       "      <th>metadata</th>\n",
       "    </tr>\n",
       "    <tr>\n",
       "      <th>product_id</th>\n",
       "      <th></th>\n",
       "      <th></th>\n",
       "      <th></th>\n",
       "    </tr>\n",
       "  </thead>\n",
       "  <tbody>\n",
       "    <tr>\n",
       "      <th>28400014</th>\n",
       "      <td>28400014</td>\n",
       "      <td>32.95</td>\n",
       "      <td>accessories bag roncato medium</td>\n",
       "    </tr>\n",
       "    <tr>\n",
       "      <th>52100003</th>\n",
       "      <td>52100003</td>\n",
       "      <td>86.21</td>\n",
       "      <td>accessories bag nike high</td>\n",
       "    </tr>\n",
       "    <tr>\n",
       "      <th>16000911</th>\n",
       "      <td>16000911</td>\n",
       "      <td>24.51</td>\n",
       "      <td>accessories bag metrot low</td>\n",
       "    </tr>\n",
       "    <tr>\n",
       "      <th>16200339</th>\n",
       "      <td>16200339</td>\n",
       "      <td>17.50</td>\n",
       "      <td>accessories bag huggies low</td>\n",
       "    </tr>\n",
       "    <tr>\n",
       "      <th>16200278</th>\n",
       "      <td>16200278</td>\n",
       "      <td>4.07</td>\n",
       "      <td>accessories bag huggies low</td>\n",
       "    </tr>\n",
       "  </tbody>\n",
       "</table>\n",
       "</div>"
      ],
      "text/plain": [
       "            product_id  price                        metadata\n",
       "product_id                                                   \n",
       "28400014      28400014  32.95  accessories bag roncato medium\n",
       "52100003      52100003  86.21       accessories bag nike high\n",
       "16000911      16000911  24.51      accessories bag metrot low\n",
       "16200339      16200339  17.50     accessories bag huggies low\n",
       "16200278      16200278   4.07     accessories bag huggies low"
      ]
     },
     "execution_count": 65,
     "metadata": {},
     "output_type": "execute_result"
    }
   ],
   "source": [
    "X_meta.head()"
   ]
  },
  {
   "cell_type": "code",
   "execution_count": 66,
   "id": "84b97ccb",
   "metadata": {},
   "outputs": [],
   "source": [
    "# X_meta.drop(columns='product_id.1', inplace=True)"
   ]
  },
  {
   "cell_type": "code",
   "execution_count": 67,
   "id": "5b426809",
   "metadata": {},
   "outputs": [
    {
     "data": {
      "text/html": [
       "<div>\n",
       "<style scoped>\n",
       "    .dataframe tbody tr th:only-of-type {\n",
       "        vertical-align: middle;\n",
       "    }\n",
       "\n",
       "    .dataframe tbody tr th {\n",
       "        vertical-align: top;\n",
       "    }\n",
       "\n",
       "    .dataframe thead th {\n",
       "        text-align: right;\n",
       "    }\n",
       "</style>\n",
       "<table border=\"1\" class=\"dataframe\">\n",
       "  <thead>\n",
       "    <tr style=\"text-align: right;\">\n",
       "      <th></th>\n",
       "      <th>product_id</th>\n",
       "      <th>price</th>\n",
       "      <th>metadata</th>\n",
       "    </tr>\n",
       "    <tr>\n",
       "      <th>product_id</th>\n",
       "      <th></th>\n",
       "      <th></th>\n",
       "      <th></th>\n",
       "    </tr>\n",
       "  </thead>\n",
       "  <tbody>\n",
       "    <tr>\n",
       "      <th>28400014</th>\n",
       "      <td>28400014</td>\n",
       "      <td>32.95</td>\n",
       "      <td>accessories bag roncato medium</td>\n",
       "    </tr>\n",
       "    <tr>\n",
       "      <th>52100003</th>\n",
       "      <td>52100003</td>\n",
       "      <td>86.21</td>\n",
       "      <td>accessories bag nike high</td>\n",
       "    </tr>\n",
       "    <tr>\n",
       "      <th>16000911</th>\n",
       "      <td>16000911</td>\n",
       "      <td>24.51</td>\n",
       "      <td>accessories bag metrot low</td>\n",
       "    </tr>\n",
       "    <tr>\n",
       "      <th>16200339</th>\n",
       "      <td>16200339</td>\n",
       "      <td>17.50</td>\n",
       "      <td>accessories bag huggies low</td>\n",
       "    </tr>\n",
       "    <tr>\n",
       "      <th>16200278</th>\n",
       "      <td>16200278</td>\n",
       "      <td>4.07</td>\n",
       "      <td>accessories bag huggies low</td>\n",
       "    </tr>\n",
       "  </tbody>\n",
       "</table>\n",
       "</div>"
      ],
      "text/plain": [
       "            product_id  price                        metadata\n",
       "product_id                                                   \n",
       "28400014      28400014  32.95  accessories bag roncato medium\n",
       "52100003      52100003  86.21       accessories bag nike high\n",
       "16000911      16000911  24.51      accessories bag metrot low\n",
       "16200339      16200339  17.50     accessories bag huggies low\n",
       "16200278      16200278   4.07     accessories bag huggies low"
      ]
     },
     "execution_count": 67,
     "metadata": {},
     "output_type": "execute_result"
    }
   ],
   "source": [
    "X_meta.head()"
   ]
  },
  {
   "cell_type": "code",
   "execution_count": 68,
   "id": "690ea5df",
   "metadata": {},
   "outputs": [
    {
     "data": {
      "text/html": [
       "<div>\n",
       "<style scoped>\n",
       "    .dataframe tbody tr th:only-of-type {\n",
       "        vertical-align: middle;\n",
       "    }\n",
       "\n",
       "    .dataframe tbody tr th {\n",
       "        vertical-align: top;\n",
       "    }\n",
       "\n",
       "    .dataframe thead th {\n",
       "        text-align: right;\n",
       "    }\n",
       "</style>\n",
       "<table border=\"1\" class=\"dataframe\">\n",
       "  <thead>\n",
       "    <tr style=\"text-align: right;\">\n",
       "      <th></th>\n",
       "      <th>0</th>\n",
       "      <th>1</th>\n",
       "      <th>2</th>\n",
       "      <th>3</th>\n",
       "      <th>4</th>\n",
       "      <th>5</th>\n",
       "      <th>6</th>\n",
       "      <th>7</th>\n",
       "      <th>8</th>\n",
       "      <th>9</th>\n",
       "      <th>...</th>\n",
       "      <th>40</th>\n",
       "      <th>41</th>\n",
       "      <th>42</th>\n",
       "      <th>43</th>\n",
       "      <th>44</th>\n",
       "      <th>45</th>\n",
       "      <th>46</th>\n",
       "      <th>47</th>\n",
       "      <th>48</th>\n",
       "      <th>49</th>\n",
       "    </tr>\n",
       "  </thead>\n",
       "  <tbody>\n",
       "    <tr>\n",
       "      <th>1000894</th>\n",
       "      <td>0.479679</td>\n",
       "      <td>0.703705</td>\n",
       "      <td>-0.347103</td>\n",
       "      <td>-0.527718</td>\n",
       "      <td>0.653986</td>\n",
       "      <td>-0.486690</td>\n",
       "      <td>-0.036662</td>\n",
       "      <td>-0.083995</td>\n",
       "      <td>-0.047555</td>\n",
       "      <td>-0.044862</td>\n",
       "      <td>...</td>\n",
       "      <td>0.054260</td>\n",
       "      <td>0.190516</td>\n",
       "      <td>0.025682</td>\n",
       "      <td>-0.011648</td>\n",
       "      <td>-0.058354</td>\n",
       "      <td>0.053954</td>\n",
       "      <td>0.362089</td>\n",
       "      <td>-0.295604</td>\n",
       "      <td>-0.150441</td>\n",
       "      <td>0.200665</td>\n",
       "    </tr>\n",
       "    <tr>\n",
       "      <th>1000978</th>\n",
       "      <td>1.177724</td>\n",
       "      <td>-0.324887</td>\n",
       "      <td>0.813880</td>\n",
       "      <td>-0.550515</td>\n",
       "      <td>-0.759678</td>\n",
       "      <td>-0.284363</td>\n",
       "      <td>-0.160556</td>\n",
       "      <td>-0.054464</td>\n",
       "      <td>-0.050674</td>\n",
       "      <td>-0.090830</td>\n",
       "      <td>...</td>\n",
       "      <td>-0.002556</td>\n",
       "      <td>0.341302</td>\n",
       "      <td>0.000729</td>\n",
       "      <td>0.066601</td>\n",
       "      <td>-0.008678</td>\n",
       "      <td>0.103298</td>\n",
       "      <td>0.208929</td>\n",
       "      <td>-0.285964</td>\n",
       "      <td>-0.170319</td>\n",
       "      <td>0.338000</td>\n",
       "    </tr>\n",
       "    <tr>\n",
       "      <th>1001588</th>\n",
       "      <td>0.469582</td>\n",
       "      <td>0.767302</td>\n",
       "      <td>-0.390873</td>\n",
       "      <td>-0.540211</td>\n",
       "      <td>0.255217</td>\n",
       "      <td>0.894777</td>\n",
       "      <td>-0.774265</td>\n",
       "      <td>-0.731184</td>\n",
       "      <td>-0.122050</td>\n",
       "      <td>-0.120928</td>\n",
       "      <td>...</td>\n",
       "      <td>0.002785</td>\n",
       "      <td>-0.029138</td>\n",
       "      <td>0.009288</td>\n",
       "      <td>-0.003077</td>\n",
       "      <td>-0.001505</td>\n",
       "      <td>-0.019884</td>\n",
       "      <td>-0.050599</td>\n",
       "      <td>-0.020738</td>\n",
       "      <td>0.003819</td>\n",
       "      <td>0.016766</td>\n",
       "    </tr>\n",
       "    <tr>\n",
       "      <th>1001605</th>\n",
       "      <td>0.410104</td>\n",
       "      <td>0.302438</td>\n",
       "      <td>0.591097</td>\n",
       "      <td>0.386202</td>\n",
       "      <td>0.975642</td>\n",
       "      <td>-0.309749</td>\n",
       "      <td>-0.028792</td>\n",
       "      <td>-0.085603</td>\n",
       "      <td>-0.038355</td>\n",
       "      <td>-0.016856</td>\n",
       "      <td>...</td>\n",
       "      <td>0.045989</td>\n",
       "      <td>0.347607</td>\n",
       "      <td>0.073013</td>\n",
       "      <td>0.013252</td>\n",
       "      <td>-0.056804</td>\n",
       "      <td>0.067532</td>\n",
       "      <td>0.344986</td>\n",
       "      <td>-0.303446</td>\n",
       "      <td>-0.117945</td>\n",
       "      <td>0.161882</td>\n",
       "    </tr>\n",
       "    <tr>\n",
       "      <th>1001606</th>\n",
       "      <td>0.410104</td>\n",
       "      <td>0.302438</td>\n",
       "      <td>0.591097</td>\n",
       "      <td>0.386202</td>\n",
       "      <td>0.975642</td>\n",
       "      <td>-0.309749</td>\n",
       "      <td>-0.028792</td>\n",
       "      <td>-0.085603</td>\n",
       "      <td>-0.038355</td>\n",
       "      <td>-0.016856</td>\n",
       "      <td>...</td>\n",
       "      <td>0.045989</td>\n",
       "      <td>0.347607</td>\n",
       "      <td>0.073013</td>\n",
       "      <td>0.013252</td>\n",
       "      <td>-0.056804</td>\n",
       "      <td>0.067532</td>\n",
       "      <td>0.344986</td>\n",
       "      <td>-0.303446</td>\n",
       "      <td>-0.117945</td>\n",
       "      <td>0.161882</td>\n",
       "    </tr>\n",
       "  </tbody>\n",
       "</table>\n",
       "<p>5 rows × 50 columns</p>\n",
       "</div>"
      ],
      "text/plain": [
       "                0         1         2         3         4         5         6  \\\n",
       "1000894  0.479679  0.703705 -0.347103 -0.527718  0.653986 -0.486690 -0.036662   \n",
       "1000978  1.177724 -0.324887  0.813880 -0.550515 -0.759678 -0.284363 -0.160556   \n",
       "1001588  0.469582  0.767302 -0.390873 -0.540211  0.255217  0.894777 -0.774265   \n",
       "1001605  0.410104  0.302438  0.591097  0.386202  0.975642 -0.309749 -0.028792   \n",
       "1001606  0.410104  0.302438  0.591097  0.386202  0.975642 -0.309749 -0.028792   \n",
       "\n",
       "                7         8         9  ...        40        41        42  \\\n",
       "1000894 -0.083995 -0.047555 -0.044862  ...  0.054260  0.190516  0.025682   \n",
       "1000978 -0.054464 -0.050674 -0.090830  ... -0.002556  0.341302  0.000729   \n",
       "1001588 -0.731184 -0.122050 -0.120928  ...  0.002785 -0.029138  0.009288   \n",
       "1001605 -0.085603 -0.038355 -0.016856  ...  0.045989  0.347607  0.073013   \n",
       "1001606 -0.085603 -0.038355 -0.016856  ...  0.045989  0.347607  0.073013   \n",
       "\n",
       "               43        44        45        46        47        48        49  \n",
       "1000894 -0.011648 -0.058354  0.053954  0.362089 -0.295604 -0.150441  0.200665  \n",
       "1000978  0.066601 -0.008678  0.103298  0.208929 -0.285964 -0.170319  0.338000  \n",
       "1001588 -0.003077 -0.001505 -0.019884 -0.050599 -0.020738  0.003819  0.016766  \n",
       "1001605  0.013252 -0.056804  0.067532  0.344986 -0.303446 -0.117945  0.161882  \n",
       "1001606  0.013252 -0.056804  0.067532  0.344986 -0.303446 -0.117945  0.161882  \n",
       "\n",
       "[5 rows x 50 columns]"
      ]
     },
     "execution_count": 68,
     "metadata": {},
     "output_type": "execute_result"
    }
   ],
   "source": [
    "latent_df_1.head()"
   ]
  },
  {
   "cell_type": "code",
   "execution_count": 69,
   "id": "9da5bee6",
   "metadata": {},
   "outputs": [
    {
     "data": {
      "text/html": [
       "<div>\n",
       "<style scoped>\n",
       "    .dataframe tbody tr th:only-of-type {\n",
       "        vertical-align: middle;\n",
       "    }\n",
       "\n",
       "    .dataframe tbody tr th {\n",
       "        vertical-align: top;\n",
       "    }\n",
       "\n",
       "    .dataframe thead th {\n",
       "        text-align: right;\n",
       "    }\n",
       "</style>\n",
       "<table border=\"1\" class=\"dataframe\">\n",
       "  <thead>\n",
       "    <tr style=\"text-align: right;\">\n",
       "      <th></th>\n",
       "      <th>0</th>\n",
       "      <th>1</th>\n",
       "      <th>2</th>\n",
       "      <th>3</th>\n",
       "      <th>4</th>\n",
       "      <th>5</th>\n",
       "      <th>6</th>\n",
       "      <th>7</th>\n",
       "      <th>8</th>\n",
       "      <th>9</th>\n",
       "      <th>...</th>\n",
       "      <th>90</th>\n",
       "      <th>91</th>\n",
       "      <th>92</th>\n",
       "      <th>93</th>\n",
       "      <th>94</th>\n",
       "      <th>95</th>\n",
       "      <th>96</th>\n",
       "      <th>97</th>\n",
       "      <th>98</th>\n",
       "      <th>99</th>\n",
       "    </tr>\n",
       "  </thead>\n",
       "  <tbody>\n",
       "    <tr>\n",
       "      <th>1000894</th>\n",
       "      <td>-1.835656e-14</td>\n",
       "      <td>4.520790e-13</td>\n",
       "      <td>-7.985596e-13</td>\n",
       "      <td>-5.905201e-13</td>\n",
       "      <td>1.073430e-12</td>\n",
       "      <td>1.614425e-13</td>\n",
       "      <td>-1.716163e-12</td>\n",
       "      <td>-6.534994e-13</td>\n",
       "      <td>1.819376e-13</td>\n",
       "      <td>-8.999795e-13</td>\n",
       "      <td>...</td>\n",
       "      <td>-2.592643e-11</td>\n",
       "      <td>-2.201411e-10</td>\n",
       "      <td>-1.872037e-10</td>\n",
       "      <td>-2.487008e-10</td>\n",
       "      <td>-8.921736e-11</td>\n",
       "      <td>2.005085e-11</td>\n",
       "      <td>-2.275451e-10</td>\n",
       "      <td>4.343912e-10</td>\n",
       "      <td>-6.525066e-10</td>\n",
       "      <td>-3.039636e-10</td>\n",
       "    </tr>\n",
       "    <tr>\n",
       "      <th>1000978</th>\n",
       "      <td>-2.941788e-14</td>\n",
       "      <td>-1.021807e-13</td>\n",
       "      <td>-1.173152e-14</td>\n",
       "      <td>-2.816329e-13</td>\n",
       "      <td>1.834223e-12</td>\n",
       "      <td>3.979463e-13</td>\n",
       "      <td>1.633979e-12</td>\n",
       "      <td>-7.425283e-13</td>\n",
       "      <td>3.711580e-12</td>\n",
       "      <td>2.338082e-12</td>\n",
       "      <td>...</td>\n",
       "      <td>-4.022742e-11</td>\n",
       "      <td>-3.638857e-10</td>\n",
       "      <td>3.895402e-12</td>\n",
       "      <td>2.302426e-10</td>\n",
       "      <td>-1.132427e-10</td>\n",
       "      <td>5.862918e-11</td>\n",
       "      <td>-1.224797e-10</td>\n",
       "      <td>5.106937e-11</td>\n",
       "      <td>-1.402225e-10</td>\n",
       "      <td>2.274363e-11</td>\n",
       "    </tr>\n",
       "    <tr>\n",
       "      <th>1001588</th>\n",
       "      <td>3.516446e-14</td>\n",
       "      <td>6.643427e-13</td>\n",
       "      <td>5.443896e-13</td>\n",
       "      <td>5.595949e-13</td>\n",
       "      <td>8.009927e-13</td>\n",
       "      <td>-2.208433e-13</td>\n",
       "      <td>-8.459085e-14</td>\n",
       "      <td>3.144015e-13</td>\n",
       "      <td>9.922731e-13</td>\n",
       "      <td>-1.052064e-11</td>\n",
       "      <td>...</td>\n",
       "      <td>3.107847e-10</td>\n",
       "      <td>3.567679e-11</td>\n",
       "      <td>-4.318511e-10</td>\n",
       "      <td>-3.367824e-10</td>\n",
       "      <td>5.466734e-11</td>\n",
       "      <td>-1.559944e-10</td>\n",
       "      <td>1.840067e-10</td>\n",
       "      <td>2.248758e-10</td>\n",
       "      <td>-3.799162e-11</td>\n",
       "      <td>2.254247e-10</td>\n",
       "    </tr>\n",
       "    <tr>\n",
       "      <th>1001605</th>\n",
       "      <td>4.855821e-14</td>\n",
       "      <td>-3.268435e-13</td>\n",
       "      <td>-4.457225e-13</td>\n",
       "      <td>2.409434e-13</td>\n",
       "      <td>7.628716e-13</td>\n",
       "      <td>3.947373e-13</td>\n",
       "      <td>6.325431e-13</td>\n",
       "      <td>-1.888941e-12</td>\n",
       "      <td>3.595318e-12</td>\n",
       "      <td>-3.991449e-12</td>\n",
       "      <td>...</td>\n",
       "      <td>-9.184417e-11</td>\n",
       "      <td>2.393336e-10</td>\n",
       "      <td>6.375184e-12</td>\n",
       "      <td>2.030610e-10</td>\n",
       "      <td>-4.624885e-10</td>\n",
       "      <td>-1.592591e-10</td>\n",
       "      <td>-2.892722e-10</td>\n",
       "      <td>-3.349816e-10</td>\n",
       "      <td>3.388150e-10</td>\n",
       "      <td>-3.307759e-10</td>\n",
       "    </tr>\n",
       "    <tr>\n",
       "      <th>1001606</th>\n",
       "      <td>1.424618e-14</td>\n",
       "      <td>-8.109685e-14</td>\n",
       "      <td>3.457390e-13</td>\n",
       "      <td>-8.807927e-13</td>\n",
       "      <td>9.649459e-14</td>\n",
       "      <td>2.099010e-12</td>\n",
       "      <td>8.082827e-13</td>\n",
       "      <td>-2.844927e-13</td>\n",
       "      <td>2.039062e-12</td>\n",
       "      <td>5.939513e-12</td>\n",
       "      <td>...</td>\n",
       "      <td>-3.097525e-10</td>\n",
       "      <td>4.939785e-11</td>\n",
       "      <td>-4.056259e-10</td>\n",
       "      <td>-3.369652e-10</td>\n",
       "      <td>-9.648606e-12</td>\n",
       "      <td>-3.077545e-11</td>\n",
       "      <td>2.516165e-10</td>\n",
       "      <td>5.570320e-10</td>\n",
       "      <td>-3.096536e-10</td>\n",
       "      <td>2.338247e-10</td>\n",
       "    </tr>\n",
       "  </tbody>\n",
       "</table>\n",
       "<p>5 rows × 100 columns</p>\n",
       "</div>"
      ],
      "text/plain": [
       "                    0             1             2             3             4  \\\n",
       "1000894 -1.835656e-14  4.520790e-13 -7.985596e-13 -5.905201e-13  1.073430e-12   \n",
       "1000978 -2.941788e-14 -1.021807e-13 -1.173152e-14 -2.816329e-13  1.834223e-12   \n",
       "1001588  3.516446e-14  6.643427e-13  5.443896e-13  5.595949e-13  8.009927e-13   \n",
       "1001605  4.855821e-14 -3.268435e-13 -4.457225e-13  2.409434e-13  7.628716e-13   \n",
       "1001606  1.424618e-14 -8.109685e-14  3.457390e-13 -8.807927e-13  9.649459e-14   \n",
       "\n",
       "                    5             6             7             8             9  \\\n",
       "1000894  1.614425e-13 -1.716163e-12 -6.534994e-13  1.819376e-13 -8.999795e-13   \n",
       "1000978  3.979463e-13  1.633979e-12 -7.425283e-13  3.711580e-12  2.338082e-12   \n",
       "1001588 -2.208433e-13 -8.459085e-14  3.144015e-13  9.922731e-13 -1.052064e-11   \n",
       "1001605  3.947373e-13  6.325431e-13 -1.888941e-12  3.595318e-12 -3.991449e-12   \n",
       "1001606  2.099010e-12  8.082827e-13 -2.844927e-13  2.039062e-12  5.939513e-12   \n",
       "\n",
       "         ...            90            91            92            93  \\\n",
       "1000894  ... -2.592643e-11 -2.201411e-10 -1.872037e-10 -2.487008e-10   \n",
       "1000978  ... -4.022742e-11 -3.638857e-10  3.895402e-12  2.302426e-10   \n",
       "1001588  ...  3.107847e-10  3.567679e-11 -4.318511e-10 -3.367824e-10   \n",
       "1001605  ... -9.184417e-11  2.393336e-10  6.375184e-12  2.030610e-10   \n",
       "1001606  ... -3.097525e-10  4.939785e-11 -4.056259e-10 -3.369652e-10   \n",
       "\n",
       "                   94            95            96            97            98  \\\n",
       "1000894 -8.921736e-11  2.005085e-11 -2.275451e-10  4.343912e-10 -6.525066e-10   \n",
       "1000978 -1.132427e-10  5.862918e-11 -1.224797e-10  5.106937e-11 -1.402225e-10   \n",
       "1001588  5.466734e-11 -1.559944e-10  1.840067e-10  2.248758e-10 -3.799162e-11   \n",
       "1001605 -4.624885e-10 -1.592591e-10 -2.892722e-10 -3.349816e-10  3.388150e-10   \n",
       "1001606 -9.648606e-12 -3.077545e-11  2.516165e-10  5.570320e-10 -3.096536e-10   \n",
       "\n",
       "                   99  \n",
       "1000894 -3.039636e-10  \n",
       "1000978  2.274363e-11  \n",
       "1001588  2.254247e-10  \n",
       "1001605 -3.307759e-10  \n",
       "1001606  2.338247e-10  \n",
       "\n",
       "[5 rows x 100 columns]"
      ]
     },
     "execution_count": 69,
     "metadata": {},
     "output_type": "execute_result"
    }
   ],
   "source": [
    "latent_df_2.head()"
   ]
  },
  {
   "cell_type": "markdown",
   "id": "89e74e25",
   "metadata": {},
   "source": [
    "# Apply Cosine Similarity in Content and Collaborative Matrices\n"
   ]
  },
  {
   "cell_type": "code",
   "execution_count": 20,
   "id": "8e73abf3",
   "metadata": {},
   "outputs": [],
   "source": [
    "product_id=52100003"
   ]
  },
  {
   "cell_type": "code",
   "execution_count": 21,
   "id": "7387165f",
   "metadata": {},
   "outputs": [],
   "source": [
    "# Get the latent vectors for \"Toy Story\" from content and collaborative matrices\n",
    "v1 = np.array(latent_df_1.loc[product_id]).reshape(1, -1)\n",
    "v2 = np.array(latent_df_2.loc[product_id]).reshape(1, -1)\n",
    "\n",
    "# Compute the cosine similarity of this movie with the others in the list\n",
    "sim1 = cosine_similarity(latent_df_1, v1).reshape(-1)\n",
    "sim2 = cosine_similarity(latent_df_2, v2).reshape(-1)"
   ]
  },
  {
   "cell_type": "code",
   "execution_count": 22,
   "id": "4b4e7328",
   "metadata": {},
   "outputs": [],
   "source": [
    "dictDf_1 = {'features': sim1} \n",
    "recommendation_df_1 = pd.DataFrame(dictDf_1, index = latent_df_1.index)\n",
    "# recommendation_df_1.sort_values('features', ascending=False, inplace=True)"
   ]
  },
  {
   "cell_type": "code",
   "execution_count": 23,
   "id": "5a04c1b5",
   "metadata": {},
   "outputs": [],
   "source": [
    "dictDf_2 = {'ratings': sim2} \n",
    "recommendation_df_2 = pd.DataFrame(dictDf_2, index = latent_df_2.index)\n",
    "# recommendation_df_2.sort_values('ratings', ascending=False, inplace=True)"
   ]
  },
  {
   "cell_type": "code",
   "execution_count": 24,
   "id": "37ca2588",
   "metadata": {},
   "outputs": [],
   "source": [
    "weight_features = 0.8"
   ]
  },
  {
   "cell_type": "code",
   "execution_count": 25,
   "id": "8a3c8ee2",
   "metadata": {},
   "outputs": [],
   "source": [
    "recommendation_combined = pd.merge(recommendation_df_1, recommendation_df_2, left_index=True, right_index=True)\n",
    "recommendation_combined['hybrid'] = ((weight_features*recommendation_combined['features'] + (1-weight_features)*recommendation_combined['ratings']))"
   ]
  },
  {
   "cell_type": "code",
   "execution_count": 26,
   "id": "fcf426d9",
   "metadata": {},
   "outputs": [
    {
     "data": {
      "text/html": [
       "<div>\n",
       "<style scoped>\n",
       "    .dataframe tbody tr th:only-of-type {\n",
       "        vertical-align: middle;\n",
       "    }\n",
       "\n",
       "    .dataframe tbody tr th {\n",
       "        vertical-align: top;\n",
       "    }\n",
       "\n",
       "    .dataframe thead th {\n",
       "        text-align: right;\n",
       "    }\n",
       "</style>\n",
       "<table border=\"1\" class=\"dataframe\">\n",
       "  <thead>\n",
       "    <tr style=\"text-align: right;\">\n",
       "      <th></th>\n",
       "      <th>features</th>\n",
       "      <th>ratings</th>\n",
       "      <th>hybrid</th>\n",
       "    </tr>\n",
       "  </thead>\n",
       "  <tbody>\n",
       "    <tr>\n",
       "      <th>52100003</th>\n",
       "      <td>1.000000</td>\n",
       "      <td>1.000000</td>\n",
       "      <td>1.000000</td>\n",
       "    </tr>\n",
       "    <tr>\n",
       "      <th>26205459</th>\n",
       "      <td>0.284285</td>\n",
       "      <td>0.504078</td>\n",
       "      <td>0.328244</td>\n",
       "    </tr>\n",
       "    <tr>\n",
       "      <th>100045198</th>\n",
       "      <td>0.284285</td>\n",
       "      <td>0.504078</td>\n",
       "      <td>0.328244</td>\n",
       "    </tr>\n",
       "    <tr>\n",
       "      <th>100013032</th>\n",
       "      <td>0.028050</td>\n",
       "      <td>0.495124</td>\n",
       "      <td>0.121464</td>\n",
       "    </tr>\n",
       "    <tr>\n",
       "      <th>21411667</th>\n",
       "      <td>0.000459</td>\n",
       "      <td>0.492685</td>\n",
       "      <td>0.098905</td>\n",
       "    </tr>\n",
       "    <tr>\n",
       "      <th>...</th>\n",
       "      <td>...</td>\n",
       "      <td>...</td>\n",
       "      <td>...</td>\n",
       "    </tr>\n",
       "    <tr>\n",
       "      <th>21412040</th>\n",
       "      <td>0.333792</td>\n",
       "      <td>-0.492154</td>\n",
       "      <td>0.168603</td>\n",
       "    </tr>\n",
       "    <tr>\n",
       "      <th>21402544</th>\n",
       "      <td>-0.000405</td>\n",
       "      <td>-0.492154</td>\n",
       "      <td>-0.098755</td>\n",
       "    </tr>\n",
       "    <tr>\n",
       "      <th>45601227</th>\n",
       "      <td>0.003253</td>\n",
       "      <td>-0.496981</td>\n",
       "      <td>-0.096794</td>\n",
       "    </tr>\n",
       "    <tr>\n",
       "      <th>25100316</th>\n",
       "      <td>0.001559</td>\n",
       "      <td>-0.536462</td>\n",
       "      <td>-0.106045</td>\n",
       "    </tr>\n",
       "    <tr>\n",
       "      <th>25100318</th>\n",
       "      <td>0.001559</td>\n",
       "      <td>-0.536462</td>\n",
       "      <td>-0.106045</td>\n",
       "    </tr>\n",
       "  </tbody>\n",
       "</table>\n",
       "<p>97678 rows × 3 columns</p>\n",
       "</div>"
      ],
      "text/plain": [
       "           features   ratings    hybrid\n",
       "52100003   1.000000  1.000000  1.000000\n",
       "26205459   0.284285  0.504078  0.328244\n",
       "100045198  0.284285  0.504078  0.328244\n",
       "100013032  0.028050  0.495124  0.121464\n",
       "21411667   0.000459  0.492685  0.098905\n",
       "...             ...       ...       ...\n",
       "21412040   0.333792 -0.492154  0.168603\n",
       "21402544  -0.000405 -0.492154 -0.098755\n",
       "45601227   0.003253 -0.496981 -0.096794\n",
       "25100316   0.001559 -0.536462 -0.106045\n",
       "25100318   0.001559 -0.536462 -0.106045\n",
       "\n",
       "[97678 rows x 3 columns]"
      ]
     },
     "execution_count": 26,
     "metadata": {},
     "output_type": "execute_result"
    }
   ],
   "source": [
    "recommendation_combined.sort_values('ratings', ascending=False, inplace=True)\n",
    "recommendation_combined"
   ]
  },
  {
   "cell_type": "code",
   "execution_count": 27,
   "id": "883eade5",
   "metadata": {},
   "outputs": [
    {
     "data": {
      "text/html": [
       "<div>\n",
       "<style scoped>\n",
       "    .dataframe tbody tr th:only-of-type {\n",
       "        vertical-align: middle;\n",
       "    }\n",
       "\n",
       "    .dataframe tbody tr th {\n",
       "        vertical-align: top;\n",
       "    }\n",
       "\n",
       "    .dataframe thead th {\n",
       "        text-align: right;\n",
       "    }\n",
       "</style>\n",
       "<table border=\"1\" class=\"dataframe\">\n",
       "  <thead>\n",
       "    <tr style=\"text-align: right;\">\n",
       "      <th></th>\n",
       "      <th>features</th>\n",
       "      <th>ratings</th>\n",
       "      <th>hybrid</th>\n",
       "    </tr>\n",
       "  </thead>\n",
       "  <tbody>\n",
       "    <tr>\n",
       "      <th>52100003</th>\n",
       "      <td>1.000000</td>\n",
       "      <td>1.000000</td>\n",
       "      <td>1.000000</td>\n",
       "    </tr>\n",
       "    <tr>\n",
       "      <th>26205459</th>\n",
       "      <td>0.284285</td>\n",
       "      <td>0.504078</td>\n",
       "      <td>0.328244</td>\n",
       "    </tr>\n",
       "    <tr>\n",
       "      <th>100045198</th>\n",
       "      <td>0.284285</td>\n",
       "      <td>0.504078</td>\n",
       "      <td>0.328244</td>\n",
       "    </tr>\n",
       "    <tr>\n",
       "      <th>100013032</th>\n",
       "      <td>0.028050</td>\n",
       "      <td>0.495124</td>\n",
       "      <td>0.121464</td>\n",
       "    </tr>\n",
       "    <tr>\n",
       "      <th>21411667</th>\n",
       "      <td>0.000459</td>\n",
       "      <td>0.492685</td>\n",
       "      <td>0.098905</td>\n",
       "    </tr>\n",
       "  </tbody>\n",
       "</table>\n",
       "</div>"
      ],
      "text/plain": [
       "           features   ratings    hybrid\n",
       "52100003   1.000000  1.000000  1.000000\n",
       "26205459   0.284285  0.504078  0.328244\n",
       "100045198  0.284285  0.504078  0.328244\n",
       "100013032  0.028050  0.495124  0.121464\n",
       "21411667   0.000459  0.492685  0.098905"
      ]
     },
     "execution_count": 27,
     "metadata": {},
     "output_type": "execute_result"
    }
   ],
   "source": [
    "recommendation_combined.head()"
   ]
  },
  {
   "cell_type": "code",
   "execution_count": 28,
   "id": "22e476e7",
   "metadata": {},
   "outputs": [],
   "source": [
    "def top_n_products(rec_df, meta_df, n=10, ranking='hybrid'):\n",
    "    \n",
    "    \"\"\"Valid inouts for ranking: 'features', 'ratings', 'hybrid'\"\"\"\n",
    "    \n",
    "    feat_idx = rec_df.sort_values(ranking, ascending=False).index\n",
    "    \n",
    "    \n",
    "    return feat_idx\n",
    "    \n",
    "#     for i in feat_idx:\n",
    "#         meta_text = meta_df[meta_df['product_id'] == i][['metadata']].iloc[0,:][0]\n",
    "#         lst = []\n",
    "#         lst.append(meta_text)\n",
    "#         return lst"
   ]
  },
  {
   "cell_type": "code",
   "execution_count": 29,
   "id": "ae56c3b0",
   "metadata": {},
   "outputs": [],
   "source": [
    "indexes = top_n_products(recommendation_combined, X_meta, ranking='features')"
   ]
  },
  {
   "cell_type": "code",
   "execution_count": 30,
   "id": "e23a6afa",
   "metadata": {},
   "outputs": [
    {
     "data": {
      "text/plain": [
       "97678"
      ]
     },
     "execution_count": 30,
     "metadata": {},
     "output_type": "execute_result"
    }
   ],
   "source": [
    "len(indexes)"
   ]
  },
  {
   "cell_type": "code",
   "execution_count": 31,
   "id": "c79c5c12",
   "metadata": {},
   "outputs": [
    {
     "data": {
      "text/plain": [
       "product_id\n",
       "28400014        accessories bag roncato medium\n",
       "52100003             accessories bag nike high\n",
       "16000911            accessories bag metrot low\n",
       "16200339           accessories bag huggies low\n",
       "16200278           accessories bag huggies low\n",
       "                           ...                \n",
       "25510241         stationery cartrige gerat low\n",
       "25510206      stationery cartrige gerat medium\n",
       "12900414     stationery cartrige europrint low\n",
       "25510333         stationery cartrige gerat low\n",
       "4100339     stationery cartrige microsoft high\n",
       "Name: metadata, Length: 3857156, dtype: object"
      ]
     },
     "execution_count": 31,
     "metadata": {},
     "output_type": "execute_result"
    }
   ],
   "source": [
    "X_meta[X_meta.index.isin(indexes)]['metadata']"
   ]
  },
  {
   "cell_type": "code",
   "execution_count": 32,
   "id": "90aca40e",
   "metadata": {},
   "outputs": [
    {
     "data": {
      "text/html": [
       "<div>\n",
       "<style scoped>\n",
       "    .dataframe tbody tr th:only-of-type {\n",
       "        vertical-align: middle;\n",
       "    }\n",
       "\n",
       "    .dataframe tbody tr th {\n",
       "        vertical-align: top;\n",
       "    }\n",
       "\n",
       "    .dataframe thead th {\n",
       "        text-align: right;\n",
       "    }\n",
       "</style>\n",
       "<table border=\"1\" class=\"dataframe\">\n",
       "  <thead>\n",
       "    <tr style=\"text-align: right;\">\n",
       "      <th></th>\n",
       "      <th>event_type</th>\n",
       "      <th>category_id</th>\n",
       "      <th>category_code</th>\n",
       "      <th>brand</th>\n",
       "      <th>price</th>\n",
       "      <th>user_id</th>\n",
       "      <th>user_session</th>\n",
       "      <th>25%</th>\n",
       "      <th>75%</th>\n",
       "      <th>price_category</th>\n",
       "      <th>metadata</th>\n",
       "    </tr>\n",
       "    <tr>\n",
       "      <th>product_id</th>\n",
       "      <th></th>\n",
       "      <th></th>\n",
       "      <th></th>\n",
       "      <th></th>\n",
       "      <th></th>\n",
       "      <th></th>\n",
       "      <th></th>\n",
       "      <th></th>\n",
       "      <th></th>\n",
       "      <th></th>\n",
       "      <th></th>\n",
       "    </tr>\n",
       "  </thead>\n",
       "  <tbody>\n",
       "    <tr>\n",
       "      <th>28400014</th>\n",
       "      <td>view</td>\n",
       "      <td>2232732082935693457</td>\n",
       "      <td>accessories bag</td>\n",
       "      <td>roncato</td>\n",
       "      <td>32.95</td>\n",
       "      <td>523916611</td>\n",
       "      <td>d5197bd8-b358-4af0-bc8f-7026ef6a5a5c</td>\n",
       "      <td>28.83</td>\n",
       "      <td>73.88</td>\n",
       "      <td>medium</td>\n",
       "      <td>accessories bag roncato medium</td>\n",
       "    </tr>\n",
       "    <tr>\n",
       "      <th>52100003</th>\n",
       "      <td>view</td>\n",
       "      <td>2232732097255047630</td>\n",
       "      <td>accessories bag</td>\n",
       "      <td>nike</td>\n",
       "      <td>86.21</td>\n",
       "      <td>553813867</td>\n",
       "      <td>282e31fc-78b0-417c-bb5b-bcedc09e014f</td>\n",
       "      <td>28.83</td>\n",
       "      <td>73.88</td>\n",
       "      <td>high</td>\n",
       "      <td>accessories bag nike high</td>\n",
       "    </tr>\n",
       "    <tr>\n",
       "      <th>16000911</th>\n",
       "      <td>view</td>\n",
       "      <td>2053013556856619499</td>\n",
       "      <td>accessories bag</td>\n",
       "      <td>metrot</td>\n",
       "      <td>24.51</td>\n",
       "      <td>575038588</td>\n",
       "      <td>4f70cdf9-9881-4112-a955-4cfafb9f6f4f</td>\n",
       "      <td>28.83</td>\n",
       "      <td>73.88</td>\n",
       "      <td>low</td>\n",
       "      <td>accessories bag metrot low</td>\n",
       "    </tr>\n",
       "    <tr>\n",
       "      <th>16200339</th>\n",
       "      <td>view</td>\n",
       "      <td>2232732108453839552</td>\n",
       "      <td>accessories bag</td>\n",
       "      <td>huggies</td>\n",
       "      <td>17.50</td>\n",
       "      <td>579851217</td>\n",
       "      <td>898366d8-3605-4dff-93c7-6d233ae5bb04</td>\n",
       "      <td>28.83</td>\n",
       "      <td>73.88</td>\n",
       "      <td>low</td>\n",
       "      <td>accessories bag huggies low</td>\n",
       "    </tr>\n",
       "    <tr>\n",
       "      <th>16200278</th>\n",
       "      <td>view</td>\n",
       "      <td>2232732108453839552</td>\n",
       "      <td>accessories bag</td>\n",
       "      <td>huggies</td>\n",
       "      <td>4.07</td>\n",
       "      <td>512669930</td>\n",
       "      <td>ea20f617-ff8f-425f-a19a-e1489dc2fc35</td>\n",
       "      <td>28.83</td>\n",
       "      <td>73.88</td>\n",
       "      <td>low</td>\n",
       "      <td>accessories bag huggies low</td>\n",
       "    </tr>\n",
       "  </tbody>\n",
       "</table>\n",
       "</div>"
      ],
      "text/plain": [
       "           event_type          category_id    category_code    brand  price  \\\n",
       "product_id                                                                    \n",
       "28400014         view  2232732082935693457  accessories bag  roncato  32.95   \n",
       "52100003         view  2232732097255047630  accessories bag     nike  86.21   \n",
       "16000911         view  2053013556856619499  accessories bag   metrot  24.51   \n",
       "16200339         view  2232732108453839552  accessories bag  huggies  17.50   \n",
       "16200278         view  2232732108453839552  accessories bag  huggies   4.07   \n",
       "\n",
       "              user_id                          user_session    25%    75%  \\\n",
       "product_id                                                                  \n",
       "28400014    523916611  d5197bd8-b358-4af0-bc8f-7026ef6a5a5c  28.83  73.88   \n",
       "52100003    553813867  282e31fc-78b0-417c-bb5b-bcedc09e014f  28.83  73.88   \n",
       "16000911    575038588  4f70cdf9-9881-4112-a955-4cfafb9f6f4f  28.83  73.88   \n",
       "16200339    579851217  898366d8-3605-4dff-93c7-6d233ae5bb04  28.83  73.88   \n",
       "16200278    512669930  ea20f617-ff8f-425f-a19a-e1489dc2fc35  28.83  73.88   \n",
       "\n",
       "           price_category                        metadata  \n",
       "product_id                                                 \n",
       "28400014           medium  accessories bag roncato medium  \n",
       "52100003             high       accessories bag nike high  \n",
       "16000911              low      accessories bag metrot low  \n",
       "16200339              low     accessories bag huggies low  \n",
       "16200278              low     accessories bag huggies low  "
      ]
     },
     "execution_count": 32,
     "metadata": {},
     "output_type": "execute_result"
    }
   ],
   "source": [
    "X_meta.head()"
   ]
  },
  {
   "cell_type": "code",
   "execution_count": 40,
   "id": "232ecb77",
   "metadata": {},
   "outputs": [],
   "source": [
    "def top_n_products(rec_df, meta_df, n=10, ranking='hybrid'):\n",
    "    \n",
    "    \"\"\"Valid inputs for ranking: 'features', 'ratings', 'hybrid'\"\"\"\n",
    "\n",
    "    feat_idx = rec_df.sort_values(ranking, ascending=False).index\n",
    "    \n",
    "    counter = 0\n",
    "    \n",
    "    product_ids=[]\n",
    "    metas=[]\n",
    "    prices=[]\n",
    "    \n",
    "    for i in feat_idx:\n",
    "        meta_text = meta_df[meta_df['product_id'] == i][['metadata']].iloc[0,:][0]\n",
    "        price = meta_df[meta_df['product_id'] == i][['price']].iloc[0,:][0]\n",
    "        \n",
    "#         if counter == 0:\n",
    "#             print(f\"Top {n} recommendations for product_id {product_id}:\")\n",
    "#             print(f\"{i} - {meta_text} {price} \\n\")\n",
    "#             print(\"-----------------------\")\n",
    "\n",
    "#         else:\n",
    "#             print(f\"Rec {counter}) {i} - {meta_text} {price}\")\n",
    "        \n",
    "        product_ids.append(i)\n",
    "        metas.append(meta_text)\n",
    "        prices.append(price)\n",
    "        \n",
    "        counter += 1\n",
    "    \n",
    "    return pd.DataFrame({'product_id':product_ids, 'meta_text':metas, 'price':prices})"
   ]
  },
  {
   "cell_type": "code",
   "execution_count": 41,
   "id": "f0f80499",
   "metadata": {},
   "outputs": [
    {
     "data": {
      "text/html": [
       "<div>\n",
       "<style scoped>\n",
       "    .dataframe tbody tr th:only-of-type {\n",
       "        vertical-align: middle;\n",
       "    }\n",
       "\n",
       "    .dataframe tbody tr th {\n",
       "        vertical-align: top;\n",
       "    }\n",
       "\n",
       "    .dataframe thead th {\n",
       "        text-align: right;\n",
       "    }\n",
       "</style>\n",
       "<table border=\"1\" class=\"dataframe\">\n",
       "  <thead>\n",
       "    <tr style=\"text-align: right;\">\n",
       "      <th></th>\n",
       "      <th>product_id.1</th>\n",
       "      <th>meta_text</th>\n",
       "      <th>price</th>\n",
       "    </tr>\n",
       "  </thead>\n",
       "  <tbody>\n",
       "    <tr>\n",
       "      <th>0</th>\n",
       "      <td>52100003</td>\n",
       "      <td>accessories bag nike high</td>\n",
       "      <td>86.21</td>\n",
       "    </tr>\n",
       "    <tr>\n",
       "      <th>1</th>\n",
       "      <td>100046296</td>\n",
       "      <td>accessories bag nike high</td>\n",
       "      <td>107.85</td>\n",
       "    </tr>\n",
       "    <tr>\n",
       "      <th>2</th>\n",
       "      <td>100046300</td>\n",
       "      <td>accessories bag nike high</td>\n",
       "      <td>120.72</td>\n",
       "    </tr>\n",
       "    <tr>\n",
       "      <th>3</th>\n",
       "      <td>52100005</td>\n",
       "      <td>accessories bag nike medium</td>\n",
       "      <td>73.36</td>\n",
       "    </tr>\n",
       "    <tr>\n",
       "      <th>4</th>\n",
       "      <td>100046299</td>\n",
       "      <td>accessories bag nike high</td>\n",
       "      <td>107.85</td>\n",
       "    </tr>\n",
       "    <tr>\n",
       "      <th>...</th>\n",
       "      <td>...</td>\n",
       "      <td>...</td>\n",
       "      <td>...</td>\n",
       "    </tr>\n",
       "    <tr>\n",
       "      <th>97673</th>\n",
       "      <td>28715330</td>\n",
       "      <td>computers peripherals mouse respect medium</td>\n",
       "      <td>59.20</td>\n",
       "    </tr>\n",
       "    <tr>\n",
       "      <th>97674</th>\n",
       "      <td>28717441</td>\n",
       "      <td>computers peripherals mouse respect medium</td>\n",
       "      <td>44.53</td>\n",
       "    </tr>\n",
       "    <tr>\n",
       "      <th>97675</th>\n",
       "      <td>28717361</td>\n",
       "      <td>computers peripherals mouse respect medium</td>\n",
       "      <td>59.20</td>\n",
       "    </tr>\n",
       "    <tr>\n",
       "      <th>97676</th>\n",
       "      <td>28716657</td>\n",
       "      <td>computers peripherals mouse respect medium</td>\n",
       "      <td>53.80</td>\n",
       "    </tr>\n",
       "    <tr>\n",
       "      <th>97677</th>\n",
       "      <td>28707807</td>\n",
       "      <td>computers peripherals mouse respect medium</td>\n",
       "      <td>33.98</td>\n",
       "    </tr>\n",
       "  </tbody>\n",
       "</table>\n",
       "<p>97678 rows × 3 columns</p>\n",
       "</div>"
      ],
      "text/plain": [
       "       product_id.1                                   meta_text   price\n",
       "0          52100003                   accessories bag nike high   86.21\n",
       "1         100046296                   accessories bag nike high  107.85\n",
       "2         100046300                   accessories bag nike high  120.72\n",
       "3          52100005                 accessories bag nike medium   73.36\n",
       "4         100046299                   accessories bag nike high  107.85\n",
       "...             ...                                         ...     ...\n",
       "97673      28715330  computers peripherals mouse respect medium   59.20\n",
       "97674      28717441  computers peripherals mouse respect medium   44.53\n",
       "97675      28717361  computers peripherals mouse respect medium   59.20\n",
       "97676      28716657  computers peripherals mouse respect medium   53.80\n",
       "97677      28707807  computers peripherals mouse respect medium   33.98\n",
       "\n",
       "[97678 rows x 3 columns]"
      ]
     },
     "execution_count": 41,
     "metadata": {},
     "output_type": "execute_result"
    }
   ],
   "source": [
    "top_n_products(recommendation_combined, X_meta, ranking='features')"
   ]
  },
  {
   "cell_type": "code",
   "execution_count": null,
   "id": "b23b6a4b",
   "metadata": {},
   "outputs": [],
   "source": [
    "new_df = top_n_products(recommendation_combined, X_meta, ranking='features')"
   ]
  },
  {
   "cell_type": "code",
   "execution_count": null,
   "id": "7fda2e60",
   "metadata": {},
   "outputs": [],
   "source": [
    "new_df.drop_duplicates('meta_text').iloc[:10,:]"
   ]
  },
  {
   "cell_type": "code",
   "execution_count": 70,
   "id": "5dd15a87",
   "metadata": {},
   "outputs": [],
   "source": [
    "def top_n_products(rec_df, meta_df, n=10, ranking='hybrid'):\n",
    "    \n",
    "    \"\"\"Valid inputs for ranking: 'features', 'ratings', 'hybrid'\"\"\"\n",
    "\n",
    "    feat_idx = rec_df.sort_values(ranking, ascending=False).index\n",
    "    \n",
    "    counter = 0\n",
    "    \n",
    "    product_ids=[]\n",
    "    metas=[]\n",
    "    prices=[]\n",
    "    \n",
    "    for i in feat_idx:\n",
    "        meta_text = meta_df[meta_df['product_id'] == i][['metadata']].iloc[0,:][0]\n",
    "        price = meta_df[meta_df['product_id'] == i][['price']].iloc[0,:][0]\n",
    "        \n",
    "#         if counter == 0:\n",
    "#             print(f\"Top {n} recommendations for product_id {product_id}:\")\n",
    "#             print(f\"{i} - {meta_text} {price} \\n\")\n",
    "#             print(\"-----------------------\")\n",
    "\n",
    "#         else:\n",
    "#             print(f\"Rec {counter}) {i} - {meta_text} {price}\")\n",
    "        \n",
    "        product_ids.append(i)\n",
    "        metas.append(meta_text)\n",
    "        prices.append(price)\n",
    "        \n",
    "        counter += 1\n",
    "    \n",
    "    new_df = pd.DataFrame({'product_id':product_ids, 'meta_text':metas, 'price':prices}).drop_duplicates('meta_text').iloc[:n,:]\n",
    "    return new_df.reset_index().drop(columns='index')"
   ]
  },
  {
   "cell_type": "code",
   "execution_count": null,
   "id": "5094bb2f",
   "metadata": {},
   "outputs": [],
   "source": [
    "top_n_products(recommendation_combined, X_meta, ranking='features', n=10)"
   ]
  },
  {
   "cell_type": "code",
   "execution_count": null,
   "id": "3455166a",
   "metadata": {},
   "outputs": [],
   "source": []
  },
  {
   "cell_type": "code",
   "execution_count": null,
   "id": "e6f07a8e",
   "metadata": {},
   "outputs": [],
   "source": []
  },
  {
   "cell_type": "code",
   "execution_count": null,
   "id": "009846cd",
   "metadata": {},
   "outputs": [],
   "source": []
  }
 ],
 "metadata": {
  "kernelspec": {
   "display_name": "Python 3 (ipykernel)",
   "language": "python",
   "name": "python3"
  },
  "language_info": {
   "codemirror_mode": {
    "name": "ipython",
    "version": 3
   },
   "file_extension": ".py",
   "mimetype": "text/x-python",
   "name": "python",
   "nbconvert_exporter": "python",
   "pygments_lexer": "ipython3",
   "version": "3.10.6"
  },
  "toc": {
   "base_numbering": 1,
   "nav_menu": {},
   "number_sections": true,
   "sideBar": true,
   "skip_h1_title": false,
   "title_cell": "Table of Contents",
   "title_sidebar": "Contents",
   "toc_cell": false,
   "toc_position": {},
   "toc_section_display": true,
   "toc_window_display": false
  },
  "varInspector": {
   "cols": {
    "lenName": 16,
    "lenType": 16,
    "lenVar": 40
   },
   "kernels_config": {
    "python": {
     "delete_cmd_postfix": "",
     "delete_cmd_prefix": "del ",
     "library": "var_list.py",
     "varRefreshCmd": "print(var_dic_list())"
    },
    "r": {
     "delete_cmd_postfix": ") ",
     "delete_cmd_prefix": "rm(",
     "library": "var_list.r",
     "varRefreshCmd": "cat(var_dic_list()) "
    }
   },
   "types_to_exclude": [
    "module",
    "function",
    "builtin_function_or_method",
    "instance",
    "_Feature"
   ],
   "window_display": false
  }
 },
 "nbformat": 4,
 "nbformat_minor": 5
}
