{
 "cells": [
  {
   "cell_type": "code",
   "execution_count": 1,
   "id": "377cc012",
   "metadata": {},
   "outputs": [],
   "source": [
    "import pandas as pd\n",
    "import numpy as np\n",
    "import matplotlib.pyplot as plt\n",
    "from sklearn.preprocessing import OneHotEncoder\n",
    "from sklearn.feature_extraction.text import CountVectorizer\n",
    "from sklearn.decomposition import TruncatedSVD\n",
    "from sklearn.metrics.pairwise import cosine_similarity"
   ]
  },
  {
   "cell_type": "markdown",
   "id": "e480518d",
   "metadata": {},
   "source": [
    "# Latent matrix from metadata"
   ]
  },
  {
   "cell_type": "code",
   "execution_count": 2,
   "id": "ce1e22d0",
   "metadata": {},
   "outputs": [
    {
     "name": "stdout",
     "output_type": "stream",
     "text": [
      "2019-Dec.csv_10%.csv 2019-Oct.csv_10%.csv \u001b[1m\u001b[36mlatent_dfs\u001b[m\u001b[m\r\n"
     ]
    }
   ],
   "source": [
    "!ls ../data"
   ]
  },
  {
   "cell_type": "code",
   "execution_count": 3,
   "id": "fe0bd973",
   "metadata": {},
   "outputs": [],
   "source": [
    "filename = '../data/2019-Dec.csv_10%.csv'"
   ]
  },
  {
   "cell_type": "code",
   "execution_count": 4,
   "id": "9012102a",
   "metadata": {},
   "outputs": [
    {
     "name": "stdout",
     "output_type": "stream",
     "text": [
      "/Users/julioq/code/lewagon-data-apps/1050_batch/eCommerce/notebooks\r\n"
     ]
    }
   ],
   "source": [
    "!pwd"
   ]
  },
  {
   "cell_type": "code",
   "execution_count": 5,
   "id": "8cb5359b",
   "metadata": {},
   "outputs": [
    {
     "data": {
      "text/plain": [
       "(3375212, 9)"
      ]
     },
     "execution_count": 5,
     "metadata": {},
     "output_type": "execute_result"
    }
   ],
   "source": [
    "import random\n",
    "p = 0.5  # 1% of the lines\n",
    "# keep the header, then take only 1% of lines\n",
    "# if random from [0,1] interval is greater than 0.01 the row will be skipped\n",
    "df = pd.read_csv(\n",
    "         filename,\n",
    "         header=0, \n",
    "         skiprows=lambda i: i>0 and random.random() > p\n",
    ")\n",
    "df.shape"
   ]
  },
  {
   "cell_type": "code",
   "execution_count": 6,
   "id": "1bcf8b6b",
   "metadata": {},
   "outputs": [
    {
     "data": {
      "text/plain": [
       "(3375212, 9)"
      ]
     },
     "execution_count": 6,
     "metadata": {},
     "output_type": "execute_result"
    }
   ],
   "source": [
    "df.shape"
   ]
  },
  {
   "cell_type": "code",
   "execution_count": 7,
   "id": "acafa99e",
   "metadata": {},
   "outputs": [
    {
     "data": {
      "text/plain": [
       "134"
      ]
     },
     "execution_count": 7,
     "metadata": {},
     "output_type": "execute_result"
    }
   ],
   "source": [
    "df.category_code.nunique()"
   ]
  },
  {
   "cell_type": "code",
   "execution_count": 8,
   "id": "eddf4d1f",
   "metadata": {},
   "outputs": [
    {
     "data": {
      "text/plain": [
       "Index(['event_time', 'event_type', 'product_id', 'category_id',\n",
       "       'category_code', 'brand', 'price', 'user_id', 'user_session'],\n",
       "      dtype='object')"
      ]
     },
     "execution_count": 8,
     "metadata": {},
     "output_type": "execute_result"
    }
   ],
   "source": [
    "df.columns"
   ]
  },
  {
   "cell_type": "code",
   "execution_count": 9,
   "id": "1c259065",
   "metadata": {},
   "outputs": [
    {
     "data": {
      "text/html": [
       "<div>\n",
       "<style scoped>\n",
       "    .dataframe tbody tr th:only-of-type {\n",
       "        vertical-align: middle;\n",
       "    }\n",
       "\n",
       "    .dataframe tbody tr th {\n",
       "        vertical-align: top;\n",
       "    }\n",
       "\n",
       "    .dataframe thead th {\n",
       "        text-align: right;\n",
       "    }\n",
       "</style>\n",
       "<table border=\"1\" class=\"dataframe\">\n",
       "  <thead>\n",
       "    <tr style=\"text-align: right;\">\n",
       "      <th></th>\n",
       "      <th>event_time</th>\n",
       "      <th>event_type</th>\n",
       "      <th>product_id</th>\n",
       "      <th>category_id</th>\n",
       "      <th>category_code</th>\n",
       "      <th>brand</th>\n",
       "      <th>price</th>\n",
       "      <th>user_id</th>\n",
       "      <th>user_session</th>\n",
       "    </tr>\n",
       "  </thead>\n",
       "  <tbody>\n",
       "    <tr>\n",
       "      <th>0</th>\n",
       "      <td>2019-12-01 00:00:07 UTC</td>\n",
       "      <td>view</td>\n",
       "      <td>11500445</td>\n",
       "      <td>2053013552259662037</td>\n",
       "      <td>computers.components.power_supply</td>\n",
       "      <td>xiaomi</td>\n",
       "      <td>27.77</td>\n",
       "      <td>526844203</td>\n",
       "      <td>5e62045f-58f7-4421-9e0f-977a5d070302</td>\n",
       "    </tr>\n",
       "    <tr>\n",
       "      <th>1</th>\n",
       "      <td>2019-12-01 00:00:10 UTC</td>\n",
       "      <td>view</td>\n",
       "      <td>37900170</td>\n",
       "      <td>2152167773222993940</td>\n",
       "      <td>NaN</td>\n",
       "      <td>vega</td>\n",
       "      <td>34.05</td>\n",
       "      <td>539618099</td>\n",
       "      <td>2d82cd98-f9df-4498-b81d-0a678ea2eae2</td>\n",
       "    </tr>\n",
       "    <tr>\n",
       "      <th>2</th>\n",
       "      <td>2019-12-01 00:00:14 UTC</td>\n",
       "      <td>view</td>\n",
       "      <td>1004249</td>\n",
       "      <td>2232732093077520756</td>\n",
       "      <td>construction.tools.light</td>\n",
       "      <td>apple</td>\n",
       "      <td>794.10</td>\n",
       "      <td>522786545</td>\n",
       "      <td>0fa3ffd9-7417-4d71-9f80-d37621b840c8</td>\n",
       "    </tr>\n",
       "    <tr>\n",
       "      <th>3</th>\n",
       "      <td>2019-12-01 00:00:14 UTC</td>\n",
       "      <td>view</td>\n",
       "      <td>17301106</td>\n",
       "      <td>2232732098446229999</td>\n",
       "      <td>apparel.shoes.sandals</td>\n",
       "      <td>hermes</td>\n",
       "      <td>185.33</td>\n",
       "      <td>513133286</td>\n",
       "      <td>ae3fc5fd-dcbe-492b-b420-4e01d85c5ef2</td>\n",
       "    </tr>\n",
       "    <tr>\n",
       "      <th>4</th>\n",
       "      <td>2019-12-01 00:00:15 UTC</td>\n",
       "      <td>view</td>\n",
       "      <td>1005253</td>\n",
       "      <td>2232732093077520756</td>\n",
       "      <td>construction.tools.light</td>\n",
       "      <td>xiaomi</td>\n",
       "      <td>261.27</td>\n",
       "      <td>579969926</td>\n",
       "      <td>c23dcd23-c6d2-42d3-8a90-7ea87f3f672f</td>\n",
       "    </tr>\n",
       "  </tbody>\n",
       "</table>\n",
       "</div>"
      ],
      "text/plain": [
       "                event_time event_type  product_id          category_id  \\\n",
       "0  2019-12-01 00:00:07 UTC       view    11500445  2053013552259662037   \n",
       "1  2019-12-01 00:00:10 UTC       view    37900170  2152167773222993940   \n",
       "2  2019-12-01 00:00:14 UTC       view     1004249  2232732093077520756   \n",
       "3  2019-12-01 00:00:14 UTC       view    17301106  2232732098446229999   \n",
       "4  2019-12-01 00:00:15 UTC       view     1005253  2232732093077520756   \n",
       "\n",
       "                       category_code   brand   price    user_id  \\\n",
       "0  computers.components.power_supply  xiaomi   27.77  526844203   \n",
       "1                                NaN    vega   34.05  539618099   \n",
       "2           construction.tools.light   apple  794.10  522786545   \n",
       "3              apparel.shoes.sandals  hermes  185.33  513133286   \n",
       "4           construction.tools.light  xiaomi  261.27  579969926   \n",
       "\n",
       "                           user_session  \n",
       "0  5e62045f-58f7-4421-9e0f-977a5d070302  \n",
       "1  2d82cd98-f9df-4498-b81d-0a678ea2eae2  \n",
       "2  0fa3ffd9-7417-4d71-9f80-d37621b840c8  \n",
       "3  ae3fc5fd-dcbe-492b-b420-4e01d85c5ef2  \n",
       "4  c23dcd23-c6d2-42d3-8a90-7ea87f3f672f  "
      ]
     },
     "execution_count": 9,
     "metadata": {},
     "output_type": "execute_result"
    }
   ],
   "source": [
    "df.head()"
   ]
  },
  {
   "cell_type": "code",
   "execution_count": 10,
   "id": "384abaac",
   "metadata": {},
   "outputs": [],
   "source": [
    "def preprocessing_feat(X, drop_event_time=False):\n",
    "    if drop_event_time:\n",
    "        X = X.drop(\"event_time\", axis=1)\n",
    "    \n",
    "    X_preprocessed = X.dropna(subset = ['category_code', 'brand']) #tbd!!\n",
    "    X_preprocessed = X_preprocessed.drop_duplicates()\n",
    "    X_preprocessed['category_code'] = X_preprocessed['category_code'].str.replace('.',' ')\n",
    "    return X_preprocessed"
   ]
  },
  {
   "cell_type": "code",
   "execution_count": 11,
   "id": "2689a181",
   "metadata": {},
   "outputs": [
    {
     "name": "stderr",
     "output_type": "stream",
     "text": [
      "/var/folders/p5/qt42vq_56xz89lxgtq0ygbdh0000gn/T/ipykernel_49038/4055017079.py:7: FutureWarning: The default value of regex will change from True to False in a future version. In addition, single character regular expressions will *not* be treated as literal strings when regex=True.\n",
      "  X_preprocessed['category_code'] = X_preprocessed['category_code'].str.replace('.',' ')\n"
     ]
    }
   ],
   "source": [
    "X_preprocessed = preprocessing_feat(df,  drop_event_time=True)"
   ]
  },
  {
   "cell_type": "code",
   "execution_count": 12,
   "id": "df390005",
   "metadata": {},
   "outputs": [
    {
     "data": {
      "text/plain": [
       "(2604755, 8)"
      ]
     },
     "execution_count": 12,
     "metadata": {},
     "output_type": "execute_result"
    }
   ],
   "source": [
    "X_preprocessed.shape"
   ]
  },
  {
   "cell_type": "markdown",
   "id": "7f60917a",
   "metadata": {},
   "source": [
    "## Pricing criterion"
   ]
  },
  {
   "cell_type": "code",
   "execution_count": 13,
   "id": "59c344db",
   "metadata": {},
   "outputs": [],
   "source": [
    "def make_column(row):\n",
    "    if row[\"price\"] < row[\"25%\"]:\n",
    "        return \"low\"\n",
    "    elif row[\"price\"] < row[\"75%\"]:\n",
    "        return \"medium\"\n",
    "    else:\n",
    "        return \"high\"\n",
    "\n",
    "def pricing_criterion(X):\n",
    "    pricing_guide = X.groupby('category_code')['price'].describe()[[\"25%\", \"75%\"]].reset_index()\n",
    "    X_merged = X.merge(pricing_guide, on=\"category_code\", how=\"right\")\n",
    "    X_merged[\"price_category\"] = X_merged.apply(lambda row: make_column(row), axis=1)\n",
    "    return X_merged\n"
   ]
  },
  {
   "cell_type": "code",
   "execution_count": 14,
   "id": "c15b56fe",
   "metadata": {},
   "outputs": [],
   "source": [
    "X_merged = pricing_criterion(X_preprocessed)"
   ]
  },
  {
   "cell_type": "code",
   "execution_count": 15,
   "id": "8326b89c",
   "metadata": {},
   "outputs": [],
   "source": [
    "def metadata(X):\n",
    "    X['metadata'] = X[['category_code', 'brand', 'price_category']].apply(lambda x: ' '.join(x), axis = 1)\n",
    "    return X\n"
   ]
  },
  {
   "cell_type": "code",
   "execution_count": 16,
   "id": "5300e000",
   "metadata": {},
   "outputs": [
    {
     "data": {
      "text/plain": [
       "event_type              3\n",
       "product_id          89266\n",
       "category_id           840\n",
       "category_code         134\n",
       "brand                3800\n",
       "price               41117\n",
       "user_id           1225705\n",
       "user_session      2127836\n",
       "25%                   121\n",
       "75%                   125\n",
       "price_category          3\n",
       "metadata            15160\n",
       "dtype: int64"
      ]
     },
     "execution_count": 16,
     "metadata": {},
     "output_type": "execute_result"
    }
   ],
   "source": [
    "X_meta = metadata(X_merged)\n",
    "X_meta.nunique()"
   ]
  },
  {
   "cell_type": "code",
   "execution_count": 17,
   "id": "c35fd7f5",
   "metadata": {},
   "outputs": [],
   "source": [
    "X_meta.set_index(X_meta['product_id'], inplace=True)"
   ]
  },
  {
   "cell_type": "code",
   "execution_count": 18,
   "id": "55f41b1b",
   "metadata": {},
   "outputs": [
    {
     "name": "stdout",
     "output_type": "stream",
     "text": [
      "(2604755, 12)\n"
     ]
    },
    {
     "data": {
      "text/html": [
       "<div>\n",
       "<style scoped>\n",
       "    .dataframe tbody tr th:only-of-type {\n",
       "        vertical-align: middle;\n",
       "    }\n",
       "\n",
       "    .dataframe tbody tr th {\n",
       "        vertical-align: top;\n",
       "    }\n",
       "\n",
       "    .dataframe thead th {\n",
       "        text-align: right;\n",
       "    }\n",
       "</style>\n",
       "<table border=\"1\" class=\"dataframe\">\n",
       "  <thead>\n",
       "    <tr style=\"text-align: right;\">\n",
       "      <th></th>\n",
       "      <th>event_type</th>\n",
       "      <th>product_id</th>\n",
       "      <th>category_id</th>\n",
       "      <th>category_code</th>\n",
       "      <th>brand</th>\n",
       "      <th>price</th>\n",
       "      <th>user_id</th>\n",
       "      <th>user_session</th>\n",
       "      <th>25%</th>\n",
       "      <th>75%</th>\n",
       "      <th>price_category</th>\n",
       "      <th>metadata</th>\n",
       "    </tr>\n",
       "    <tr>\n",
       "      <th>product_id</th>\n",
       "      <th></th>\n",
       "      <th></th>\n",
       "      <th></th>\n",
       "      <th></th>\n",
       "      <th></th>\n",
       "      <th></th>\n",
       "      <th></th>\n",
       "      <th></th>\n",
       "      <th></th>\n",
       "      <th></th>\n",
       "      <th></th>\n",
       "      <th></th>\n",
       "    </tr>\n",
       "  </thead>\n",
       "  <tbody>\n",
       "    <tr>\n",
       "      <th>16200339</th>\n",
       "      <td>view</td>\n",
       "      <td>16200339</td>\n",
       "      <td>2232732108453839552</td>\n",
       "      <td>accessories bag</td>\n",
       "      <td>huggies</td>\n",
       "      <td>17.50</td>\n",
       "      <td>579851217</td>\n",
       "      <td>898366d8-3605-4dff-93c7-6d233ae5bb04</td>\n",
       "      <td>29.59</td>\n",
       "      <td>73.88</td>\n",
       "      <td>low</td>\n",
       "      <td>accessories bag huggies low</td>\n",
       "    </tr>\n",
       "    <tr>\n",
       "      <th>28401034</th>\n",
       "      <td>view</td>\n",
       "      <td>28401034</td>\n",
       "      <td>2053013566209917945</td>\n",
       "      <td>accessories bag</td>\n",
       "      <td>picard</td>\n",
       "      <td>142.86</td>\n",
       "      <td>514567336</td>\n",
       "      <td>41960d57-ea88-4c83-873c-cdc2e8e27e85</td>\n",
       "      <td>29.59</td>\n",
       "      <td>73.88</td>\n",
       "      <td>high</td>\n",
       "      <td>accessories bag picard high</td>\n",
       "    </tr>\n",
       "    <tr>\n",
       "      <th>28400999</th>\n",
       "      <td>view</td>\n",
       "      <td>28400999</td>\n",
       "      <td>2232732082935693457</td>\n",
       "      <td>accessories bag</td>\n",
       "      <td>picard</td>\n",
       "      <td>45.05</td>\n",
       "      <td>514567336</td>\n",
       "      <td>41960d57-ea88-4c83-873c-cdc2e8e27e85</td>\n",
       "      <td>29.59</td>\n",
       "      <td>73.88</td>\n",
       "      <td>medium</td>\n",
       "      <td>accessories bag picard medium</td>\n",
       "    </tr>\n",
       "    <tr>\n",
       "      <th>28400062</th>\n",
       "      <td>view</td>\n",
       "      <td>28400062</td>\n",
       "      <td>2232732082935693457</td>\n",
       "      <td>accessories bag</td>\n",
       "      <td>roncato</td>\n",
       "      <td>50.97</td>\n",
       "      <td>578575518</td>\n",
       "      <td>ee45a262-2389-4ce4-9076-7986ab68cf28</td>\n",
       "      <td>29.59</td>\n",
       "      <td>73.88</td>\n",
       "      <td>medium</td>\n",
       "      <td>accessories bag roncato medium</td>\n",
       "    </tr>\n",
       "    <tr>\n",
       "      <th>16200316</th>\n",
       "      <td>view</td>\n",
       "      <td>16200316</td>\n",
       "      <td>2232732108453839552</td>\n",
       "      <td>accessories bag</td>\n",
       "      <td>huggies</td>\n",
       "      <td>17.50</td>\n",
       "      <td>577054321</td>\n",
       "      <td>6f60f981-907c-4dd7-80a5-8f46fa2711b3</td>\n",
       "      <td>29.59</td>\n",
       "      <td>73.88</td>\n",
       "      <td>low</td>\n",
       "      <td>accessories bag huggies low</td>\n",
       "    </tr>\n",
       "  </tbody>\n",
       "</table>\n",
       "</div>"
      ],
      "text/plain": [
       "           event_type  product_id          category_id    category_code  \\\n",
       "product_id                                                                \n",
       "16200339         view    16200339  2232732108453839552  accessories bag   \n",
       "28401034         view    28401034  2053013566209917945  accessories bag   \n",
       "28400999         view    28400999  2232732082935693457  accessories bag   \n",
       "28400062         view    28400062  2232732082935693457  accessories bag   \n",
       "16200316         view    16200316  2232732108453839552  accessories bag   \n",
       "\n",
       "              brand   price    user_id                          user_session  \\\n",
       "product_id                                                                     \n",
       "16200339    huggies   17.50  579851217  898366d8-3605-4dff-93c7-6d233ae5bb04   \n",
       "28401034     picard  142.86  514567336  41960d57-ea88-4c83-873c-cdc2e8e27e85   \n",
       "28400999     picard   45.05  514567336  41960d57-ea88-4c83-873c-cdc2e8e27e85   \n",
       "28400062    roncato   50.97  578575518  ee45a262-2389-4ce4-9076-7986ab68cf28   \n",
       "16200316    huggies   17.50  577054321  6f60f981-907c-4dd7-80a5-8f46fa2711b3   \n",
       "\n",
       "              25%    75% price_category                        metadata  \n",
       "product_id                                                               \n",
       "16200339    29.59  73.88            low     accessories bag huggies low  \n",
       "28401034    29.59  73.88           high     accessories bag picard high  \n",
       "28400999    29.59  73.88         medium   accessories bag picard medium  \n",
       "28400062    29.59  73.88         medium  accessories bag roncato medium  \n",
       "16200316    29.59  73.88            low     accessories bag huggies low  "
      ]
     },
     "execution_count": 18,
     "metadata": {},
     "output_type": "execute_result"
    }
   ],
   "source": [
    "print(X_meta.shape)\n",
    "X_meta.head()"
   ]
  },
  {
   "cell_type": "markdown",
   "id": "ca43bf95",
   "metadata": {},
   "source": [
    "### Count Vectorizer"
   ]
  },
  {
   "cell_type": "code",
   "execution_count": 19,
   "id": "53a0b2e9",
   "metadata": {},
   "outputs": [
    {
     "name": "stdout",
     "output_type": "stream",
     "text": [
      "(2604755, 3990)\n"
     ]
    },
    {
     "data": {
      "text/html": [
       "<div>\n",
       "<style scoped>\n",
       "    .dataframe tbody tr th:only-of-type {\n",
       "        vertical-align: middle;\n",
       "    }\n",
       "\n",
       "    .dataframe tbody tr th {\n",
       "        vertical-align: top;\n",
       "    }\n",
       "\n",
       "    .dataframe thead th {\n",
       "        text-align: right;\n",
       "    }\n",
       "</style>\n",
       "<table border=\"1\" class=\"dataframe\">\n",
       "  <thead>\n",
       "    <tr style=\"text-align: right;\">\n",
       "      <th></th>\n",
       "      <th>0</th>\n",
       "      <th>1</th>\n",
       "      <th>2</th>\n",
       "      <th>3</th>\n",
       "      <th>4</th>\n",
       "      <th>5</th>\n",
       "      <th>6</th>\n",
       "      <th>7</th>\n",
       "      <th>8</th>\n",
       "      <th>9</th>\n",
       "      <th>...</th>\n",
       "      <th>3980</th>\n",
       "      <th>3981</th>\n",
       "      <th>3982</th>\n",
       "      <th>3983</th>\n",
       "      <th>3984</th>\n",
       "      <th>3985</th>\n",
       "      <th>3986</th>\n",
       "      <th>3987</th>\n",
       "      <th>3988</th>\n",
       "      <th>3989</th>\n",
       "    </tr>\n",
       "  </thead>\n",
       "  <tbody>\n",
       "    <tr>\n",
       "      <th>16200339</th>\n",
       "      <td>0</td>\n",
       "      <td>0</td>\n",
       "      <td>0</td>\n",
       "      <td>0</td>\n",
       "      <td>0</td>\n",
       "      <td>0</td>\n",
       "      <td>0</td>\n",
       "      <td>0</td>\n",
       "      <td>0</td>\n",
       "      <td>1</td>\n",
       "      <td>...</td>\n",
       "      <td>0</td>\n",
       "      <td>0</td>\n",
       "      <td>0</td>\n",
       "      <td>0</td>\n",
       "      <td>0</td>\n",
       "      <td>0</td>\n",
       "      <td>0</td>\n",
       "      <td>0</td>\n",
       "      <td>0</td>\n",
       "      <td>0</td>\n",
       "    </tr>\n",
       "    <tr>\n",
       "      <th>28401034</th>\n",
       "      <td>0</td>\n",
       "      <td>0</td>\n",
       "      <td>0</td>\n",
       "      <td>0</td>\n",
       "      <td>0</td>\n",
       "      <td>0</td>\n",
       "      <td>0</td>\n",
       "      <td>0</td>\n",
       "      <td>0</td>\n",
       "      <td>1</td>\n",
       "      <td>...</td>\n",
       "      <td>0</td>\n",
       "      <td>0</td>\n",
       "      <td>0</td>\n",
       "      <td>0</td>\n",
       "      <td>0</td>\n",
       "      <td>0</td>\n",
       "      <td>0</td>\n",
       "      <td>0</td>\n",
       "      <td>0</td>\n",
       "      <td>0</td>\n",
       "    </tr>\n",
       "    <tr>\n",
       "      <th>28400999</th>\n",
       "      <td>0</td>\n",
       "      <td>0</td>\n",
       "      <td>0</td>\n",
       "      <td>0</td>\n",
       "      <td>0</td>\n",
       "      <td>0</td>\n",
       "      <td>0</td>\n",
       "      <td>0</td>\n",
       "      <td>0</td>\n",
       "      <td>1</td>\n",
       "      <td>...</td>\n",
       "      <td>0</td>\n",
       "      <td>0</td>\n",
       "      <td>0</td>\n",
       "      <td>0</td>\n",
       "      <td>0</td>\n",
       "      <td>0</td>\n",
       "      <td>0</td>\n",
       "      <td>0</td>\n",
       "      <td>0</td>\n",
       "      <td>0</td>\n",
       "    </tr>\n",
       "    <tr>\n",
       "      <th>28400062</th>\n",
       "      <td>0</td>\n",
       "      <td>0</td>\n",
       "      <td>0</td>\n",
       "      <td>0</td>\n",
       "      <td>0</td>\n",
       "      <td>0</td>\n",
       "      <td>0</td>\n",
       "      <td>0</td>\n",
       "      <td>0</td>\n",
       "      <td>1</td>\n",
       "      <td>...</td>\n",
       "      <td>0</td>\n",
       "      <td>0</td>\n",
       "      <td>0</td>\n",
       "      <td>0</td>\n",
       "      <td>0</td>\n",
       "      <td>0</td>\n",
       "      <td>0</td>\n",
       "      <td>0</td>\n",
       "      <td>0</td>\n",
       "      <td>0</td>\n",
       "    </tr>\n",
       "    <tr>\n",
       "      <th>16200316</th>\n",
       "      <td>0</td>\n",
       "      <td>0</td>\n",
       "      <td>0</td>\n",
       "      <td>0</td>\n",
       "      <td>0</td>\n",
       "      <td>0</td>\n",
       "      <td>0</td>\n",
       "      <td>0</td>\n",
       "      <td>0</td>\n",
       "      <td>1</td>\n",
       "      <td>...</td>\n",
       "      <td>0</td>\n",
       "      <td>0</td>\n",
       "      <td>0</td>\n",
       "      <td>0</td>\n",
       "      <td>0</td>\n",
       "      <td>0</td>\n",
       "      <td>0</td>\n",
       "      <td>0</td>\n",
       "      <td>0</td>\n",
       "      <td>0</td>\n",
       "    </tr>\n",
       "  </tbody>\n",
       "</table>\n",
       "<p>5 rows × 3990 columns</p>\n",
       "</div>"
      ],
      "text/plain": [
       "          0     1     2     3     4     5     6     7     8     9     ...  \\\n",
       "16200339     0     0     0     0     0     0     0     0     0     1  ...   \n",
       "28401034     0     0     0     0     0     0     0     0     0     1  ...   \n",
       "28400999     0     0     0     0     0     0     0     0     0     1  ...   \n",
       "28400062     0     0     0     0     0     0     0     0     0     1  ...   \n",
       "16200316     0     0     0     0     0     0     0     0     0     1  ...   \n",
       "\n",
       "          3980  3981  3982  3983  3984  3985  3986  3987  3988  3989  \n",
       "16200339     0     0     0     0     0     0     0     0     0     0  \n",
       "28401034     0     0     0     0     0     0     0     0     0     0  \n",
       "28400999     0     0     0     0     0     0     0     0     0     0  \n",
       "28400062     0     0     0     0     0     0     0     0     0     0  \n",
       "16200316     0     0     0     0     0     0     0     0     0     0  \n",
       "\n",
       "[5 rows x 3990 columns]"
      ]
     },
     "execution_count": 19,
     "metadata": {},
     "output_type": "execute_result"
    }
   ],
   "source": [
    "count = CountVectorizer()\n",
    "count_matrix = count.fit_transform(X_meta['metadata'])\n",
    "count_df_1 = pd.DataFrame(count_matrix.toarray(), index=X_meta.product_id.tolist())\n",
    "print(count_df_1.shape)\n",
    "count_df_1.head()"
   ]
  },
  {
   "cell_type": "code",
   "execution_count": 20,
   "id": "c550b6d6",
   "metadata": {},
   "outputs": [],
   "source": [
    "count_df_1 = count_df_1.reset_index()"
   ]
  },
  {
   "cell_type": "code",
   "execution_count": 21,
   "id": "81a2a600",
   "metadata": {},
   "outputs": [],
   "source": [
    "# len(list(set(count_df_1.index)))#.nunique()"
   ]
  },
  {
   "cell_type": "code",
   "execution_count": null,
   "id": "3439b41c",
   "metadata": {},
   "outputs": [],
   "source": [
    "count_df_1.drop_duplicates(subset='index', keep='first', inplace=True) \n",
    "count_df_1[\"product_id\"] = count_df_1[\"index\"]\n",
    "count_df_1.drop(\"index\", axis=1, inplace=True)\n",
    "count_df_1.head()"
   ]
  },
  {
   "cell_type": "markdown",
   "id": "139ee061",
   "metadata": {},
   "source": [
    "### Dimensionality reduction"
   ]
  },
  {
   "cell_type": "code",
   "execution_count": null,
   "id": "238498de",
   "metadata": {},
   "outputs": [],
   "source": [
    "n = 50\n",
    "svd = TruncatedSVD(n_components=n)\n",
    "latent_df_1 = svd.fit_transform(count_df_1.set_index(\"product_id\"))"
   ]
  },
  {
   "cell_type": "code",
   "execution_count": null,
   "id": "c3810dbf",
   "metadata": {},
   "outputs": [],
   "source": [
    "plt.plot(svd.explained_variance_ratio_.cumsum())\n",
    "plt.xlabel('number of singular value components')\n",
    "plt.ylabel('Cumulative percent of variance')   \n",
    "plt.grid()\n",
    "plt.show()"
   ]
  },
  {
   "cell_type": "code",
   "execution_count": null,
   "id": "f17ba857",
   "metadata": {},
   "outputs": [],
   "source": [
    "#count_df_1=count_df_1.set_index(\"product_id\")\n",
    "#count_df_1.head()\n",
    "df_for_latent1 = count_df_1.product_id.tolist()"
   ]
  },
  {
   "cell_type": "code",
   "execution_count": null,
   "id": "fc73c7bc",
   "metadata": {},
   "outputs": [],
   "source": [
    "#n defined above\n",
    "#n = 50\n",
    "latent_df_1 = pd.DataFrame(latent_df_1[:,0:n], index=df_for_latent1)\n",
    "print(latent_df_1.shape)\n",
    "latent_df_1"
   ]
  },
  {
   "cell_type": "code",
   "execution_count": null,
   "id": "e818bafb",
   "metadata": {},
   "outputs": [],
   "source": [
    "latent_df_1.reset_index().drop_duplicates().shape"
   ]
  },
  {
   "cell_type": "code",
   "execution_count": null,
   "id": "82ceb475",
   "metadata": {},
   "outputs": [],
   "source": [
    "latent_df_1"
   ]
  },
  {
   "cell_type": "code",
   "execution_count": null,
   "id": "19a8a53a",
   "metadata": {},
   "outputs": [],
   "source": [
    "! ls ../data/latent_dfs/"
   ]
  },
  {
   "cell_type": "code",
   "execution_count": null,
   "id": "a90ec790",
   "metadata": {},
   "outputs": [],
   "source": [
    "filename = f'../data/latent_dfs/latent_df_1_with_{p}%_data_{n}_svd_components.csv'\n",
    "latent_df_1.to_csv(filename)"
   ]
  },
  {
   "cell_type": "code",
   "execution_count": null,
   "id": "d8fe8ec7",
   "metadata": {},
   "outputs": [],
   "source": [
    "#X_meta['product_id'].nunique()"
   ]
  },
  {
   "cell_type": "markdown",
   "id": "93db8b39",
   "metadata": {},
   "source": [
    "# Latent matrix from event types"
   ]
  },
  {
   "cell_type": "code",
   "execution_count": null,
   "id": "0060c697",
   "metadata": {},
   "outputs": [],
   "source": [
    "def preprocessing_event(X):\n",
    "    X_preprocessed = X.dropna(subset = ['category_code', 'brand']) #tbd!!\n",
    "    X_preprocessed = X_preprocessed.drop_duplicates()\n",
    "    return X_preprocessed"
   ]
  },
  {
   "cell_type": "code",
   "execution_count": null,
   "id": "21e0f6d2",
   "metadata": {},
   "outputs": [],
   "source": [
    "df_event = preprocessing_event(df)\n",
    "df_event.user_id.nunique()"
   ]
  },
  {
   "cell_type": "code",
   "execution_count": null,
   "id": "da09853f",
   "metadata": {},
   "outputs": [],
   "source": [
    "dct = {'view': 1, 'cart': 3, 'purchase': 5}"
   ]
  },
  {
   "cell_type": "code",
   "execution_count": null,
   "id": "017db36f",
   "metadata": {},
   "outputs": [],
   "source": [
    "df_event['rating'] = df_event['event_type'].map(dct)"
   ]
  },
  {
   "cell_type": "code",
   "execution_count": null,
   "id": "9b504622",
   "metadata": {},
   "outputs": [],
   "source": [
    "df_event[\"rating\"].sum()"
   ]
  },
  {
   "cell_type": "code",
   "execution_count": null,
   "id": "6c8be956",
   "metadata": {},
   "outputs": [],
   "source": [
    "# df_rating.shape"
   ]
  },
  {
   "cell_type": "code",
   "execution_count": null,
   "id": "c402b446",
   "metadata": {},
   "outputs": [],
   "source": [
    "# df_rating = df_event.pivot_table(values='rating',\n",
    "#                                  index='product_id',\n",
    "#                                  columns='user_id',\n",
    "#                                  aggfunc=\"sum\").fillna(0)\n",
    "# df_rating"
   ]
  },
  {
   "cell_type": "code",
   "execution_count": null,
   "id": "1e195925",
   "metadata": {},
   "outputs": [],
   "source": [
    "df_event.nunique()"
   ]
  },
  {
   "cell_type": "code",
   "execution_count": null,
   "id": "bfe680cd",
   "metadata": {},
   "outputs": [],
   "source": [
    "df_event.drop_duplicates(subset='product_id',inplace=True)\n",
    "df_event.nunique()"
   ]
  },
  {
   "cell_type": "code",
   "execution_count": null,
   "id": "33e86ab0",
   "metadata": {},
   "outputs": [],
   "source": [
    "%%time\n",
    "\n",
    "df_rating = df_event.pivot(values='rating',\n",
    "               index='product_id',\n",
    "               columns='user_id').fillna(0)\n",
    "\n",
    "df_rating"
   ]
  },
  {
   "cell_type": "code",
   "execution_count": null,
   "id": "f407362f",
   "metadata": {},
   "outputs": [],
   "source": [
    "df_rating.sum().reset_index()[0].sum()"
   ]
  },
  {
   "cell_type": "code",
   "execution_count": null,
   "id": "cea898fa",
   "metadata": {},
   "outputs": [],
   "source": [
    "df_event.groupby(\"user_id\").agg({\"rating\":sum}).sort_values(by=\"rating\").sum()"
   ]
  },
  {
   "cell_type": "code",
   "execution_count": null,
   "id": "06b54862",
   "metadata": {},
   "outputs": [],
   "source": [
    "df_event.groupby(\"user_id\").agg({\"rating\":sum}).sort_values(by=\"rating\").sum()"
   ]
  },
  {
   "cell_type": "code",
   "execution_count": null,
   "id": "63bebc7b",
   "metadata": {},
   "outputs": [],
   "source": [
    "df_rating.reset_index()"
   ]
  },
  {
   "cell_type": "code",
   "execution_count": null,
   "id": "27d2decc",
   "metadata": {},
   "outputs": [],
   "source": [
    "df_rating"
   ]
  },
  {
   "cell_type": "code",
   "execution_count": null,
   "id": "39b1750f",
   "metadata": {},
   "outputs": [],
   "source": [
    "# df_rating.index"
   ]
  },
  {
   "cell_type": "code",
   "execution_count": null,
   "id": "912810fa",
   "metadata": {},
   "outputs": [],
   "source": [
    "# df_rating.columns"
   ]
  },
  {
   "cell_type": "code",
   "execution_count": null,
   "id": "d708d91f",
   "metadata": {},
   "outputs": [],
   "source": [
    "# df_rating_reset_index_no_productid_col = df_rating.reset_index().iloc[:,1:]\n",
    "# df_rating_reset_index_no_productid_col"
   ]
  },
  {
   "cell_type": "code",
   "execution_count": null,
   "id": "c6fc8a6f",
   "metadata": {},
   "outputs": [],
   "source": [
    "# n_s = 75\n",
    "# svd = TruncatedSVD(n_components=n_s)\n",
    "# latent_df_3 = svd.fit_transform(df_rating_reset_index_no_productid_col)\n",
    "# latent_df_3"
   ]
  },
  {
   "cell_type": "code",
   "execution_count": null,
   "id": "14483a45",
   "metadata": {},
   "outputs": [],
   "source": [
    "n_s = 200\n",
    "svd = TruncatedSVD(n_components=n_s)\n",
    "latent_df_2 = svd.fit_transform(df_rating)"
   ]
  },
  {
   "cell_type": "code",
   "execution_count": null,
   "id": "1d1e9251",
   "metadata": {},
   "outputs": [],
   "source": [
    "latent_df_2"
   ]
  },
  {
   "cell_type": "code",
   "execution_count": null,
   "id": "ead680e1",
   "metadata": {},
   "outputs": [],
   "source": [
    "# latent_df_2 = pd.DataFrame(latent_df_2, index=df_rating.index)\n",
    "# latent_df_2"
   ]
  },
  {
   "cell_type": "code",
   "execution_count": null,
   "id": "15a466b4",
   "metadata": {},
   "outputs": [],
   "source": [
    "plt.plot(svd.explained_variance_ratio_.cumsum())\n",
    "plt.xlabel('number of singular value components')\n",
    "plt.ylabel('Cumulative percent of variance')   \n",
    "plt.grid()\n",
    "plt.show()"
   ]
  },
  {
   "cell_type": "code",
   "execution_count": null,
   "id": "d9e69064",
   "metadata": {},
   "outputs": [],
   "source": [
    "latent_df_2 = pd.DataFrame(latent_df_2, index=df_rating.reset_index().product_id.tolist())\n",
    "latent_df_2.head()"
   ]
  },
  {
   "cell_type": "code",
   "execution_count": null,
   "id": "dbc028d6",
   "metadata": {},
   "outputs": [],
   "source": [
    "latent_df_2.shape"
   ]
  },
  {
   "cell_type": "code",
   "execution_count": null,
   "id": "683c73ce",
   "metadata": {},
   "outputs": [],
   "source": [
    "filename_2 = f'../data/latent_dfs/latent_df_2_with_{p}%_data_{n_s}_svd_components.csv'\n",
    "latent_df_2.to_csv(filename_2)"
   ]
  },
  {
   "cell_type": "markdown",
   "id": "89e74e25",
   "metadata": {},
   "source": [
    "# Apply Cosine Similarity in Content and Collaborative Matrices\n"
   ]
  },
  {
   "cell_type": "code",
   "execution_count": null,
   "id": "8e73abf3",
   "metadata": {},
   "outputs": [],
   "source": [
    "product_id=5100337"
   ]
  },
  {
   "cell_type": "code",
   "execution_count": null,
   "id": "7387165f",
   "metadata": {},
   "outputs": [],
   "source": [
    "# Get the latent vectors for \"Toy Story\" from content and collaborative matrices\n",
    "v1 = np.array(latent_df_1.loc[product_id]).reshape(1, -1)\n",
    "v2 = np.array(latent_df_2.loc[product_id]).reshape(1, -1)\n",
    "\n",
    "# Compute the cosine similarity of this movie with the others in the list\n",
    "sim1 = cosine_similarity(latent_df_1, v1).reshape(-1)\n",
    "sim2 = cosine_similarity(latent_df_2, v2).reshape(-1)"
   ]
  },
  {
   "cell_type": "code",
   "execution_count": null,
   "id": "4b4e7328",
   "metadata": {},
   "outputs": [],
   "source": [
    "dictDf_1 = {'features': sim1} \n",
    "recommendation_df_1 = pd.DataFrame(dictDf_1, index = latent_df_1.index)\n",
    "# recommendation_df_1.sort_values('features', ascending=False, inplace=True)"
   ]
  },
  {
   "cell_type": "code",
   "execution_count": null,
   "id": "5a04c1b5",
   "metadata": {},
   "outputs": [],
   "source": [
    "dictDf_2 = {'ratings': sim2} \n",
    "recommendation_df_2 = pd.DataFrame(dictDf_2, index = latent_df_2.index)\n",
    "# recommendation_df_2.sort_values('ratings', ascending=False, inplace=True)"
   ]
  },
  {
   "cell_type": "code",
   "execution_count": null,
   "id": "37ca2588",
   "metadata": {},
   "outputs": [],
   "source": [
    "weight_features = 0.8"
   ]
  },
  {
   "cell_type": "code",
   "execution_count": null,
   "id": "8a3c8ee2",
   "metadata": {},
   "outputs": [],
   "source": [
    "recommendation_combined = pd.merge(recommendation_df_1, recommendation_df_2, left_index=True, right_index=True)\n",
    "recommendation_combined['hybrid'] = ((weight_features*recommendation_combined['features'] + (1-weight_features)*recommendation_combined['ratings']))"
   ]
  },
  {
   "cell_type": "code",
   "execution_count": null,
   "id": "fcf426d9",
   "metadata": {},
   "outputs": [],
   "source": [
    "recommendation_combined.sort_values('ratings', ascending=False, inplace=True)\n",
    "recommendation_combined"
   ]
  },
  {
   "cell_type": "code",
   "execution_count": null,
   "id": "883eade5",
   "metadata": {},
   "outputs": [],
   "source": [
    "recommendation_combined.head()"
   ]
  },
  {
   "cell_type": "code",
   "execution_count": null,
   "id": "22e476e7",
   "metadata": {},
   "outputs": [],
   "source": [
    "def top_n_products(rec_df, meta_df, n=10, ranking='hybrid'):\n",
    "    \n",
    "    \"\"\"Valid inouts for ranking: 'features', 'ratings', 'hybrid'\"\"\"\n",
    "    \n",
    "    feat_idx = rec_df.sort_values(ranking, ascending=False).index\n",
    "    \n",
    "    \n",
    "    return feat_idx\n",
    "    \n",
    "#     for i in feat_idx:\n",
    "#         meta_text = meta_df[meta_df['product_id'] == i][['metadata']].iloc[0,:][0]\n",
    "#         lst = []\n",
    "#         lst.append(meta_text)\n",
    "#         return lst"
   ]
  },
  {
   "cell_type": "code",
   "execution_count": null,
   "id": "ae56c3b0",
   "metadata": {},
   "outputs": [],
   "source": [
    "indexes = top_n_products(recommendation_combined, X_meta, ranking='features')"
   ]
  },
  {
   "cell_type": "code",
   "execution_count": null,
   "id": "e23a6afa",
   "metadata": {},
   "outputs": [],
   "source": [
    "len(indexes)"
   ]
  },
  {
   "cell_type": "code",
   "execution_count": null,
   "id": "c79c5c12",
   "metadata": {},
   "outputs": [],
   "source": [
    "X_meta[X_meta.index.isin(indexes)]['metadata']"
   ]
  },
  {
   "cell_type": "code",
   "execution_count": null,
   "id": "90aca40e",
   "metadata": {},
   "outputs": [],
   "source": [
    "# X_meta.head()"
   ]
  },
  {
   "cell_type": "code",
   "execution_count": null,
   "id": "232ecb77",
   "metadata": {},
   "outputs": [],
   "source": [
    "def top_n_products(rec_df, meta_df, n=10, ranking='hybrid'):\n",
    "    \n",
    "    \"\"\"Valid inputs for ranking: 'features', 'ratings', 'hybrid'\"\"\"\n",
    "\n",
    "    feat_idx = rec_df.sort_values(ranking, ascending=False).index\n",
    "    \n",
    "    counter = 0\n",
    "    \n",
    "    product_ids=[]\n",
    "    metas=[]\n",
    "    prices=[]\n",
    "    \n",
    "    for i in feat_idx:\n",
    "        meta_text = meta_df[meta_df['product_id'] == i][['metadata']].iloc[0,:][0]\n",
    "        price = meta_df[meta_df['product_id'] == i][['price']].iloc[0,:][0]\n",
    "        \n",
    "#         if counter == 0:\n",
    "#             print(f\"Top {n} recommendations for product_id {product_id}:\")\n",
    "#             print(f\"{i} - {meta_text} {price} \\n\")\n",
    "#             print(\"-----------------------\")\n",
    "\n",
    "#         else:\n",
    "#             print(f\"Rec {counter}) {i} - {meta_text} {price}\")\n",
    "        \n",
    "        product_ids.append(i)\n",
    "        metas.append(meta_text)\n",
    "        prices.append(price)\n",
    "        \n",
    "        counter += 1\n",
    "    \n",
    "    return pd.DataFrame({'product_id':product_ids, 'meta_text':metas, 'price':prices})"
   ]
  },
  {
   "cell_type": "code",
   "execution_count": null,
   "id": "f0f80499",
   "metadata": {},
   "outputs": [],
   "source": [
    "# top_n_products(recommendation_combined, X_meta, ranking='features')"
   ]
  },
  {
   "cell_type": "code",
   "execution_count": null,
   "id": "b23b6a4b",
   "metadata": {},
   "outputs": [],
   "source": [
    "# new_df = top_n_products(recommendation_combined, X_meta, ranking='features')"
   ]
  },
  {
   "cell_type": "code",
   "execution_count": null,
   "id": "7fda2e60",
   "metadata": {},
   "outputs": [],
   "source": [
    "# new_df.drop_duplicates('meta_text').iloc[:10,:]"
   ]
  },
  {
   "cell_type": "code",
   "execution_count": null,
   "id": "5dd15a87",
   "metadata": {},
   "outputs": [],
   "source": [
    "def top_n_products(rec_df, meta_df, n=10, ranking='hybrid'):\n",
    "    \n",
    "    \"\"\"Valid inputs for ranking: 'features', 'ratings', 'hybrid'\"\"\"\n",
    "\n",
    "    feat_idx = rec_df.sort_values(ranking, ascending=False).index\n",
    "    \n",
    "    counter = 0\n",
    "    \n",
    "    product_ids=[]\n",
    "    metas=[]\n",
    "    prices=[]\n",
    "    \n",
    "    for i in feat_idx:\n",
    "        meta_text = meta_df[meta_df['product_id'] == i][['metadata']].iloc[0,:][0]\n",
    "        price = meta_df[meta_df['product_id'] == i][['price']].iloc[0,:][0]\n",
    "        \n",
    "#         if counter == 0:\n",
    "#             print(f\"Top {n} recommendations for product_id {product_id}:\")\n",
    "#             print(f\"{i} - {meta_text} {price} \\n\")\n",
    "#             print(\"-----------------------\")\n",
    "\n",
    "#         else:\n",
    "#             print(f\"Rec {counter}) {i} - {meta_text} {price}\")\n",
    "        \n",
    "        product_ids.append(i)\n",
    "        metas.append(meta_text)\n",
    "        prices.append(price)\n",
    "        \n",
    "        counter += 1\n",
    "    \n",
    "    new_df = pd.DataFrame({'product_id':product_ids, 'meta_text':metas, 'price':prices}).drop_duplicates('meta_text').iloc[:n,:]\n",
    "    return new_df.reset_index().drop(columns='index')"
   ]
  },
  {
   "cell_type": "code",
   "execution_count": null,
   "id": "5094bb2f",
   "metadata": {},
   "outputs": [],
   "source": [
    "# top_n_products(recommendation_combined, X_meta, ranking='features', n=10)"
   ]
  },
  {
   "cell_type": "code",
   "execution_count": null,
   "id": "3455166a",
   "metadata": {},
   "outputs": [],
   "source": []
  },
  {
   "cell_type": "code",
   "execution_count": null,
   "id": "e6f07a8e",
   "metadata": {},
   "outputs": [],
   "source": []
  },
  {
   "cell_type": "code",
   "execution_count": null,
   "id": "009846cd",
   "metadata": {},
   "outputs": [],
   "source": []
  }
 ],
 "metadata": {
  "kernelspec": {
   "display_name": "Python 3 (ipykernel)",
   "language": "python",
   "name": "python3"
  },
  "language_info": {
   "codemirror_mode": {
    "name": "ipython",
    "version": 3
   },
   "file_extension": ".py",
   "mimetype": "text/x-python",
   "name": "python",
   "nbconvert_exporter": "python",
   "pygments_lexer": "ipython3",
   "version": "3.10.6"
  },
  "toc": {
   "base_numbering": 1,
   "nav_menu": {},
   "number_sections": true,
   "sideBar": true,
   "skip_h1_title": false,
   "title_cell": "Table of Contents",
   "title_sidebar": "Contents",
   "toc_cell": false,
   "toc_position": {},
   "toc_section_display": true,
   "toc_window_display": false
  },
  "varInspector": {
   "cols": {
    "lenName": 16,
    "lenType": 16,
    "lenVar": 40
   },
   "kernels_config": {
    "python": {
     "delete_cmd_postfix": "",
     "delete_cmd_prefix": "del ",
     "library": "var_list.py",
     "varRefreshCmd": "print(var_dic_list())"
    },
    "r": {
     "delete_cmd_postfix": ") ",
     "delete_cmd_prefix": "rm(",
     "library": "var_list.r",
     "varRefreshCmd": "cat(var_dic_list()) "
    }
   },
   "types_to_exclude": [
    "module",
    "function",
    "builtin_function_or_method",
    "instance",
    "_Feature"
   ],
   "window_display": false
  }
 },
 "nbformat": 4,
 "nbformat_minor": 5
}
