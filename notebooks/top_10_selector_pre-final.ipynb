{
 "cells": [
  {
   "cell_type": "markdown",
   "id": "cc9a61c8",
   "metadata": {},
   "source": [
    "# Top 10 selector"
   ]
  },
  {
   "cell_type": "code",
   "execution_count": 101,
   "id": "7c0cb91d",
   "metadata": {},
   "outputs": [],
   "source": [
    "import pandas as pd\n",
    "import numpy as np\n",
    "import matplotlib.pyplot as plt\n",
    "from sklearn.preprocessing import OneHotEncoder\n",
    "from sklearn.feature_extraction.text import CountVectorizer\n",
    "from sklearn.decomposition import TruncatedSVD\n",
    "from sklearn.metrics.pairwise import cosine_similarity"
   ]
  },
  {
   "cell_type": "code",
   "execution_count": 102,
   "id": "7e62ac0d",
   "metadata": {},
   "outputs": [],
   "source": [
    "df = pd.read_csv('data/2019_oct_sort_1000.csv')"
   ]
  },
  {
   "cell_type": "code",
   "execution_count": 103,
   "id": "a70c588a",
   "metadata": {},
   "outputs": [],
   "source": [
    "def preprocessing_feat(X):    \n",
    "    X_preprocessed = X.dropna(subset = ['category_code', 'brand']) #tbd!!\n",
    "    X_preprocessed = X_preprocessed.drop_duplicates()\n",
    "    X_preprocessed['category_code'] = X_preprocessed['category_code'].str.replace('.',' ')\n",
    "    return X_preprocessed\n",
    "\n",
    "def pricing_criterion(X):\n",
    "    pricing_guide = X.groupby('category_code')['price'].describe()[[\"25%\", \"75%\"]].reset_index()\n",
    "    X_merged = X.merge(pricing_guide, on=\"category_code\", how=\"right\")\n",
    "    X_merged[\"price_category\"] = X_merged.apply(lambda row: make_column(row), axis=1)\n",
    "    return X_merged\n",
    "\n",
    "def make_column(row):\n",
    "    if row[\"price\"] < row[\"25%\"]:\n",
    "        return \"low\"\n",
    "    elif row[\"price\"] < row[\"75%\"]:\n",
    "        return \"medium\"\n",
    "    else:\n",
    "        return \"high\"\n",
    "\n",
    "def metadata(X):\n",
    "    X['metadata'] = X[['category_code', 'brand', 'price_category']].apply(lambda x: ' '.join(x), axis = 1)\n",
    "    return X\n",
    "\n",
    "def rating(X):\n",
    "    dct = {'view': 1, 'cart': 3, 'purchase': 5}\n",
    "    X['rating'] = X['event_type'].map(dct)\n",
    "    return X"
   ]
  },
  {
   "cell_type": "code",
   "execution_count": 104,
   "id": "9fdd8623",
   "metadata": {},
   "outputs": [
    {
     "name": "stderr",
     "output_type": "stream",
     "text": [
      "/tmp/ipykernel_3468/3456390047.py:4: FutureWarning: The default value of regex will change from True to False in a future version. In addition, single character regular expressions will *not* be treated as literal strings when regex=True.\n",
      "  X_preprocessed['category_code'] = X_preprocessed['category_code'].str.replace('.',' ')\n"
     ]
    }
   ],
   "source": [
    "X_prep = preprocessing_feat(df)"
   ]
  },
  {
   "cell_type": "code",
   "execution_count": 105,
   "id": "5e3aa5b8",
   "metadata": {},
   "outputs": [],
   "source": [
    "X_pric = pricing_criterion(X_prep)"
   ]
  },
  {
   "cell_type": "code",
   "execution_count": 106,
   "id": "4b92a2f1",
   "metadata": {},
   "outputs": [],
   "source": [
    "X_rating = rating(X_pric)"
   ]
  },
  {
   "cell_type": "code",
   "execution_count": 107,
   "id": "cd55a1d0",
   "metadata": {},
   "outputs": [],
   "source": [
    "def metadata(X):\n",
    "    X['metadata'] = X[['category_code', 'brand', 'price_category']].apply(lambda x: ' '.join(x), axis = 1)\n",
    "    return X"
   ]
  },
  {
   "cell_type": "code",
   "execution_count": 108,
   "id": "153b79cf",
   "metadata": {},
   "outputs": [],
   "source": [
    "X_meta = metadata(X_pric)"
   ]
  },
  {
   "cell_type": "code",
   "execution_count": 109,
   "id": "577c492e",
   "metadata": {},
   "outputs": [],
   "source": [
    "def ranking(X, n=5):\n",
    "    X = pd.DataFrame(X_rating.groupby(by='product_id').rating.sum()).sort_values('rating', ascending=False).reset_index().index[0:n]\n",
    "    return X\n",
    "    "
   ]
  },
  {
   "cell_type": "code",
   "execution_count": 117,
   "id": "06fb8098",
   "metadata": {},
   "outputs": [],
   "source": [
    "# def top_n(product_id, X_rating, n=10):\n",
    "    \n",
    "#     \"\"\"select top n products by ranking'\"\"\"\n",
    "    \n",
    "#     rating_idx = pd.DataFrame(X_rating.groupby(by='product_id').rating.sum()).sort_values('rating', ascending=False).reset_index().index[0:n]\n",
    "#     return rating_idx\n",
    "\n",
    "#     counter = 0\n",
    "    \n",
    "#     for i in rating_idx:\n",
    "#         meta_text = X_rating[X_rating['product_id'] == i][['metadata']].iloc[0,:][0]\n",
    "        \n",
    "#         if counter == 0:\n",
    "#             print(f\"Top {n} recommendations for product_id {product_id}:\")\n",
    "#             print(f\"{i} - {meta_text} \\n\")\n",
    "# #             print(\"-----------------------\")\n",
    "\n",
    "#         else:\n",
    "#             print(f\"Rec {counter}) {i} - {meta_text}\")\n",
    "        \n",
    "#         counter += 1"
   ]
  },
  {
   "cell_type": "code",
   "execution_count": 118,
   "id": "bc0020f9",
   "metadata": {},
   "outputs": [],
   "source": [
    "def top_n_overall(product_id, X_rating, n=5):\n",
    "    \n",
    "    \"\"\"select top n products by ranking'\"\"\"\n",
    "    \n",
    "    rating_idx = pd.DataFrame(X_rating.groupby(by='product_id').rating.sum()).sort_values('rating', ascending=False).index[0:n]\n",
    "    #     rec_df.sort_values(ranking, ascending=False).index[0:n]\n",
    "    counter = 0\n",
    "    \n",
    "    for i in rating_idx:\n",
    "        meta_text = X_meta[X_meta['product_id'] == i][['metadata']].iloc[0,:][0]\n",
    "        \n",
    "        if counter == 0:\n",
    "            print(f\"Top {n} recommendations for product_id {product_id}:\")\n",
    "            print(f\"{i} - {meta_text} \\n\")\n",
    "#             print(\"-----------------------\")\n",
    "\n",
    "        else:\n",
    "            print(f\"Rec {counter}) {i} - {meta_text}\")\n",
    "        \n",
    "        counter += 1"
   ]
  },
  {
   "cell_type": "code",
   "execution_count": 119,
   "id": "15d323d3",
   "metadata": {},
   "outputs": [
    {
     "name": "stdout",
     "output_type": "stream",
     "text": [
      "Top 5 recommendations for product_id 49800017:\n",
      "1004767 - electronics smartphone samsung medium \n",
      "\n",
      "Rec 1) 1004856 - electronics smartphone samsung low\n",
      "Rec 2) 1004834 - electronics smartphone samsung low\n",
      "Rec 3) 1004870 - electronics smartphone samsung medium\n",
      "Rec 4) 1801881 - electronics video tv samsung high\n"
     ]
    }
   ],
   "source": [
    "top_n_overall(49800017, X_rating)"
   ]
  },
  {
   "cell_type": "code",
   "execution_count": 120,
   "id": "85b45480",
   "metadata": {},
   "outputs": [],
   "source": [
    "def top_n_brands(X_rating, n=10):\n",
    "    \n",
    "    \"\"\"select top n products by ranking'\"\"\"\n",
    "    \n",
    "    rating_idx =     pd.DataFrame(X_rating.groupby(['brand']).rating.sum()).sort_values('rating', ascending=False).index[0:n]\n",
    "\n",
    "    #     rec_df.sort_values(ranking, ascending=False).index[0:n]\n",
    "    return list(rating_idx)"
   ]
  },
  {
   "cell_type": "code",
   "execution_count": 121,
   "id": "9f7b6d22",
   "metadata": {},
   "outputs": [
    {
     "data": {
      "text/plain": [
       "['samsung',\n",
       " 'apple',\n",
       " 'xiaomi',\n",
       " 'oppo',\n",
       " 'huawei',\n",
       " 'tefal',\n",
       " 'indesit',\n",
       " 'starline',\n",
       " 'bts',\n",
       " 'respect']"
      ]
     },
     "execution_count": 121,
     "metadata": {},
     "output_type": "execute_result"
    }
   ],
   "source": [
    "top_n_brands(X_rating)"
   ]
  },
  {
   "cell_type": "code",
   "execution_count": 122,
   "id": "3fdcf86e",
   "metadata": {},
   "outputs": [],
   "source": [
    "def top_n_by_brand(X_rating, brand, n=10):\n",
    "    \n",
    "    \"\"\"select top n products by brand'\"\"\"\n",
    "    \n",
    "    rating_idx = pd.DataFrame(X_rating.groupby(['product_id','brand']).rating.sum()).sort_values('rating', ascending=False).reset_index('brand')\n",
    "    rating_idx = rating_idx[rating_idx['brand']==brand].index[0:n]\n",
    "#     return rating_idx\n",
    "\n",
    "    counter = 0\n",
    "\n",
    "    for i in rating_idx:\n",
    "            meta_text = X_meta[X_meta['product_id'] == i][['metadata']].iloc[0,:][0]\n",
    "\n",
    "            if counter == 0:\n",
    "                print(f\"Top {n} recommendations for product_id {brand}:\")\n",
    "                print(f\"{i} - {meta_text} \\n\")\n",
    "    #             print(\"-----------------------\")\n",
    "\n",
    "            else:\n",
    "                print(f\"Rec {counter}) {i} - {meta_text}\")\n",
    "\n",
    "            counter += 1"
   ]
  },
  {
   "cell_type": "code",
   "execution_count": 123,
   "id": "ed048231",
   "metadata": {},
   "outputs": [
    {
     "name": "stdout",
     "output_type": "stream",
     "text": [
      "Top 10 recommendations for product_id samsung:\n",
      "1004767 - electronics smartphone samsung medium \n",
      "\n",
      "Rec 1) 1004856 - electronics smartphone samsung low\n",
      "Rec 2) 1004834 - electronics smartphone samsung low\n",
      "Rec 3) 1004870 - electronics smartphone samsung medium\n",
      "Rec 4) 1801881 - electronics video tv samsung high\n",
      "Rec 5) 1004833 - electronics smartphone samsung low\n",
      "Rec 6) 1004836 - electronics smartphone samsung medium\n",
      "Rec 7) 1004857 - electronics smartphone samsung low\n",
      "Rec 8) 3701056 - appliances environment vacuum samsung medium\n",
      "Rec 9) 1004768 - electronics smartphone samsung medium\n"
     ]
    }
   ],
   "source": [
    "top_n_by_brand(X_rating, brand='samsung')"
   ]
  },
  {
   "cell_type": "code",
   "execution_count": null,
   "id": "d6879b5c",
   "metadata": {},
   "outputs": [],
   "source": []
  },
  {
   "cell_type": "code",
   "execution_count": null,
   "id": "1d6802ec",
   "metadata": {},
   "outputs": [],
   "source": []
  },
  {
   "cell_type": "code",
   "execution_count": null,
   "id": "f6746eee",
   "metadata": {},
   "outputs": [],
   "source": []
  },
  {
   "cell_type": "code",
   "execution_count": null,
   "id": "b21db18d",
   "metadata": {},
   "outputs": [],
   "source": []
  }
 ],
 "metadata": {
  "kernelspec": {
   "display_name": "Python 3 (ipykernel)",
   "language": "python",
   "name": "python3"
  },
  "language_info": {
   "codemirror_mode": {
    "name": "ipython",
    "version": 3
   },
   "file_extension": ".py",
   "mimetype": "text/x-python",
   "name": "python",
   "nbconvert_exporter": "python",
   "pygments_lexer": "ipython3",
   "version": "3.10.6"
  },
  "toc": {
   "base_numbering": 1,
   "nav_menu": {},
   "number_sections": true,
   "sideBar": true,
   "skip_h1_title": false,
   "title_cell": "Table of Contents",
   "title_sidebar": "Contents",
   "toc_cell": false,
   "toc_position": {},
   "toc_section_display": true,
   "toc_window_display": false
  }
 },
 "nbformat": 4,
 "nbformat_minor": 5
}
