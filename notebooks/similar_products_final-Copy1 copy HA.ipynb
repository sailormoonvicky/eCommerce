{
 "cells": [
  {
   "cell_type": "code",
   "execution_count": 6,
   "id": "377cc012",
   "metadata": {},
   "outputs": [],
   "source": [
    "import pandas as pd\n",
    "import numpy as np\n",
    "import matplotlib.pyplot as plt\n",
    "from sklearn.preprocessing import OneHotEncoder\n",
    "from sklearn.feature_extraction.text import CountVectorizer\n",
    "from sklearn.decomposition import TruncatedSVD\n",
    "from sklearn.metrics.pairwise import cosine_similarity"
   ]
  },
  {
   "cell_type": "code",
   "execution_count": 7,
   "id": "09e0680d",
   "metadata": {},
   "outputs": [],
   "source": [
    "path_df1 = '../data/Oct19_20/latent_df_1_with_100pct_data_50_svd_components_oct19.csv'\n",
    "path_df2 = '../data/Oct19_20/latent_df_2_with_100pct_data_100_svd_components_oct19.csv'\n",
    "path_df3 = '../data/Oct19_20/X_meta_with_100pct_data_oct19.csv'\n",
    "df_1 = pd.read_csv(path_df1,index_col=[0])\n",
    "df_2 = pd.read_csv(path_df2,index_col=[0])\n",
    "meta_df = pd.read_csv(path_df3, index_col=[0])"
   ]
  },
  {
   "cell_type": "code",
   "execution_count": 8,
   "id": "1106b565",
   "metadata": {},
   "outputs": [
    {
     "data": {
      "text/html": [
       "<div>\n",
       "<style scoped>\n",
       "    .dataframe tbody tr th:only-of-type {\n",
       "        vertical-align: middle;\n",
       "    }\n",
       "\n",
       "    .dataframe tbody tr th {\n",
       "        vertical-align: top;\n",
       "    }\n",
       "\n",
       "    .dataframe thead th {\n",
       "        text-align: right;\n",
       "    }\n",
       "</style>\n",
       "<table border=\"1\" class=\"dataframe\">\n",
       "  <thead>\n",
       "    <tr style=\"text-align: right;\">\n",
       "      <th></th>\n",
       "      <th>0</th>\n",
       "      <th>1</th>\n",
       "      <th>2</th>\n",
       "      <th>3</th>\n",
       "      <th>4</th>\n",
       "      <th>5</th>\n",
       "      <th>6</th>\n",
       "      <th>7</th>\n",
       "      <th>8</th>\n",
       "      <th>9</th>\n",
       "      <th>...</th>\n",
       "      <th>40</th>\n",
       "      <th>41</th>\n",
       "      <th>42</th>\n",
       "      <th>43</th>\n",
       "      <th>44</th>\n",
       "      <th>45</th>\n",
       "      <th>46</th>\n",
       "      <th>47</th>\n",
       "      <th>48</th>\n",
       "      <th>49</th>\n",
       "    </tr>\n",
       "  </thead>\n",
       "  <tbody>\n",
       "    <tr>\n",
       "      <th>1000978</th>\n",
       "      <td>1.011997</td>\n",
       "      <td>-0.623184</td>\n",
       "      <td>-0.380176</td>\n",
       "      <td>0.486457</td>\n",
       "      <td>-0.115748</td>\n",
       "      <td>-0.212726</td>\n",
       "      <td>-0.037781</td>\n",
       "      <td>0.002280</td>\n",
       "      <td>0.096322</td>\n",
       "      <td>-0.012538</td>\n",
       "      <td>...</td>\n",
       "      <td>-0.021127</td>\n",
       "      <td>-0.148078</td>\n",
       "      <td>0.101628</td>\n",
       "      <td>0.095404</td>\n",
       "      <td>0.192290</td>\n",
       "      <td>-0.141239</td>\n",
       "      <td>-0.019931</td>\n",
       "      <td>-0.209001</td>\n",
       "      <td>0.039352</td>\n",
       "      <td>-0.287247</td>\n",
       "    </tr>\n",
       "    <tr>\n",
       "      <th>1001588</th>\n",
       "      <td>0.450582</td>\n",
       "      <td>-0.154148</td>\n",
       "      <td>0.113206</td>\n",
       "      <td>1.006491</td>\n",
       "      <td>0.751239</td>\n",
       "      <td>0.208610</td>\n",
       "      <td>0.073950</td>\n",
       "      <td>0.034433</td>\n",
       "      <td>0.013401</td>\n",
       "      <td>0.007141</td>\n",
       "      <td>...</td>\n",
       "      <td>-0.034642</td>\n",
       "      <td>-0.096371</td>\n",
       "      <td>-0.043830</td>\n",
       "      <td>-0.010137</td>\n",
       "      <td>-0.062971</td>\n",
       "      <td>0.124478</td>\n",
       "      <td>0.032251</td>\n",
       "      <td>0.046620</td>\n",
       "      <td>0.012112</td>\n",
       "      <td>-0.003206</td>\n",
       "    </tr>\n",
       "    <tr>\n",
       "      <th>1001606</th>\n",
       "      <td>1.003073</td>\n",
       "      <td>-0.623449</td>\n",
       "      <td>-0.369852</td>\n",
       "      <td>0.495251</td>\n",
       "      <td>-0.126210</td>\n",
       "      <td>-0.216949</td>\n",
       "      <td>-0.036066</td>\n",
       "      <td>0.007362</td>\n",
       "      <td>0.085205</td>\n",
       "      <td>-0.005006</td>\n",
       "      <td>...</td>\n",
       "      <td>-0.030855</td>\n",
       "      <td>-0.044015</td>\n",
       "      <td>-0.001673</td>\n",
       "      <td>-0.019508</td>\n",
       "      <td>-0.036033</td>\n",
       "      <td>0.010694</td>\n",
       "      <td>0.029710</td>\n",
       "      <td>0.062039</td>\n",
       "      <td>-0.134516</td>\n",
       "      <td>0.169932</td>\n",
       "    </tr>\n",
       "    <tr>\n",
       "      <th>1002042</th>\n",
       "      <td>0.466080</td>\n",
       "      <td>-0.143793</td>\n",
       "      <td>0.103378</td>\n",
       "      <td>1.014509</td>\n",
       "      <td>0.748322</td>\n",
       "      <td>0.207734</td>\n",
       "      <td>0.060810</td>\n",
       "      <td>0.026635</td>\n",
       "      <td>0.023192</td>\n",
       "      <td>-0.001750</td>\n",
       "      <td>...</td>\n",
       "      <td>-0.010798</td>\n",
       "      <td>-0.150577</td>\n",
       "      <td>0.108524</td>\n",
       "      <td>0.096416</td>\n",
       "      <td>0.194678</td>\n",
       "      <td>-0.137793</td>\n",
       "      <td>-0.018459</td>\n",
       "      <td>-0.218849</td>\n",
       "      <td>0.032258</td>\n",
       "      <td>-0.301445</td>\n",
       "    </tr>\n",
       "    <tr>\n",
       "      <th>1002062</th>\n",
       "      <td>0.466080</td>\n",
       "      <td>-0.143793</td>\n",
       "      <td>0.103378</td>\n",
       "      <td>1.014509</td>\n",
       "      <td>0.748322</td>\n",
       "      <td>0.207734</td>\n",
       "      <td>0.060810</td>\n",
       "      <td>0.026635</td>\n",
       "      <td>0.023192</td>\n",
       "      <td>-0.001750</td>\n",
       "      <td>...</td>\n",
       "      <td>-0.010798</td>\n",
       "      <td>-0.150577</td>\n",
       "      <td>0.108524</td>\n",
       "      <td>0.096416</td>\n",
       "      <td>0.194678</td>\n",
       "      <td>-0.137793</td>\n",
       "      <td>-0.018459</td>\n",
       "      <td>-0.218849</td>\n",
       "      <td>0.032258</td>\n",
       "      <td>-0.301445</td>\n",
       "    </tr>\n",
       "  </tbody>\n",
       "</table>\n",
       "<p>5 rows × 50 columns</p>\n",
       "</div>"
      ],
      "text/plain": [
       "                0         1         2         3         4         5         6  \\\n",
       "1000978  1.011997 -0.623184 -0.380176  0.486457 -0.115748 -0.212726 -0.037781   \n",
       "1001588  0.450582 -0.154148  0.113206  1.006491  0.751239  0.208610  0.073950   \n",
       "1001606  1.003073 -0.623449 -0.369852  0.495251 -0.126210 -0.216949 -0.036066   \n",
       "1002042  0.466080 -0.143793  0.103378  1.014509  0.748322  0.207734  0.060810   \n",
       "1002062  0.466080 -0.143793  0.103378  1.014509  0.748322  0.207734  0.060810   \n",
       "\n",
       "                7         8         9  ...        40        41        42  \\\n",
       "1000978  0.002280  0.096322 -0.012538  ... -0.021127 -0.148078  0.101628   \n",
       "1001588  0.034433  0.013401  0.007141  ... -0.034642 -0.096371 -0.043830   \n",
       "1001606  0.007362  0.085205 -0.005006  ... -0.030855 -0.044015 -0.001673   \n",
       "1002042  0.026635  0.023192 -0.001750  ... -0.010798 -0.150577  0.108524   \n",
       "1002062  0.026635  0.023192 -0.001750  ... -0.010798 -0.150577  0.108524   \n",
       "\n",
       "               43        44        45        46        47        48        49  \n",
       "1000978  0.095404  0.192290 -0.141239 -0.019931 -0.209001  0.039352 -0.287247  \n",
       "1001588 -0.010137 -0.062971  0.124478  0.032251  0.046620  0.012112 -0.003206  \n",
       "1001606 -0.019508 -0.036033  0.010694  0.029710  0.062039 -0.134516  0.169932  \n",
       "1002042  0.096416  0.194678 -0.137793 -0.018459 -0.218849  0.032258 -0.301445  \n",
       "1002062  0.096416  0.194678 -0.137793 -0.018459 -0.218849  0.032258 -0.301445  \n",
       "\n",
       "[5 rows x 50 columns]"
      ]
     },
     "execution_count": 8,
     "metadata": {},
     "output_type": "execute_result"
    }
   ],
   "source": [
    "df_1.head()"
   ]
  },
  {
   "cell_type": "code",
   "execution_count": 9,
   "id": "01b5762f",
   "metadata": {},
   "outputs": [
    {
     "data": {
      "text/html": [
       "<div>\n",
       "<style scoped>\n",
       "    .dataframe tbody tr th:only-of-type {\n",
       "        vertical-align: middle;\n",
       "    }\n",
       "\n",
       "    .dataframe tbody tr th {\n",
       "        vertical-align: top;\n",
       "    }\n",
       "\n",
       "    .dataframe thead th {\n",
       "        text-align: right;\n",
       "    }\n",
       "</style>\n",
       "<table border=\"1\" class=\"dataframe\">\n",
       "  <thead>\n",
       "    <tr style=\"text-align: right;\">\n",
       "      <th></th>\n",
       "      <th>0</th>\n",
       "      <th>1</th>\n",
       "      <th>2</th>\n",
       "      <th>3</th>\n",
       "      <th>4</th>\n",
       "      <th>5</th>\n",
       "      <th>6</th>\n",
       "      <th>7</th>\n",
       "      <th>8</th>\n",
       "      <th>9</th>\n",
       "      <th>...</th>\n",
       "      <th>90</th>\n",
       "      <th>91</th>\n",
       "      <th>92</th>\n",
       "      <th>93</th>\n",
       "      <th>94</th>\n",
       "      <th>95</th>\n",
       "      <th>96</th>\n",
       "      <th>97</th>\n",
       "      <th>98</th>\n",
       "      <th>99</th>\n",
       "    </tr>\n",
       "  </thead>\n",
       "  <tbody>\n",
       "    <tr>\n",
       "      <th>1000978</th>\n",
       "      <td>3.457116e-12</td>\n",
       "      <td>-7.647303e-12</td>\n",
       "      <td>-5.229807e-11</td>\n",
       "      <td>-5.223009e-12</td>\n",
       "      <td>7.521721e-11</td>\n",
       "      <td>4.100482e-11</td>\n",
       "      <td>2.002182e-11</td>\n",
       "      <td>2.784693e-12</td>\n",
       "      <td>3.707997e-10</td>\n",
       "      <td>1.602469e-11</td>\n",
       "      <td>...</td>\n",
       "      <td>3.657432e-11</td>\n",
       "      <td>-2.287473e-10</td>\n",
       "      <td>3.632910e-10</td>\n",
       "      <td>3.954256e-10</td>\n",
       "      <td>-7.914660e-11</td>\n",
       "      <td>3.949634e-10</td>\n",
       "      <td>-9.391689e-11</td>\n",
       "      <td>-7.042974e-11</td>\n",
       "      <td>2.911405e-10</td>\n",
       "      <td>1.421546e-10</td>\n",
       "    </tr>\n",
       "    <tr>\n",
       "      <th>1001588</th>\n",
       "      <td>-3.414175e-10</td>\n",
       "      <td>-4.915963e-10</td>\n",
       "      <td>1.281209e-09</td>\n",
       "      <td>4.920853e-10</td>\n",
       "      <td>3.701399e-09</td>\n",
       "      <td>1.432284e-08</td>\n",
       "      <td>5.503048e-09</td>\n",
       "      <td>-3.178901e-09</td>\n",
       "      <td>-7.128125e-09</td>\n",
       "      <td>-8.080676e-09</td>\n",
       "      <td>...</td>\n",
       "      <td>-5.754571e-08</td>\n",
       "      <td>-1.927902e-08</td>\n",
       "      <td>4.152988e-08</td>\n",
       "      <td>1.843542e-08</td>\n",
       "      <td>2.513252e-08</td>\n",
       "      <td>4.960889e-08</td>\n",
       "      <td>-1.548731e-08</td>\n",
       "      <td>2.504717e-08</td>\n",
       "      <td>-6.208404e-09</td>\n",
       "      <td>2.985416e-08</td>\n",
       "    </tr>\n",
       "    <tr>\n",
       "      <th>1001606</th>\n",
       "      <td>4.432515e-12</td>\n",
       "      <td>-6.376881e-12</td>\n",
       "      <td>-3.472441e-11</td>\n",
       "      <td>3.290277e-11</td>\n",
       "      <td>-4.962909e-11</td>\n",
       "      <td>3.091941e-11</td>\n",
       "      <td>-1.784861e-11</td>\n",
       "      <td>-1.440861e-10</td>\n",
       "      <td>9.653236e-11</td>\n",
       "      <td>-2.458111e-11</td>\n",
       "      <td>...</td>\n",
       "      <td>1.754743e-10</td>\n",
       "      <td>-5.235417e-10</td>\n",
       "      <td>-8.677409e-11</td>\n",
       "      <td>6.597006e-10</td>\n",
       "      <td>6.133764e-10</td>\n",
       "      <td>2.535012e-10</td>\n",
       "      <td>-1.626082e-10</td>\n",
       "      <td>-1.763363e-10</td>\n",
       "      <td>6.570468e-10</td>\n",
       "      <td>1.994303e-10</td>\n",
       "    </tr>\n",
       "    <tr>\n",
       "      <th>1002042</th>\n",
       "      <td>1.235610e-11</td>\n",
       "      <td>-1.841875e-12</td>\n",
       "      <td>2.211459e-11</td>\n",
       "      <td>3.281866e-11</td>\n",
       "      <td>5.148971e-12</td>\n",
       "      <td>-1.277910e-10</td>\n",
       "      <td>-2.298846e-11</td>\n",
       "      <td>-1.277047e-10</td>\n",
       "      <td>-8.637708e-12</td>\n",
       "      <td>-9.145993e-11</td>\n",
       "      <td>...</td>\n",
       "      <td>5.049348e-10</td>\n",
       "      <td>1.240354e-10</td>\n",
       "      <td>-9.891541e-10</td>\n",
       "      <td>1.354112e-10</td>\n",
       "      <td>1.585830e-10</td>\n",
       "      <td>-2.993687e-10</td>\n",
       "      <td>-7.985069e-10</td>\n",
       "      <td>6.287094e-10</td>\n",
       "      <td>5.029197e-10</td>\n",
       "      <td>3.445676e-10</td>\n",
       "    </tr>\n",
       "    <tr>\n",
       "      <th>1002062</th>\n",
       "      <td>-4.436925e-12</td>\n",
       "      <td>-2.987696e-12</td>\n",
       "      <td>-5.152762e-11</td>\n",
       "      <td>-7.689036e-11</td>\n",
       "      <td>5.316302e-11</td>\n",
       "      <td>1.327261e-10</td>\n",
       "      <td>4.074853e-11</td>\n",
       "      <td>-2.240237e-11</td>\n",
       "      <td>2.214909e-10</td>\n",
       "      <td>-5.582463e-11</td>\n",
       "      <td>...</td>\n",
       "      <td>-3.713891e-10</td>\n",
       "      <td>9.041996e-13</td>\n",
       "      <td>-9.825824e-10</td>\n",
       "      <td>-6.583270e-10</td>\n",
       "      <td>1.842813e-10</td>\n",
       "      <td>6.051739e-11</td>\n",
       "      <td>3.975980e-11</td>\n",
       "      <td>-1.179401e-11</td>\n",
       "      <td>-1.539785e-10</td>\n",
       "      <td>-4.021296e-11</td>\n",
       "    </tr>\n",
       "  </tbody>\n",
       "</table>\n",
       "<p>5 rows × 100 columns</p>\n",
       "</div>"
      ],
      "text/plain": [
       "                    0             1             2             3             4  \\\n",
       "1000978  3.457116e-12 -7.647303e-12 -5.229807e-11 -5.223009e-12  7.521721e-11   \n",
       "1001588 -3.414175e-10 -4.915963e-10  1.281209e-09  4.920853e-10  3.701399e-09   \n",
       "1001606  4.432515e-12 -6.376881e-12 -3.472441e-11  3.290277e-11 -4.962909e-11   \n",
       "1002042  1.235610e-11 -1.841875e-12  2.211459e-11  3.281866e-11  5.148971e-12   \n",
       "1002062 -4.436925e-12 -2.987696e-12 -5.152762e-11 -7.689036e-11  5.316302e-11   \n",
       "\n",
       "                    5             6             7             8             9  \\\n",
       "1000978  4.100482e-11  2.002182e-11  2.784693e-12  3.707997e-10  1.602469e-11   \n",
       "1001588  1.432284e-08  5.503048e-09 -3.178901e-09 -7.128125e-09 -8.080676e-09   \n",
       "1001606  3.091941e-11 -1.784861e-11 -1.440861e-10  9.653236e-11 -2.458111e-11   \n",
       "1002042 -1.277910e-10 -2.298846e-11 -1.277047e-10 -8.637708e-12 -9.145993e-11   \n",
       "1002062  1.327261e-10  4.074853e-11 -2.240237e-11  2.214909e-10 -5.582463e-11   \n",
       "\n",
       "         ...            90            91            92            93  \\\n",
       "1000978  ...  3.657432e-11 -2.287473e-10  3.632910e-10  3.954256e-10   \n",
       "1001588  ... -5.754571e-08 -1.927902e-08  4.152988e-08  1.843542e-08   \n",
       "1001606  ...  1.754743e-10 -5.235417e-10 -8.677409e-11  6.597006e-10   \n",
       "1002042  ...  5.049348e-10  1.240354e-10 -9.891541e-10  1.354112e-10   \n",
       "1002062  ... -3.713891e-10  9.041996e-13 -9.825824e-10 -6.583270e-10   \n",
       "\n",
       "                   94            95            96            97            98  \\\n",
       "1000978 -7.914660e-11  3.949634e-10 -9.391689e-11 -7.042974e-11  2.911405e-10   \n",
       "1001588  2.513252e-08  4.960889e-08 -1.548731e-08  2.504717e-08 -6.208404e-09   \n",
       "1001606  6.133764e-10  2.535012e-10 -1.626082e-10 -1.763363e-10  6.570468e-10   \n",
       "1002042  1.585830e-10 -2.993687e-10 -7.985069e-10  6.287094e-10  5.029197e-10   \n",
       "1002062  1.842813e-10  6.051739e-11  3.975980e-11 -1.179401e-11 -1.539785e-10   \n",
       "\n",
       "                   99  \n",
       "1000978  1.421546e-10  \n",
       "1001588  2.985416e-08  \n",
       "1001606  1.994303e-10  \n",
       "1002042  3.445676e-10  \n",
       "1002062 -4.021296e-11  \n",
       "\n",
       "[5 rows x 100 columns]"
      ]
     },
     "execution_count": 9,
     "metadata": {},
     "output_type": "execute_result"
    }
   ],
   "source": [
    "df_2.head()"
   ]
  },
  {
   "cell_type": "markdown",
   "id": "e480518d",
   "metadata": {},
   "source": [
    "# Latent matrix from metadata"
   ]
  },
  {
   "cell_type": "code",
   "execution_count": 2,
   "id": "fe0bd973",
   "metadata": {},
   "outputs": [],
   "source": [
    "filename = '../data/10%sample/2019-Oct.csv_10%.csv'"
   ]
  },
  {
   "cell_type": "code",
   "execution_count": 3,
   "id": "9012102a",
   "metadata": {},
   "outputs": [
    {
     "name": "stdout",
     "output_type": "stream",
     "text": [
      "/Users/helena/code/sailormoonvicky/eCommerce/notebooks\r\n"
     ]
    }
   ],
   "source": [
    "!pwd"
   ]
  },
  {
   "cell_type": "code",
   "execution_count": 4,
   "id": "8cb5359b",
   "metadata": {},
   "outputs": [
    {
     "data": {
      "text/plain": [
       "(4248118, 9)"
      ]
     },
     "execution_count": 4,
     "metadata": {},
     "output_type": "execute_result"
    }
   ],
   "source": [
    "import random\n",
    "p = 1  # 1% of the lines\n",
    "# keep the header, then take only 1% of lines\n",
    "# if random from [0,1] interval is greater than 0.01 the row will be skipped\n",
    "df = pd.read_csv(\n",
    "         filename,\n",
    "         header=0, \n",
    "         skiprows=lambda i: i>0 and random.random() > p\n",
    ")\n",
    "df.shape"
   ]
  },
  {
   "cell_type": "code",
   "execution_count": 5,
   "id": "1bcf8b6b",
   "metadata": {},
   "outputs": [
    {
     "data": {
      "text/html": [
       "<div>\n",
       "<style scoped>\n",
       "    .dataframe tbody tr th:only-of-type {\n",
       "        vertical-align: middle;\n",
       "    }\n",
       "\n",
       "    .dataframe tbody tr th {\n",
       "        vertical-align: top;\n",
       "    }\n",
       "\n",
       "    .dataframe thead th {\n",
       "        text-align: right;\n",
       "    }\n",
       "</style>\n",
       "<table border=\"1\" class=\"dataframe\">\n",
       "  <thead>\n",
       "    <tr style=\"text-align: right;\">\n",
       "      <th></th>\n",
       "      <th>event_time</th>\n",
       "      <th>event_type</th>\n",
       "      <th>product_id</th>\n",
       "      <th>category_id</th>\n",
       "      <th>category_code</th>\n",
       "      <th>brand</th>\n",
       "      <th>price</th>\n",
       "      <th>user_id</th>\n",
       "      <th>user_session</th>\n",
       "    </tr>\n",
       "  </thead>\n",
       "  <tbody>\n",
       "    <tr>\n",
       "      <th>0</th>\n",
       "      <td>2019-10-01 00:00:17 UTC</td>\n",
       "      <td>view</td>\n",
       "      <td>23100006</td>\n",
       "      <td>2053013561638126333</td>\n",
       "      <td>NaN</td>\n",
       "      <td>NaN</td>\n",
       "      <td>357.79</td>\n",
       "      <td>513642368</td>\n",
       "      <td>17566c27-0a8f-4506-9f30-c6a2ccbf583b</td>\n",
       "    </tr>\n",
       "    <tr>\n",
       "      <th>1</th>\n",
       "      <td>2019-10-01 00:00:20 UTC</td>\n",
       "      <td>view</td>\n",
       "      <td>4803399</td>\n",
       "      <td>2053013554658804075</td>\n",
       "      <td>electronics.audio.headphone</td>\n",
       "      <td>jbl</td>\n",
       "      <td>33.21</td>\n",
       "      <td>555428858</td>\n",
       "      <td>8a6afed4-77f8-40c9-8e76-e062b28216ce</td>\n",
       "    </tr>\n",
       "    <tr>\n",
       "      <th>2</th>\n",
       "      <td>2019-10-01 00:00:23 UTC</td>\n",
       "      <td>view</td>\n",
       "      <td>6200260</td>\n",
       "      <td>2053013552293216471</td>\n",
       "      <td>appliances.environment.air_heater</td>\n",
       "      <td>midea</td>\n",
       "      <td>47.62</td>\n",
       "      <td>538645907</td>\n",
       "      <td>7d9a8784-7b6c-426e-9924-9f688812fd71</td>\n",
       "    </tr>\n",
       "    <tr>\n",
       "      <th>3</th>\n",
       "      <td>2019-10-01 00:00:58 UTC</td>\n",
       "      <td>view</td>\n",
       "      <td>4802639</td>\n",
       "      <td>2053013554658804075</td>\n",
       "      <td>electronics.audio.headphone</td>\n",
       "      <td>sony</td>\n",
       "      <td>218.77</td>\n",
       "      <td>514808401</td>\n",
       "      <td>1877639d-46a4-44f8-bae9-a14456952240</td>\n",
       "    </tr>\n",
       "    <tr>\n",
       "      <th>4</th>\n",
       "      <td>2019-10-01 00:01:11 UTC</td>\n",
       "      <td>view</td>\n",
       "      <td>1004836</td>\n",
       "      <td>2053013555631882655</td>\n",
       "      <td>electronics.smartphone</td>\n",
       "      <td>samsung</td>\n",
       "      <td>241.19</td>\n",
       "      <td>546259103</td>\n",
       "      <td>6e2984c8-502e-4fe7-bbba-34087f760175</td>\n",
       "    </tr>\n",
       "  </tbody>\n",
       "</table>\n",
       "</div>"
      ],
      "text/plain": [
       "                event_time event_type  product_id          category_id  \\\n",
       "0  2019-10-01 00:00:17 UTC       view    23100006  2053013561638126333   \n",
       "1  2019-10-01 00:00:20 UTC       view     4803399  2053013554658804075   \n",
       "2  2019-10-01 00:00:23 UTC       view     6200260  2053013552293216471   \n",
       "3  2019-10-01 00:00:58 UTC       view     4802639  2053013554658804075   \n",
       "4  2019-10-01 00:01:11 UTC       view     1004836  2053013555631882655   \n",
       "\n",
       "                       category_code    brand   price    user_id  \\\n",
       "0                                NaN      NaN  357.79  513642368   \n",
       "1        electronics.audio.headphone      jbl   33.21  555428858   \n",
       "2  appliances.environment.air_heater    midea   47.62  538645907   \n",
       "3        electronics.audio.headphone     sony  218.77  514808401   \n",
       "4             electronics.smartphone  samsung  241.19  546259103   \n",
       "\n",
       "                           user_session  \n",
       "0  17566c27-0a8f-4506-9f30-c6a2ccbf583b  \n",
       "1  8a6afed4-77f8-40c9-8e76-e062b28216ce  \n",
       "2  7d9a8784-7b6c-426e-9924-9f688812fd71  \n",
       "3  1877639d-46a4-44f8-bae9-a14456952240  \n",
       "4  6e2984c8-502e-4fe7-bbba-34087f760175  "
      ]
     },
     "execution_count": 5,
     "metadata": {},
     "output_type": "execute_result"
    }
   ],
   "source": [
    "df.head()"
   ]
  },
  {
   "cell_type": "code",
   "execution_count": null,
   "id": "acafa99e",
   "metadata": {},
   "outputs": [],
   "source": [
    "df.category_code.nunique()"
   ]
  },
  {
   "cell_type": "code",
   "execution_count": null,
   "id": "eddf4d1f",
   "metadata": {},
   "outputs": [],
   "source": [
    "df.columns"
   ]
  },
  {
   "cell_type": "code",
   "execution_count": null,
   "id": "1c259065",
   "metadata": {},
   "outputs": [],
   "source": [
    "df.head()"
   ]
  },
  {
   "cell_type": "code",
   "execution_count": null,
   "id": "384abaac",
   "metadata": {},
   "outputs": [],
   "source": [
    "def preprocessing_feat(X, drop_event_time=False):\n",
    "    if drop_event_time:\n",
    "        X = X.drop(\"event_time\", axis=1)\n",
    "    \n",
    "    X_preprocessed = X.dropna(subset = ['category_code', 'brand']) #tbd!!\n",
    "    X_preprocessed = X_preprocessed.drop_duplicates()\n",
    "    X_preprocessed['category_code'] = X_preprocessed['category_code'].str.replace('.',' ')\n",
    "    return X_preprocessed"
   ]
  },
  {
   "cell_type": "code",
   "execution_count": null,
   "id": "2689a181",
   "metadata": {},
   "outputs": [],
   "source": [
    "X_preprocessed = preprocessing_feat(df,  drop_event_time=True)"
   ]
  },
  {
   "cell_type": "code",
   "execution_count": null,
   "id": "df390005",
   "metadata": {},
   "outputs": [],
   "source": [
    "X_preprocessed.shape"
   ]
  },
  {
   "cell_type": "markdown",
   "id": "7f60917a",
   "metadata": {},
   "source": [
    "## Pricing criterion"
   ]
  },
  {
   "cell_type": "code",
   "execution_count": null,
   "id": "59c344db",
   "metadata": {},
   "outputs": [],
   "source": [
    "def make_column(row):\n",
    "    if row[\"price\"] < row[\"25%\"]:\n",
    "        return \"low\"\n",
    "    elif row[\"price\"] < row[\"75%\"]:\n",
    "        return \"medium\"\n",
    "    else:\n",
    "        return \"high\"\n",
    "\n",
    "def pricing_criterion(X):\n",
    "    pricing_guide = X.groupby('category_code')['price'].describe()[[\"25%\", \"75%\"]].reset_index()\n",
    "    X_merged = X.merge(pricing_guide, on=\"category_code\", how=\"right\")\n",
    "    X_merged[\"price_category\"] = X_merged.apply(lambda row: make_column(row), axis=1)\n",
    "    return X_merged\n"
   ]
  },
  {
   "cell_type": "code",
   "execution_count": null,
   "id": "c15b56fe",
   "metadata": {},
   "outputs": [],
   "source": [
    "X_merged = pricing_criterion(X_preprocessed)"
   ]
  },
  {
   "cell_type": "code",
   "execution_count": null,
   "id": "8326b89c",
   "metadata": {},
   "outputs": [],
   "source": [
    "def metadata(X):\n",
    "    X['metadata'] = X[['category_code', 'brand', 'price_category']].apply(lambda x: ' '.join(x), axis = 1)\n",
    "    return X\n"
   ]
  },
  {
   "cell_type": "code",
   "execution_count": null,
   "id": "5300e000",
   "metadata": {},
   "outputs": [],
   "source": [
    "X_meta = metadata(X_merged)\n",
    "X_meta.nunique()"
   ]
  },
  {
   "cell_type": "code",
   "execution_count": null,
   "id": "c35fd7f5",
   "metadata": {},
   "outputs": [],
   "source": [
    "X_meta.set_index(X_meta['product_id'], inplace=True)"
   ]
  },
  {
   "cell_type": "code",
   "execution_count": null,
   "id": "55f41b1b",
   "metadata": {},
   "outputs": [],
   "source": [
    "print(X_meta.shape)\n",
    "X_meta.head()"
   ]
  },
  {
   "cell_type": "markdown",
   "id": "ca43bf95",
   "metadata": {},
   "source": [
    "### Count Vectorizer"
   ]
  },
  {
   "cell_type": "code",
   "execution_count": null,
   "id": "53a0b2e9",
   "metadata": {},
   "outputs": [],
   "source": [
    "count = CountVectorizer()\n",
    "count_matrix = count.fit_transform(X_meta['metadata'])\n",
    "count_df_1 = pd.DataFrame(count_matrix.toarray(), index=X_meta.product_id.tolist())\n",
    "print(count_df_1.shape)\n",
    "count_df_1.head()"
   ]
  },
  {
   "cell_type": "code",
   "execution_count": null,
   "id": "c550b6d6",
   "metadata": {},
   "outputs": [],
   "source": [
    "count_df_1 = count_df_1.reset_index()"
   ]
  },
  {
   "cell_type": "code",
   "execution_count": null,
   "id": "81a2a600",
   "metadata": {},
   "outputs": [],
   "source": [
    "len(list(set(count_df_1.index)))#.nunique()"
   ]
  },
  {
   "cell_type": "code",
   "execution_count": null,
   "id": "3439b41c",
   "metadata": {},
   "outputs": [],
   "source": [
    "count_df_1.drop_duplicates(subset='index', keep='first', inplace=True) \n",
    "count_df_1[\"product_id\"] = count_df_1[\"index\"]\n",
    "count_df_1.drop(\"index\", axis=1, inplace=True)\n",
    "count_df_1.head()"
   ]
  },
  {
   "cell_type": "markdown",
   "id": "139ee061",
   "metadata": {},
   "source": [
    "### Dimensionality reduction"
   ]
  },
  {
   "cell_type": "code",
   "execution_count": null,
   "id": "238498de",
   "metadata": {},
   "outputs": [],
   "source": [
    "n = 50\n",
    "svd = TruncatedSVD(n_components=n)\n",
    "latent_df_1 = svd.fit_transform(count_df_1.set_index(\"product_id\"))"
   ]
  },
  {
   "cell_type": "code",
   "execution_count": null,
   "id": "c3810dbf",
   "metadata": {},
   "outputs": [],
   "source": [
    "plt.plot(svd.explained_variance_ratio_.cumsum())\n",
    "plt.xlabel('number of singular value components')\n",
    "plt.ylabel('Cumulative percent of variance')   \n",
    "plt.grid()\n",
    "plt.show()"
   ]
  },
  {
   "cell_type": "code",
   "execution_count": null,
   "id": "f17ba857",
   "metadata": {},
   "outputs": [],
   "source": [
    "#count_df_1=count_df_1.set_index(\"product_id\")\n",
    "#count_df_1.head()\n",
    "df_for_latent1 = count_df_1.product_id.tolist()"
   ]
  },
  {
   "cell_type": "code",
   "execution_count": null,
   "id": "fc73c7bc",
   "metadata": {},
   "outputs": [],
   "source": [
    "#n defined above\n",
    "#n = 50\n",
    "latent_df_1 = pd.DataFrame(latent_df_1[:,0:n], index=df_for_latent1)\n",
    "print(latent_df_1.shape)\n",
    "latent_df_1"
   ]
  },
  {
   "cell_type": "code",
   "execution_count": null,
   "id": "e818bafb",
   "metadata": {},
   "outputs": [],
   "source": [
    "latent_df_1.reset_index().drop_duplicates().shape"
   ]
  },
  {
   "cell_type": "code",
   "execution_count": null,
   "id": "d8fe8ec7",
   "metadata": {},
   "outputs": [],
   "source": [
    "#X_meta['product_id'].nunique()"
   ]
  },
  {
   "cell_type": "markdown",
   "id": "93db8b39",
   "metadata": {},
   "source": [
    "# Latent matrix from event types"
   ]
  },
  {
   "cell_type": "code",
   "execution_count": null,
   "id": "0060c697",
   "metadata": {},
   "outputs": [],
   "source": [
    "def preprocessing_event(X):\n",
    "    X_preprocessed = X.dropna(subset = ['category_code', 'brand']) #tbd!!\n",
    "    X_preprocessed = X_preprocessed.drop_duplicates()\n",
    "    return X_preprocessed"
   ]
  },
  {
   "cell_type": "code",
   "execution_count": null,
   "id": "21e0f6d2",
   "metadata": {},
   "outputs": [],
   "source": [
    "df_event = preprocessing_event(df)\n",
    "df_event.user_id.nunique()"
   ]
  },
  {
   "cell_type": "code",
   "execution_count": null,
   "id": "da09853f",
   "metadata": {},
   "outputs": [],
   "source": [
    "dct = {'view': 1, 'cart': 3, 'purchase': 5}"
   ]
  },
  {
   "cell_type": "code",
   "execution_count": null,
   "id": "017db36f",
   "metadata": {},
   "outputs": [],
   "source": [
    "df_event['rating'] = df_event['event_type'].map(dct)"
   ]
  },
  {
   "cell_type": "code",
   "execution_count": null,
   "id": "9b504622",
   "metadata": {},
   "outputs": [],
   "source": [
    "df_event[\"rating\"].sum()"
   ]
  },
  {
   "cell_type": "code",
   "execution_count": null,
   "id": "6c8be956",
   "metadata": {},
   "outputs": [],
   "source": [
    "# df_rating.shape"
   ]
  },
  {
   "cell_type": "code",
   "execution_count": null,
   "id": "c402b446",
   "metadata": {},
   "outputs": [],
   "source": [
    "# df_rating = df_event.pivot_table(values='rating',\n",
    "#                                  index='product_id',\n",
    "#                                  columns='user_id',\n",
    "#                                  aggfunc=\"sum\").fillna(0)\n",
    "# df_rating"
   ]
  },
  {
   "cell_type": "code",
   "execution_count": null,
   "id": "1e195925",
   "metadata": {},
   "outputs": [],
   "source": [
    "df_event.nunique()"
   ]
  },
  {
   "cell_type": "code",
   "execution_count": null,
   "id": "bfe680cd",
   "metadata": {},
   "outputs": [],
   "source": [
    "df_event.drop_duplicates(subset='product_id',inplace=True)\n",
    "df_event.nunique()"
   ]
  },
  {
   "cell_type": "code",
   "execution_count": null,
   "id": "33e86ab0",
   "metadata": {},
   "outputs": [],
   "source": [
    "%%time\n",
    "\n",
    "df_rating = df_event.pivot(values='rating',\n",
    "               index='product_id',\n",
    "               columns='user_id').fillna(0)\n",
    "\n",
    "df_rating"
   ]
  },
  {
   "cell_type": "code",
   "execution_count": null,
   "id": "f407362f",
   "metadata": {},
   "outputs": [],
   "source": [
    "df_rating.sum().reset_index()[0].sum()"
   ]
  },
  {
   "cell_type": "code",
   "execution_count": null,
   "id": "cea898fa",
   "metadata": {},
   "outputs": [],
   "source": [
    "df_event.groupby(\"user_id\").agg({\"rating\":sum}).sort_values(by=\"rating\").sum()"
   ]
  },
  {
   "cell_type": "code",
   "execution_count": null,
   "id": "06b54862",
   "metadata": {},
   "outputs": [],
   "source": [
    "df_event.groupby(\"user_id\").agg({\"rating\":sum}).sort_values(by=\"rating\").sum()"
   ]
  },
  {
   "cell_type": "code",
   "execution_count": null,
   "id": "63bebc7b",
   "metadata": {},
   "outputs": [],
   "source": [
    "df_rating.reset_index()"
   ]
  },
  {
   "cell_type": "code",
   "execution_count": null,
   "id": "c6fc8a6f",
   "metadata": {},
   "outputs": [],
   "source": [
    "svd = TruncatedSVD(n_components=75)\n",
    "latent_df_2 = svd.fit_transform(df_rating)"
   ]
  },
  {
   "cell_type": "code",
   "execution_count": null,
   "id": "15a466b4",
   "metadata": {},
   "outputs": [],
   "source": [
    "plt.plot(svd.explained_variance_ratio_.cumsum())\n",
    "plt.xlabel('number of singular value components')\n",
    "plt.ylabel('Cumulative percent of variance')   \n",
    "plt.grid()\n",
    "plt.show()"
   ]
  },
  {
   "cell_type": "code",
   "execution_count": null,
   "id": "d9e69064",
   "metadata": {},
   "outputs": [],
   "source": [
    "latent_df_2 = pd.DataFrame(latent_df_2, index=df_rating.reset_index().product_id.tolist())\n",
    "latent_df_2.head()"
   ]
  },
  {
   "cell_type": "code",
   "execution_count": null,
   "id": "dbc028d6",
   "metadata": {},
   "outputs": [],
   "source": [
    "latent_df_2.shape"
   ]
  },
  {
   "cell_type": "markdown",
   "id": "89e74e25",
   "metadata": {},
   "source": [
    "# Apply Cosine Similarity in Content and Collaborative Matrices\n"
   ]
  },
  {
   "cell_type": "code",
   "execution_count": null,
   "id": "8e73abf3",
   "metadata": {},
   "outputs": [],
   "source": [
    "product_id=5100337"
   ]
  },
  {
   "cell_type": "code",
   "execution_count": null,
   "id": "7387165f",
   "metadata": {},
   "outputs": [],
   "source": [
    "# Get the latent vectors for \"Toy Story\" from content and collaborative matrices\n",
    "v1 = np.array(latent_df_1.loc[product_id]).reshape(1, -1)\n",
    "v2 = np.array(latent_df_2.loc[product_id]).reshape(1, -1)\n",
    "\n",
    "# Compute the cosine similarity of this movie with the others in the list\n",
    "sim1 = cosine_similarity(latent_df_1, v1).reshape(-1)\n",
    "sim2 = cosine_similarity(latent_df_2, v2).reshape(-1)"
   ]
  },
  {
   "cell_type": "code",
   "execution_count": null,
   "id": "4b4e7328",
   "metadata": {},
   "outputs": [],
   "source": [
    "dictDf_1 = {'features': sim1} \n",
    "recommendation_df_1 = pd.DataFrame(dictDf_1, index = latent_df_1.index)\n",
    "# recommendation_df_1.sort_values('features', ascending=False, inplace=True)"
   ]
  },
  {
   "cell_type": "code",
   "execution_count": null,
   "id": "5a04c1b5",
   "metadata": {},
   "outputs": [],
   "source": [
    "dictDf_2 = {'ratings': sim2} \n",
    "recommendation_df_2 = pd.DataFrame(dictDf_2, index = latent_df_2.index)\n",
    "# recommendation_df_2.sort_values('ratings', ascending=False, inplace=True)"
   ]
  },
  {
   "cell_type": "code",
   "execution_count": null,
   "id": "37ca2588",
   "metadata": {},
   "outputs": [],
   "source": [
    "weight_features = 0.8"
   ]
  },
  {
   "cell_type": "code",
   "execution_count": null,
   "id": "8a3c8ee2",
   "metadata": {},
   "outputs": [],
   "source": [
    "recommendation_combined = pd.merge(recommendation_df_1, recommendation_df_2, left_index=True, right_index=True)\n",
    "recommendation_combined['hybrid'] = ((weight_features*recommendation_combined['features'] + (1-weight_features)*recommendation_combined['ratings']))"
   ]
  },
  {
   "cell_type": "code",
   "execution_count": null,
   "id": "fcf426d9",
   "metadata": {},
   "outputs": [],
   "source": [
    "recommendation_combined.sort_values('ratings', ascending=False, inplace=True)\n",
    "recommendation_combined"
   ]
  },
  {
   "cell_type": "code",
   "execution_count": null,
   "id": "883eade5",
   "metadata": {},
   "outputs": [],
   "source": [
    "recommendation_combined.head()"
   ]
  },
  {
   "cell_type": "code",
   "execution_count": null,
   "id": "22e476e7",
   "metadata": {},
   "outputs": [],
   "source": [
    "def top_n_products(rec_df, meta_df, n=10, ranking='hybrid'):\n",
    "    \n",
    "    \"\"\"Valid inouts for ranking: 'features', 'ratings', 'hybrid'\"\"\"\n",
    "    \n",
    "    feat_idx = rec_df.sort_values(ranking, ascending=False).index\n",
    "    \n",
    "    \n",
    "    return feat_idx\n",
    "    \n",
    "#     for i in feat_idx:\n",
    "#         meta_text = meta_df[meta_df['product_id'] == i][['metadata']].iloc[0,:][0]\n",
    "#         lst = []\n",
    "#         lst.append(meta_text)\n",
    "#         return lst"
   ]
  },
  {
   "cell_type": "code",
   "execution_count": null,
   "id": "ae56c3b0",
   "metadata": {},
   "outputs": [],
   "source": [
    "indexes = top_n_products(recommendation_combined, X_meta, ranking='features')"
   ]
  },
  {
   "cell_type": "code",
   "execution_count": null,
   "id": "657a86ec",
   "metadata": {},
   "outputs": [],
   "source": [
    "indexes"
   ]
  },
  {
   "cell_type": "code",
   "execution_count": null,
   "id": "e23a6afa",
   "metadata": {},
   "outputs": [],
   "source": [
    "len(indexes)"
   ]
  },
  {
   "cell_type": "code",
   "execution_count": null,
   "id": "c79c5c12",
   "metadata": {},
   "outputs": [],
   "source": [
    "X_meta[X_meta.index.isin(indexes)]['metadata']"
   ]
  },
  {
   "cell_type": "code",
   "execution_count": null,
   "id": "90aca40e",
   "metadata": {},
   "outputs": [],
   "source": [
    "X_meta.head()"
   ]
  },
  {
   "cell_type": "code",
   "execution_count": null,
   "id": "232ecb77",
   "metadata": {},
   "outputs": [],
   "source": [
    "def top_n_products(rec_df, meta_df, n=10, ranking='hybrid'):\n",
    "    \n",
    "    \"\"\"Valid inputs for ranking: 'features', 'ratings', 'hybrid'\"\"\"\n",
    "\n",
    "    feat_idx = rec_df.sort_values(ranking, ascending=False).index\n",
    "    \n",
    "    counter = 0\n",
    "    \n",
    "    product_ids=[]\n",
    "    metas=[]\n",
    "    prices=[]\n",
    "    \n",
    "    for i in feat_idx:\n",
    "        meta_text = meta_df[meta_df['product_id'] == i][['metadata']].iloc[0,:][0]\n",
    "        price = meta_df[meta_df['product_id'] == i][['price']].iloc[0,:][0]\n",
    "        \n",
    "#         if counter == 0:\n",
    "#             print(f\"Top {n} recommendations for product_id {product_id}:\")\n",
    "#             print(f\"{i} - {meta_text} {price} \\n\")\n",
    "#             print(\"-----------------------\")\n",
    "\n",
    "#         else:\n",
    "#             print(f\"Rec {counter}) {i} - {meta_text} {price}\")\n",
    "        \n",
    "        product_ids.append(i)\n",
    "        metas.append(meta_text)\n",
    "        prices.append(price)\n",
    "        \n",
    "        counter += 1\n",
    "    \n",
    "    new_df = pd.DataFrame({'product_id':product_ids, 'meta_text':metas, 'price':prices})\n",
    "    \n",
    "    return new_df.drop_duplicates('meta_text').iloc[:10,:]"
   ]
  },
  {
   "cell_type": "code",
   "execution_count": null,
   "id": "f0f80499",
   "metadata": {},
   "outputs": [],
   "source": [
    "top_n_products(recommendation_combined, X_meta, ranking='features')"
   ]
  },
  {
   "cell_type": "code",
   "execution_count": null,
   "id": "b23b6a4b",
   "metadata": {},
   "outputs": [],
   "source": [
    "new_df = top_n_products(recommendation_combined, X_meta, ranking='features')"
   ]
  },
  {
   "cell_type": "code",
   "execution_count": null,
   "id": "7fda2e60",
   "metadata": {},
   "outputs": [],
   "source": [
    "new_df.drop_duplicates('meta_text').iloc[:10,:]"
   ]
  },
  {
   "cell_type": "code",
   "execution_count": null,
   "id": "5dd15a87",
   "metadata": {},
   "outputs": [],
   "source": [
    "def top_n_products(rec_df, meta_df, n=10, ranking='hybrid'):\n",
    "    \n",
    "    \"\"\"Valid inputs for ranking: 'features', 'ratings', 'hybrid'\"\"\"\n",
    "\n",
    "    feat_idx = rec_df.sort_values(ranking, ascending=False).index\n",
    "    \n",
    "    counter = 0\n",
    "    \n",
    "    product_ids=[]\n",
    "    metas=[]\n",
    "    prices=[]\n",
    "    \n",
    "    for i in feat_idx:\n",
    "        meta_text = meta_df[meta_df['product_id'] == i][['metadata']].iloc[0,:][0]\n",
    "        price = meta_df[meta_df['product_id'] == i][['price']].iloc[0,:][0]\n",
    "        \n",
    "#         if counter == 0:\n",
    "#             print(f\"Top {n} recommendations for product_id {product_id}:\")\n",
    "#             print(f\"{i} - {meta_text} {price} \\n\")\n",
    "#             print(\"-----------------------\")\n",
    "\n",
    "#         else:\n",
    "#             print(f\"Rec {counter}) {i} - {meta_text} {price}\")\n",
    "        \n",
    "        product_ids.append(i)\n",
    "        metas.append(meta_text)\n",
    "        prices.append(price)\n",
    "        \n",
    "        counter += 1\n",
    "    \n",
    "    new_df = pd.DataFrame({'product_id':product_ids, 'meta_text':metas, 'price':prices}).drop_duplicates('meta_text').iloc[:n,:]\n",
    "    return new_df.reset_index().drop(columns='index')"
   ]
  },
  {
   "cell_type": "code",
   "execution_count": null,
   "id": "5094bb2f",
   "metadata": {},
   "outputs": [],
   "source": [
    "top_n_products(recommendation_combined, X_meta, ranking='features', n=10)"
   ]
  },
  {
   "cell_type": "code",
   "execution_count": null,
   "id": "3455166a",
   "metadata": {},
   "outputs": [],
   "source": []
  },
  {
   "cell_type": "code",
   "execution_count": null,
   "id": "e6f07a8e",
   "metadata": {},
   "outputs": [],
   "source": []
  },
  {
   "cell_type": "code",
   "execution_count": null,
   "id": "009846cd",
   "metadata": {},
   "outputs": [],
   "source": []
  }
 ],
 "metadata": {
  "kernelspec": {
   "display_name": "Python 3 (ipykernel)",
   "language": "python",
   "name": "python3"
  },
  "language_info": {
   "codemirror_mode": {
    "name": "ipython",
    "version": 3
   },
   "file_extension": ".py",
   "mimetype": "text/x-python",
   "name": "python",
   "nbconvert_exporter": "python",
   "pygments_lexer": "ipython3",
   "version": "3.10.6"
  },
  "toc": {
   "base_numbering": 1,
   "nav_menu": {},
   "number_sections": true,
   "sideBar": true,
   "skip_h1_title": false,
   "title_cell": "Table of Contents",
   "title_sidebar": "Contents",
   "toc_cell": false,
   "toc_position": {},
   "toc_section_display": true,
   "toc_window_display": false
  },
  "varInspector": {
   "cols": {
    "lenName": 16,
    "lenType": 16,
    "lenVar": 40
   },
   "kernels_config": {
    "python": {
     "delete_cmd_postfix": "",
     "delete_cmd_prefix": "del ",
     "library": "var_list.py",
     "varRefreshCmd": "print(var_dic_list())"
    },
    "r": {
     "delete_cmd_postfix": ") ",
     "delete_cmd_prefix": "rm(",
     "library": "var_list.r",
     "varRefreshCmd": "cat(var_dic_list()) "
    }
   },
   "types_to_exclude": [
    "module",
    "function",
    "builtin_function_or_method",
    "instance",
    "_Feature"
   ],
   "window_display": false
  }
 },
 "nbformat": 4,
 "nbformat_minor": 5
}
