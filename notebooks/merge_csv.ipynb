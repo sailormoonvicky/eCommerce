{
 "cells": [
  {
   "cell_type": "code",
   "execution_count": 1,
   "id": "c870e4eb",
   "metadata": {},
   "outputs": [],
   "source": [
    "import pandas as pd\n",
    "import numpy as np\n",
    "import matplotlib.pyplot as plt\n"
   ]
  },
  {
   "cell_type": "code",
   "execution_count": null,
   "id": "71989fa3",
   "metadata": {},
   "outputs": [],
   "source": []
  },
  {
   "cell_type": "markdown",
   "id": "ff4d5a83",
   "metadata": {},
   "source": [
    "# CSVs"
   ]
  },
  {
   "cell_type": "code",
   "execution_count": null,
   "id": "7192c05a",
   "metadata": {},
   "outputs": [],
   "source": [
    "[1307366,\n",
    " 1307067,\n",
    " 1307004,\n",
    " 1307237,\n",
    " 1307377,\n",
    " 1005115,\n",
    " 4804056,\n",
    " 1004249,\n",
    " 1002544,\n",
    " 1005105,\n",
    " 1004856,\n",
    " 1004767,\n",
    " 1004833,\n",
    " 1004870,\n",
    " 1004836,\n",
    " 1004785,\n",
    " 1004565,\n",
    " 1004781,\n",
    " 1004903,\n",
    " 1004708,\n",
    " 2702277,\n",
    " 3601485,\n",
    " 3601244,\n",
    " 3601437,\n",
    " 1802037]"
   ]
  },
  {
   "cell_type": "code",
   "execution_count": 3,
   "id": "9dc6be5f",
   "metadata": {},
   "outputs": [],
   "source": [
    "filename_1 = '../data/csv_25/1307366.csv'"
   ]
  },
  {
   "cell_type": "code",
   "execution_count": 4,
   "id": "31c4f1f8",
   "metadata": {},
   "outputs": [],
   "source": [
    "filename_2 = '../data/csv_25/1307067.csv'"
   ]
  },
  {
   "cell_type": "code",
   "execution_count": 5,
   "id": "3a3d9c8f",
   "metadata": {},
   "outputs": [],
   "source": [
    "filename_3 = '../data/csv_25/1307004.csv'"
   ]
  },
  {
   "cell_type": "code",
   "execution_count": 6,
   "id": "e8ba7bd9",
   "metadata": {},
   "outputs": [],
   "source": [
    "filename_4 = '../data/csv_25/1307237.csv'"
   ]
  },
  {
   "cell_type": "code",
   "execution_count": 7,
   "id": "6e5ac14a",
   "metadata": {},
   "outputs": [],
   "source": [
    "filename_5 = '../data/csv_25/1307377.csv'"
   ]
  },
  {
   "cell_type": "code",
   "execution_count": 8,
   "id": "125a0d7c",
   "metadata": {},
   "outputs": [],
   "source": [
    "filename_6 = '../data/csv_25/1005115.csv'"
   ]
  },
  {
   "cell_type": "code",
   "execution_count": 9,
   "id": "c59a4e1a",
   "metadata": {},
   "outputs": [],
   "source": [
    "filename_7 = '../data/csv_25/4804056.csv'"
   ]
  },
  {
   "cell_type": "code",
   "execution_count": 10,
   "id": "fab39f21",
   "metadata": {},
   "outputs": [],
   "source": [
    "filename_8 = '../data/csv_25/1004249.csv'"
   ]
  },
  {
   "cell_type": "code",
   "execution_count": 11,
   "id": "679e7732",
   "metadata": {},
   "outputs": [],
   "source": [
    "filename_9 = '../data/csv_25/1002544.csv'"
   ]
  },
  {
   "cell_type": "code",
   "execution_count": 12,
   "id": "f3947f33",
   "metadata": {},
   "outputs": [],
   "source": [
    "filename_10 = '../data/csv_25/1005105.csv'"
   ]
  },
  {
   "cell_type": "code",
   "execution_count": 13,
   "id": "1aa8b733",
   "metadata": {},
   "outputs": [],
   "source": [
    "filename_11 = '../data/csv_25/1004856.csv'"
   ]
  },
  {
   "cell_type": "code",
   "execution_count": 14,
   "id": "46752694",
   "metadata": {},
   "outputs": [],
   "source": [
    "filename_12 = '../data/csv_25/1004767.csv'"
   ]
  },
  {
   "cell_type": "code",
   "execution_count": 15,
   "id": "b51b0b76",
   "metadata": {},
   "outputs": [],
   "source": [
    "filename_13 = '../data/csv_25/1004833.csv'"
   ]
  },
  {
   "cell_type": "code",
   "execution_count": 16,
   "id": "1f24a80e",
   "metadata": {},
   "outputs": [],
   "source": [
    "filename_14 = '../data/csv_25/1004870.csv'"
   ]
  },
  {
   "cell_type": "code",
   "execution_count": 17,
   "id": "99a441e4",
   "metadata": {},
   "outputs": [],
   "source": [
    "filename_15 = '../data/csv_25/1004836.csv'"
   ]
  },
  {
   "cell_type": "code",
   "execution_count": 18,
   "id": "e77b9d85",
   "metadata": {},
   "outputs": [],
   "source": [
    "filename_16 = '../data/csv_25/1004785.csv'"
   ]
  },
  {
   "cell_type": "code",
   "execution_count": 19,
   "id": "5a141935",
   "metadata": {},
   "outputs": [],
   "source": [
    "filename_17 = '../data/csv_25/1004565.csv'"
   ]
  },
  {
   "cell_type": "code",
   "execution_count": 20,
   "id": "c7200d1d",
   "metadata": {},
   "outputs": [],
   "source": [
    "filename_18 = '../data/csv_25/1004781.csv'"
   ]
  },
  {
   "cell_type": "code",
   "execution_count": 21,
   "id": "5aaaff5e",
   "metadata": {},
   "outputs": [],
   "source": [
    "filename_19 = '../data/csv_25/1004903.csv'"
   ]
  },
  {
   "cell_type": "code",
   "execution_count": 22,
   "id": "e0a9314b",
   "metadata": {},
   "outputs": [],
   "source": [
    "filename_20 = '../data/csv_25/1004708.csv'"
   ]
  },
  {
   "cell_type": "code",
   "execution_count": 23,
   "id": "3c322618",
   "metadata": {},
   "outputs": [],
   "source": [
    "filename_21 = '../data/csv_25/2702277.csv'"
   ]
  },
  {
   "cell_type": "code",
   "execution_count": 24,
   "id": "ec0c83c1",
   "metadata": {},
   "outputs": [],
   "source": [
    "filename_22 = '../data/csv_25/3601485.csv'"
   ]
  },
  {
   "cell_type": "code",
   "execution_count": 25,
   "id": "82d35c97",
   "metadata": {},
   "outputs": [],
   "source": [
    "filename_23 = '../data/csv_25/3601244.csv'"
   ]
  },
  {
   "cell_type": "code",
   "execution_count": 26,
   "id": "8a308059",
   "metadata": {},
   "outputs": [],
   "source": [
    "filename_24 = '../data/csv_25/3601437.csv'"
   ]
  },
  {
   "cell_type": "code",
   "execution_count": 27,
   "id": "a1f7cb3b",
   "metadata": {},
   "outputs": [],
   "source": [
    "filename_25 = '../data/csv_25/1802037.csv'"
   ]
  },
  {
   "cell_type": "markdown",
   "id": "5ae2f558",
   "metadata": {},
   "source": [
    "# Dataframes"
   ]
  },
  {
   "cell_type": "code",
   "execution_count": 28,
   "id": "5337414f",
   "metadata": {},
   "outputs": [],
   "source": [
    "df_1 = pd.read_csv(filename_1, index_col=[0]).rename(columns={'product_id.1': 'product_id'})"
   ]
  },
  {
   "cell_type": "code",
   "execution_count": 29,
   "id": "db0105e5",
   "metadata": {},
   "outputs": [],
   "source": [
    "df_2 = pd.read_csv(filename_2, index_col=[0]).rename(columns={'product_id.1': 'product_id'})"
   ]
  },
  {
   "cell_type": "code",
   "execution_count": 30,
   "id": "0625b4f2",
   "metadata": {},
   "outputs": [],
   "source": [
    "df_3 = pd.read_csv(filename_3, index_col=[0]).rename(columns={'product_id.1': 'product_id'})"
   ]
  },
  {
   "cell_type": "code",
   "execution_count": 31,
   "id": "08feedc6",
   "metadata": {},
   "outputs": [],
   "source": [
    "df_4 = pd.read_csv(filename_4, index_col=[0]).rename(columns={'product_id.1': 'product_id'})"
   ]
  },
  {
   "cell_type": "code",
   "execution_count": 32,
   "id": "11d93cda",
   "metadata": {},
   "outputs": [],
   "source": [
    "df_5 = pd.read_csv(filename_5, index_col=[0]).rename(columns={'product_id.1': 'product_id'})"
   ]
  },
  {
   "cell_type": "code",
   "execution_count": 33,
   "id": "5f1a5814",
   "metadata": {},
   "outputs": [],
   "source": [
    "df_6 = pd.read_csv(filename_6, index_col=[0]).rename(columns={'product_id.1': 'product_id'})"
   ]
  },
  {
   "cell_type": "code",
   "execution_count": 34,
   "id": "c0f5a61a",
   "metadata": {},
   "outputs": [],
   "source": [
    "df_7 = pd.read_csv(filename_7, index_col=[0]).rename(columns={'product_id.1': 'product_id'})"
   ]
  },
  {
   "cell_type": "code",
   "execution_count": 35,
   "id": "cfc979cf",
   "metadata": {},
   "outputs": [],
   "source": [
    "df_8 = pd.read_csv(filename_8, index_col=[0]).rename(columns={'product_id.1': 'product_id'})"
   ]
  },
  {
   "cell_type": "code",
   "execution_count": 36,
   "id": "87f20545",
   "metadata": {},
   "outputs": [],
   "source": [
    "df_9 = pd.read_csv(filename_9, index_col=[0]).rename(columns={'product_id.1': 'product_id'})"
   ]
  },
  {
   "cell_type": "code",
   "execution_count": 37,
   "id": "abbab860",
   "metadata": {},
   "outputs": [],
   "source": [
    "df_10 = pd.read_csv(filename_10, index_col=[0]).rename(columns={'product_id.1': 'product_id'})"
   ]
  },
  {
   "cell_type": "code",
   "execution_count": 38,
   "id": "942c9e77",
   "metadata": {},
   "outputs": [],
   "source": [
    "df_11 = pd.read_csv(filename_11, index_col=[0]).rename(columns={'product_id.1': 'product_id'})"
   ]
  },
  {
   "cell_type": "code",
   "execution_count": 39,
   "id": "8156048f",
   "metadata": {},
   "outputs": [],
   "source": [
    "df_12 = pd.read_csv(filename_12, index_col=[0]).rename(columns={'product_id.1': 'product_id'})"
   ]
  },
  {
   "cell_type": "code",
   "execution_count": 40,
   "id": "0f1f5b5f",
   "metadata": {},
   "outputs": [],
   "source": [
    "df_13 = pd.read_csv(filename_13, index_col=[0]).rename(columns={'product_id.1': 'product_id'})"
   ]
  },
  {
   "cell_type": "code",
   "execution_count": 41,
   "id": "20666f36",
   "metadata": {},
   "outputs": [],
   "source": [
    "df_14 = pd.read_csv(filename_14, index_col=[0]).rename(columns={'product_id.1': 'product_id'})"
   ]
  },
  {
   "cell_type": "code",
   "execution_count": 42,
   "id": "6726fb6c",
   "metadata": {},
   "outputs": [],
   "source": [
    "df_15 = pd.read_csv(filename_15, index_col=[0]).rename(columns={'product_id.1': 'product_id'})"
   ]
  },
  {
   "cell_type": "code",
   "execution_count": 43,
   "id": "24075ab6",
   "metadata": {},
   "outputs": [],
   "source": [
    "df_16 = pd.read_csv(filename_16, index_col=[0]).rename(columns={'product_id.1': 'product_id'})"
   ]
  },
  {
   "cell_type": "code",
   "execution_count": 44,
   "id": "9a9a6be2",
   "metadata": {},
   "outputs": [],
   "source": [
    "df_17 = pd.read_csv(filename_17, index_col=[0]).rename(columns={'product_id.1': 'product_id'})"
   ]
  },
  {
   "cell_type": "code",
   "execution_count": 45,
   "id": "72b0df77",
   "metadata": {},
   "outputs": [],
   "source": [
    "df_18 = pd.read_csv(filename_18, index_col=[0]).rename(columns={'product_id.1': 'product_id'})"
   ]
  },
  {
   "cell_type": "code",
   "execution_count": 46,
   "id": "a063dd8b",
   "metadata": {},
   "outputs": [],
   "source": [
    "df_19 = pd.read_csv(filename_19, index_col=[0]).rename(columns={'product_id.1': 'product_id'})"
   ]
  },
  {
   "cell_type": "code",
   "execution_count": 47,
   "id": "865710aa",
   "metadata": {},
   "outputs": [],
   "source": [
    "df_20 = pd.read_csv(filename_20, index_col=[0]).rename(columns={'product_id.1': 'product_id'})"
   ]
  },
  {
   "cell_type": "code",
   "execution_count": 48,
   "id": "fecf6dc9",
   "metadata": {},
   "outputs": [],
   "source": [
    "df_21 = pd.read_csv(filename_21, index_col=[0]).rename(columns={'product_id.1': 'product_id'})"
   ]
  },
  {
   "cell_type": "code",
   "execution_count": 49,
   "id": "2e965685",
   "metadata": {},
   "outputs": [],
   "source": [
    "df_22 = pd.read_csv(filename_22, index_col=[0]).rename(columns={'product_id.1': 'product_id'})"
   ]
  },
  {
   "cell_type": "code",
   "execution_count": 50,
   "id": "a3e70a84",
   "metadata": {},
   "outputs": [],
   "source": [
    "df_23 = pd.read_csv(filename_23, index_col=[0]).rename(columns={'product_id.1': 'product_id'})"
   ]
  },
  {
   "cell_type": "code",
   "execution_count": 51,
   "id": "8745770d",
   "metadata": {},
   "outputs": [],
   "source": [
    "df_24 = pd.read_csv(filename_24, index_col=[0]).rename(columns={'product_id.1': 'product_id'})"
   ]
  },
  {
   "cell_type": "code",
   "execution_count": 52,
   "id": "b3fecd90",
   "metadata": {},
   "outputs": [],
   "source": [
    "df_25 = pd.read_csv(filename_25, index_col=[0]).rename(columns={'product_id.1': 'product_id'})"
   ]
  },
  {
   "cell_type": "code",
   "execution_count": null,
   "id": "d3cb857d",
   "metadata": {},
   "outputs": [],
   "source": []
  },
  {
   "cell_type": "markdown",
   "id": "a934eefa",
   "metadata": {},
   "source": [
    "# Merge"
   ]
  },
  {
   "cell_type": "code",
   "execution_count": 56,
   "id": "3a6c900c",
   "metadata": {},
   "outputs": [],
   "source": [
    "# df_concat = pd.concat([df_1, df_2, df_3], axis=0).reset_index().drop(columns=['index'])"
   ]
  },
  {
   "cell_type": "code",
   "execution_count": 57,
   "id": "ca81087c",
   "metadata": {},
   "outputs": [],
   "source": [
    "df_concat = pd.concat([df_1, df_2, df_3, df_4, df_5, df_6, df_7, df_8, df_9, df_10, df_11, df_12, df_13, df_14, df_15, df_16, df_17, df_18, df_19, df_20, df_21, df_22, df_23, df_24, df_25], axis=0).reset_index().drop(columns=['index'])"
   ]
  },
  {
   "cell_type": "code",
   "execution_count": 63,
   "id": "7594d2b3",
   "metadata": {},
   "outputs": [],
   "source": [
    "df_concat.to_csv('df_concat.csv')"
   ]
  },
  {
   "cell_type": "code",
   "execution_count": null,
   "id": "3aad4074",
   "metadata": {},
   "outputs": [],
   "source": []
  },
  {
   "cell_type": "code",
   "execution_count": 44,
   "id": "a756a39c",
   "metadata": {},
   "outputs": [],
   "source": [
    "meta = '../data/oct_final/X_meta_with_100pct_data_oct19.csv'"
   ]
  },
  {
   "cell_type": "code",
   "execution_count": 68,
   "id": "101cdce4",
   "metadata": {},
   "outputs": [],
   "source": [
    "X_meta = pd.read_csv(meta, index_col=[0])#.rename(columns={'product_id.1': 'product_id'})"
   ]
  },
  {
   "cell_type": "code",
   "execution_count": null,
   "id": "ef8b80b5",
   "metadata": {},
   "outputs": [],
   "source": []
  },
  {
   "cell_type": "code",
   "execution_count": 61,
   "id": "17fa6afb",
   "metadata": {},
   "outputs": [],
   "source": [
    "X_meta=X_meta.reset_index().drop(columns='product_id.1')"
   ]
  },
  {
   "cell_type": "code",
   "execution_count": 63,
   "id": "733d85fa",
   "metadata": {},
   "outputs": [],
   "source": [
    "X_meta_short = df_concat.merge(X_meta, left_on='product_id', right_on='product_id').drop_duplicates(\"product_id\")"
   ]
  },
  {
   "cell_type": "code",
   "execution_count": null,
   "id": "884dcdf8",
   "metadata": {},
   "outputs": [],
   "source": [
    "# X_meta = X_meta.merge(unique_prods_df, right_on=\"index\", left_on=\"product_id\").drop_duplicates(\"product_id\")"
   ]
  },
  {
   "cell_type": "code",
   "execution_count": 66,
   "id": "e93c1ff9",
   "metadata": {},
   "outputs": [
    {
     "data": {
      "text/html": [
       "<div>\n",
       "<style scoped>\n",
       "    .dataframe tbody tr th:only-of-type {\n",
       "        vertical-align: middle;\n",
       "    }\n",
       "\n",
       "    .dataframe tbody tr th {\n",
       "        vertical-align: top;\n",
       "    }\n",
       "\n",
       "    .dataframe thead th {\n",
       "        text-align: right;\n",
       "    }\n",
       "</style>\n",
       "<table border=\"1\" class=\"dataframe\">\n",
       "  <thead>\n",
       "    <tr style=\"text-align: right;\">\n",
       "      <th></th>\n",
       "      <th>product_id</th>\n",
       "      <th>meta_text</th>\n",
       "      <th>price_x</th>\n",
       "      <th>Unnamed: 0</th>\n",
       "      <th>event_type</th>\n",
       "      <th>category_id</th>\n",
       "      <th>category_code</th>\n",
       "      <th>brand</th>\n",
       "      <th>price_y</th>\n",
       "      <th>user_id</th>\n",
       "      <th>user_session</th>\n",
       "      <th>25%</th>\n",
       "      <th>75%</th>\n",
       "      <th>price_category</th>\n",
       "      <th>metadata</th>\n",
       "    </tr>\n",
       "  </thead>\n",
       "  <tbody>\n",
       "    <tr>\n",
       "      <th>0</th>\n",
       "      <td>1307366</td>\n",
       "      <td>computers notebook lenovo low</td>\n",
       "      <td>248.62</td>\n",
       "      <td>750</td>\n",
       "      <td>view</td>\n",
       "      <td>2053013558920217191</td>\n",
       "      <td>computers notebook</td>\n",
       "      <td>lenovo</td>\n",
       "      <td>248.62</td>\n",
       "      <td>554134415</td>\n",
       "      <td>9983dbf5-36b2-450e-a650-16dacef1db18</td>\n",
       "      <td>360.34</td>\n",
       "      <td>873.61</td>\n",
       "      <td>low</td>\n",
       "      <td>computers notebook lenovo low</td>\n",
       "    </tr>\n",
       "    <tr>\n",
       "      <th>5264</th>\n",
       "      <td>1306796</td>\n",
       "      <td>computers notebook acer low</td>\n",
       "      <td>314.53</td>\n",
       "      <td>9925</td>\n",
       "      <td>view</td>\n",
       "      <td>2053013558920217191</td>\n",
       "      <td>computers notebook</td>\n",
       "      <td>acer</td>\n",
       "      <td>314.53</td>\n",
       "      <td>540561338</td>\n",
       "      <td>3c09ebd0-6fe8-4b0e-ae35-cbf9180c56f0</td>\n",
       "      <td>360.34</td>\n",
       "      <td>873.61</td>\n",
       "      <td>low</td>\n",
       "      <td>computers notebook acer low</td>\n",
       "    </tr>\n",
       "    <tr>\n",
       "      <th>5414</th>\n",
       "      <td>1307140</td>\n",
       "      <td>computers notebook acer medium</td>\n",
       "      <td>382.98</td>\n",
       "      <td>1265</td>\n",
       "      <td>view</td>\n",
       "      <td>2053013558920217191</td>\n",
       "      <td>computers notebook</td>\n",
       "      <td>acer</td>\n",
       "      <td>382.98</td>\n",
       "      <td>513620932</td>\n",
       "      <td>9993ade0-46ac-400f-a1cf-da247ba67050</td>\n",
       "      <td>360.34</td>\n",
       "      <td>873.61</td>\n",
       "      <td>medium</td>\n",
       "      <td>computers notebook acer medium</td>\n",
       "    </tr>\n",
       "    <tr>\n",
       "      <th>6051</th>\n",
       "      <td>1305627</td>\n",
       "      <td>computers notebook ilife low</td>\n",
       "      <td>192.77</td>\n",
       "      <td>108958</td>\n",
       "      <td>view</td>\n",
       "      <td>2053013558920217191</td>\n",
       "      <td>computers notebook</td>\n",
       "      <td>ilife</td>\n",
       "      <td>192.77</td>\n",
       "      <td>554591997</td>\n",
       "      <td>f606e09d-4d96-4ff2-afa1-368326d415b0</td>\n",
       "      <td>360.34</td>\n",
       "      <td>873.61</td>\n",
       "      <td>low</td>\n",
       "      <td>computers notebook ilife low</td>\n",
       "    </tr>\n",
       "    <tr>\n",
       "      <th>6061</th>\n",
       "      <td>45500000</td>\n",
       "      <td>computers notebook deepcool low</td>\n",
       "      <td>14.65</td>\n",
       "      <td>110947</td>\n",
       "      <td>view</td>\n",
       "      <td>2109094148110811752</td>\n",
       "      <td>computers notebook</td>\n",
       "      <td>deepcool</td>\n",
       "      <td>14.65</td>\n",
       "      <td>555597707</td>\n",
       "      <td>f93b48b2-8bcf-4c11-8cb4-5692cb0302fd</td>\n",
       "      <td>360.34</td>\n",
       "      <td>873.61</td>\n",
       "      <td>low</td>\n",
       "      <td>computers notebook deepcool low</td>\n",
       "    </tr>\n",
       "  </tbody>\n",
       "</table>\n",
       "</div>"
      ],
      "text/plain": [
       "      product_id                        meta_text  price_x  Unnamed: 0  \\\n",
       "0        1307366    computers notebook lenovo low   248.62         750   \n",
       "5264     1306796      computers notebook acer low   314.53        9925   \n",
       "5414     1307140   computers notebook acer medium   382.98        1265   \n",
       "6051     1305627     computers notebook ilife low   192.77      108958   \n",
       "6061    45500000  computers notebook deepcool low    14.65      110947   \n",
       "\n",
       "     event_type          category_id       category_code     brand  price_y  \\\n",
       "0          view  2053013558920217191  computers notebook    lenovo   248.62   \n",
       "5264       view  2053013558920217191  computers notebook      acer   314.53   \n",
       "5414       view  2053013558920217191  computers notebook      acer   382.98   \n",
       "6051       view  2053013558920217191  computers notebook     ilife   192.77   \n",
       "6061       view  2109094148110811752  computers notebook  deepcool    14.65   \n",
       "\n",
       "        user_id                          user_session     25%     75%  \\\n",
       "0     554134415  9983dbf5-36b2-450e-a650-16dacef1db18  360.34  873.61   \n",
       "5264  540561338  3c09ebd0-6fe8-4b0e-ae35-cbf9180c56f0  360.34  873.61   \n",
       "5414  513620932  9993ade0-46ac-400f-a1cf-da247ba67050  360.34  873.61   \n",
       "6051  554591997  f606e09d-4d96-4ff2-afa1-368326d415b0  360.34  873.61   \n",
       "6061  555597707  f93b48b2-8bcf-4c11-8cb4-5692cb0302fd  360.34  873.61   \n",
       "\n",
       "     price_category                         metadata  \n",
       "0               low    computers notebook lenovo low  \n",
       "5264            low      computers notebook acer low  \n",
       "5414         medium   computers notebook acer medium  \n",
       "6051            low     computers notebook ilife low  \n",
       "6061            low  computers notebook deepcool low  "
      ]
     },
     "execution_count": 66,
     "metadata": {},
     "output_type": "execute_result"
    }
   ],
   "source": [
    "X_meta_short.head()"
   ]
  },
  {
   "cell_type": "code",
   "execution_count": null,
   "id": "55b43940",
   "metadata": {},
   "outputs": [],
   "source": []
  }
 ],
 "metadata": {
  "kernelspec": {
   "display_name": "Python 3 (ipykernel)",
   "language": "python",
   "name": "python3"
  },
  "language_info": {
   "codemirror_mode": {
    "name": "ipython",
    "version": 3
   },
   "file_extension": ".py",
   "mimetype": "text/x-python",
   "name": "python",
   "nbconvert_exporter": "python",
   "pygments_lexer": "ipython3",
   "version": "3.10.6"
  },
  "toc": {
   "base_numbering": 1,
   "nav_menu": {},
   "number_sections": true,
   "sideBar": true,
   "skip_h1_title": false,
   "title_cell": "Table of Contents",
   "title_sidebar": "Contents",
   "toc_cell": false,
   "toc_position": {},
   "toc_section_display": true,
   "toc_window_display": false
  }
 },
 "nbformat": 4,
 "nbformat_minor": 5
}
