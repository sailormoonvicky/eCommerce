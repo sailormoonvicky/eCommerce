{
 "cells": [
  {
   "cell_type": "markdown",
   "id": "cc9a61c8",
   "metadata": {},
   "source": [
    "# Top 10 selector"
   ]
  },
  {
   "cell_type": "code",
   "execution_count": 1,
   "id": "7c0cb91d",
   "metadata": {},
   "outputs": [],
   "source": [
    "import pandas as pd\n",
    "import numpy as np\n",
    "import matplotlib.pyplot as plt\n",
    "from sklearn.preprocessing import OneHotEncoder\n",
    "from sklearn.feature_extraction.text import CountVectorizer\n",
    "from sklearn.decomposition import TruncatedSVD\n",
    "from sklearn.metrics.pairwise import cosine_similarity"
   ]
  },
  {
   "cell_type": "code",
   "execution_count": 3,
   "id": "89992f6c",
   "metadata": {},
   "outputs": [
    {
     "name": "stdout",
     "output_type": "stream",
     "text": [
      "/home/cjergen/code/sailormoonvicky/eCommerce/notebooks\r\n"
     ]
    }
   ],
   "source": [
    "! pwd"
   ]
  },
  {
   "cell_type": "code",
   "execution_count": 50,
   "id": "7e62ac0d",
   "metadata": {},
   "outputs": [],
   "source": [
    "df = pd.read_csv('../data/2019-Oct.csv_10%.csv')"
   ]
  },
  {
   "cell_type": "code",
   "execution_count": 51,
   "id": "7a2d3aa5",
   "metadata": {},
   "outputs": [
    {
     "data": {
      "text/html": [
       "<div>\n",
       "<style scoped>\n",
       "    .dataframe tbody tr th:only-of-type {\n",
       "        vertical-align: middle;\n",
       "    }\n",
       "\n",
       "    .dataframe tbody tr th {\n",
       "        vertical-align: top;\n",
       "    }\n",
       "\n",
       "    .dataframe thead th {\n",
       "        text-align: right;\n",
       "    }\n",
       "</style>\n",
       "<table border=\"1\" class=\"dataframe\">\n",
       "  <thead>\n",
       "    <tr style=\"text-align: right;\">\n",
       "      <th></th>\n",
       "      <th>event_time</th>\n",
       "      <th>event_type</th>\n",
       "      <th>product_id</th>\n",
       "      <th>category_id</th>\n",
       "      <th>category_code</th>\n",
       "      <th>brand</th>\n",
       "      <th>price</th>\n",
       "      <th>user_id</th>\n",
       "      <th>user_session</th>\n",
       "    </tr>\n",
       "  </thead>\n",
       "  <tbody>\n",
       "    <tr>\n",
       "      <th>0</th>\n",
       "      <td>2019-10-01 00:00:17 UTC</td>\n",
       "      <td>view</td>\n",
       "      <td>23100006</td>\n",
       "      <td>2053013561638126333</td>\n",
       "      <td>NaN</td>\n",
       "      <td>NaN</td>\n",
       "      <td>357.79</td>\n",
       "      <td>513642368</td>\n",
       "      <td>17566c27-0a8f-4506-9f30-c6a2ccbf583b</td>\n",
       "    </tr>\n",
       "    <tr>\n",
       "      <th>1</th>\n",
       "      <td>2019-10-01 00:00:20 UTC</td>\n",
       "      <td>view</td>\n",
       "      <td>4803399</td>\n",
       "      <td>2053013554658804075</td>\n",
       "      <td>electronics.audio.headphone</td>\n",
       "      <td>jbl</td>\n",
       "      <td>33.21</td>\n",
       "      <td>555428858</td>\n",
       "      <td>8a6afed4-77f8-40c9-8e76-e062b28216ce</td>\n",
       "    </tr>\n",
       "    <tr>\n",
       "      <th>2</th>\n",
       "      <td>2019-10-01 00:00:23 UTC</td>\n",
       "      <td>view</td>\n",
       "      <td>6200260</td>\n",
       "      <td>2053013552293216471</td>\n",
       "      <td>appliances.environment.air_heater</td>\n",
       "      <td>midea</td>\n",
       "      <td>47.62</td>\n",
       "      <td>538645907</td>\n",
       "      <td>7d9a8784-7b6c-426e-9924-9f688812fd71</td>\n",
       "    </tr>\n",
       "    <tr>\n",
       "      <th>3</th>\n",
       "      <td>2019-10-01 00:00:58 UTC</td>\n",
       "      <td>view</td>\n",
       "      <td>4802639</td>\n",
       "      <td>2053013554658804075</td>\n",
       "      <td>electronics.audio.headphone</td>\n",
       "      <td>sony</td>\n",
       "      <td>218.77</td>\n",
       "      <td>514808401</td>\n",
       "      <td>1877639d-46a4-44f8-bae9-a14456952240</td>\n",
       "    </tr>\n",
       "    <tr>\n",
       "      <th>4</th>\n",
       "      <td>2019-10-01 00:01:11 UTC</td>\n",
       "      <td>view</td>\n",
       "      <td>1004836</td>\n",
       "      <td>2053013555631882655</td>\n",
       "      <td>electronics.smartphone</td>\n",
       "      <td>samsung</td>\n",
       "      <td>241.19</td>\n",
       "      <td>546259103</td>\n",
       "      <td>6e2984c8-502e-4fe7-bbba-34087f760175</td>\n",
       "    </tr>\n",
       "  </tbody>\n",
       "</table>\n",
       "</div>"
      ],
      "text/plain": [
       "                event_time event_type  product_id          category_id  \\\n",
       "0  2019-10-01 00:00:17 UTC       view    23100006  2053013561638126333   \n",
       "1  2019-10-01 00:00:20 UTC       view     4803399  2053013554658804075   \n",
       "2  2019-10-01 00:00:23 UTC       view     6200260  2053013552293216471   \n",
       "3  2019-10-01 00:00:58 UTC       view     4802639  2053013554658804075   \n",
       "4  2019-10-01 00:01:11 UTC       view     1004836  2053013555631882655   \n",
       "\n",
       "                       category_code    brand   price    user_id  \\\n",
       "0                                NaN      NaN  357.79  513642368   \n",
       "1        electronics.audio.headphone      jbl   33.21  555428858   \n",
       "2  appliances.environment.air_heater    midea   47.62  538645907   \n",
       "3        electronics.audio.headphone     sony  218.77  514808401   \n",
       "4             electronics.smartphone  samsung  241.19  546259103   \n",
       "\n",
       "                           user_session  \n",
       "0  17566c27-0a8f-4506-9f30-c6a2ccbf583b  \n",
       "1  8a6afed4-77f8-40c9-8e76-e062b28216ce  \n",
       "2  7d9a8784-7b6c-426e-9924-9f688812fd71  \n",
       "3  1877639d-46a4-44f8-bae9-a14456952240  \n",
       "4  6e2984c8-502e-4fe7-bbba-34087f760175  "
      ]
     },
     "execution_count": 51,
     "metadata": {},
     "output_type": "execute_result"
    }
   ],
   "source": [
    "df.head()"
   ]
  },
  {
   "cell_type": "code",
   "execution_count": 52,
   "id": "a70c588a",
   "metadata": {},
   "outputs": [],
   "source": [
    "def preprocessing_feat(X):    \n",
    "    X_preprocessed = X.dropna(subset = ['category_code', 'brand']) #tbd!!\n",
    "    X_preprocessed = X_preprocessed.drop_duplicates()\n",
    "    X_preprocessed['category_code'] = X_preprocessed['category_code'].str.replace('.',' ')\n",
    "    return X_preprocessed\n",
    "\n",
    "def pricing_criterion(X):\n",
    "    pricing_guide = X.groupby('category_code')['price'].describe()[[\"25%\", \"75%\"]].reset_index()\n",
    "    X_merged = X.merge(pricing_guide, on=\"category_code\", how=\"right\")\n",
    "    X_merged[\"price_category\"] = X_merged.apply(lambda row: make_column(row), axis=1)\n",
    "    return X_merged\n",
    "\n",
    "def make_column(row):\n",
    "    if row[\"price\"] < row[\"25%\"]:\n",
    "        return \"low\"\n",
    "    elif row[\"price\"] < row[\"75%\"]:\n",
    "        return \"medium\"\n",
    "    else:\n",
    "        return \"high\"\n",
    "\n",
    "def metadata(X):\n",
    "    X['metadata'] = X[['category_code', 'brand', 'price_category']].apply(lambda x: ' '.join(x), axis = 1)\n",
    "    return X\n",
    "\n",
    "def rating(X):\n",
    "    dct = {'view': 1, 'cart': 3, 'purchase': 5}\n",
    "    X['rating'] = X['event_type'].map(dct)\n",
    "    return X"
   ]
  },
  {
   "cell_type": "code",
   "execution_count": 53,
   "id": "9fdd8623",
   "metadata": {},
   "outputs": [
    {
     "name": "stderr",
     "output_type": "stream",
     "text": [
      "/tmp/ipykernel_9647/3456390047.py:4: FutureWarning: The default value of regex will change from True to False in a future version. In addition, single character regular expressions will *not* be treated as literal strings when regex=True.\n",
      "  X_preprocessed['category_code'] = X_preprocessed['category_code'].str.replace('.',' ')\n"
     ]
    }
   ],
   "source": [
    "X_prep = preprocessing_feat(df)"
   ]
  },
  {
   "cell_type": "code",
   "execution_count": 54,
   "id": "5e3aa5b8",
   "metadata": {},
   "outputs": [],
   "source": [
    "X_pric = pricing_criterion(X_prep)"
   ]
  },
  {
   "cell_type": "code",
   "execution_count": 55,
   "id": "4b92a2f1",
   "metadata": {},
   "outputs": [],
   "source": [
    "X_rating = rating(X_pric)"
   ]
  },
  {
   "cell_type": "code",
   "execution_count": 56,
   "id": "cd55a1d0",
   "metadata": {},
   "outputs": [],
   "source": [
    "def metadata(X):\n",
    "    X['metadata'] = X[['category_code', 'brand', 'price_category']].apply(lambda x: ' '.join(x), axis = 1)\n",
    "    return X"
   ]
  },
  {
   "cell_type": "code",
   "execution_count": 57,
   "id": "153b79cf",
   "metadata": {},
   "outputs": [],
   "source": [
    "X_meta = metadata(X_pric)"
   ]
  },
  {
   "cell_type": "code",
   "execution_count": 58,
   "id": "577c492e",
   "metadata": {},
   "outputs": [],
   "source": [
    "def ranking(X, n=5):\n",
    "    X = pd.DataFrame(X_rating.groupby(by='product_id').rating.sum()).sort_values('rating', ascending=False).reset_index().index[0:n]\n",
    "    return X\n",
    "    "
   ]
  },
  {
   "cell_type": "code",
   "execution_count": 59,
   "id": "06fb8098",
   "metadata": {},
   "outputs": [],
   "source": [
    "# def top_n(product_id, X_rating, n=10):\n",
    "    \n",
    "#     \"\"\"select top n products by ranking'\"\"\"\n",
    "    \n",
    "#     rating_idx = pd.DataFrame(X_rating.groupby(by='product_id').rating.sum()).sort_values('rating', ascending=False).reset_index().index[0:n]\n",
    "#     return rating_idx\n",
    "\n",
    "#     counter = 0\n",
    "    \n",
    "#     for i in rating_idx:\n",
    "#         meta_text = X_rating[X_rating['product_id'] == i][['metadata']].iloc[0,:][0]\n",
    "        \n",
    "#         if counter == 0:\n",
    "#             print(f\"Top {n} recommendations for product_id {product_id}:\")\n",
    "#             print(f\"{i} - {meta_text} \\n\")\n",
    "# #             print(\"-----------------------\")\n",
    "\n",
    "#         else:\n",
    "#             print(f\"Rec {counter}) {i} - {meta_text}\")\n",
    "        \n",
    "#         counter += 1"
   ]
  },
  {
   "cell_type": "code",
   "execution_count": 60,
   "id": "bc0020f9",
   "metadata": {},
   "outputs": [],
   "source": [
    "def top_n_overall(product_id, X_rating, n=5):\n",
    "    \n",
    "    \"\"\"select top n products by ranking'\"\"\"\n",
    "    \n",
    "    rating_idx = pd.DataFrame(X_rating.groupby(by='product_id').rating.sum()).sort_values('rating', ascending=False).index[0:n]\n",
    "    #     rec_df.sort_values(ranking, ascending=False).index[0:n]\n",
    "    counter = 0\n",
    "    \n",
    "    for i in rating_idx:\n",
    "        meta_text = X_meta[X_meta['product_id'] == i][['metadata']].iloc[0,:][0]\n",
    "        \n",
    "        if counter == 0:\n",
    "            print(f\"Top {n} recommendations for product_id {product_id}:\")\n",
    "            print(f\"{i} - {meta_text} \\n\")\n",
    "#             print(\"-----------------------\")\n",
    "\n",
    "        else:\n",
    "            print(f\"Rec {counter}) {i} - {meta_text}\")\n",
    "        \n",
    "        counter += 1"
   ]
  },
  {
   "cell_type": "code",
   "execution_count": 61,
   "id": "15d323d3",
   "metadata": {},
   "outputs": [
    {
     "name": "stdout",
     "output_type": "stream",
     "text": [
      "Top 5 recommendations for product_id 49800017:\n",
      "1004856 - electronics smartphone samsung low \n",
      "\n",
      "Rec 1) 1004767 - electronics smartphone samsung medium\n",
      "Rec 2) 1005115 - electronics smartphone apple high\n",
      "Rec 3) 1004833 - electronics smartphone samsung low\n",
      "Rec 4) 4804056 - electronics audio headphone apple high\n"
     ]
    }
   ],
   "source": [
    "top_n_overall(49800017, X_rating)"
   ]
  },
  {
   "cell_type": "code",
   "execution_count": 62,
   "id": "85b45480",
   "metadata": {},
   "outputs": [],
   "source": [
    "def top_n_brands(X_rating, n=10):\n",
    "    \n",
    "    \"\"\"select top n products by ranking'\"\"\"\n",
    "    \n",
    "    rating_idx =     pd.DataFrame(X_rating.groupby(['brand']).rating.sum()).sort_values('rating', ascending=False).index[0:n]\n",
    "\n",
    "    #     rec_df.sort_values(ranking, ascending=False).index[0:n]\n",
    "    return list(rating_idx)"
   ]
  },
  {
   "cell_type": "code",
   "execution_count": 63,
   "id": "9f7b6d22",
   "metadata": {},
   "outputs": [
    {
     "data": {
      "text/plain": [
       "['samsung',\n",
       " 'apple',\n",
       " 'xiaomi',\n",
       " 'huawei',\n",
       " 'oppo',\n",
       " 'lg',\n",
       " 'acer',\n",
       " 'lenovo',\n",
       " 'bosch',\n",
       " 'indesit']"
      ]
     },
     "execution_count": 63,
     "metadata": {},
     "output_type": "execute_result"
    }
   ],
   "source": [
    "top_n_brands(X_rating)"
   ]
  },
  {
   "cell_type": "code",
   "execution_count": 64,
   "id": "3fdcf86e",
   "metadata": {},
   "outputs": [],
   "source": [
    "def top_n_by_brand(X_rating, brand, n=10):\n",
    "    \n",
    "    \"\"\"select top n products by brand'\"\"\"\n",
    "    \n",
    "    rating_idx = pd.DataFrame(X_rating.groupby(['product_id','brand']).rating.sum()).sort_values('rating', ascending=False).reset_index('brand')\n",
    "    rating_idx = rating_idx[rating_idx['brand']==brand].index[0:n]\n",
    "#     return rating_idx\n",
    "\n",
    "    counter = 0\n",
    "\n",
    "    for i in rating_idx:\n",
    "            meta_text = X_meta[X_meta['product_id'] == i][['metadata']].iloc[0,:][0]\n",
    "\n",
    "            if counter == 0:\n",
    "                print(f\"Top {n} recommendations for product_id {brand}:\")\n",
    "                print(f\"{i} - {meta_text} \\n\")\n",
    "    #             print(\"-----------------------\")\n",
    "\n",
    "            else:\n",
    "                print(f\"Rec {counter}) {i} - {meta_text}\")\n",
    "\n",
    "            counter += 1"
   ]
  },
  {
   "cell_type": "code",
   "execution_count": 72,
   "id": "ed048231",
   "metadata": {},
   "outputs": [
    {
     "name": "stdout",
     "output_type": "stream",
     "text": [
      "Top 5 recommendations for product_id samsung:\n",
      "1004856 - electronics smartphone samsung low \n",
      "\n",
      "Rec 1) 1004767 - electronics smartphone samsung medium\n",
      "Rec 2) 1004833 - electronics smartphone samsung low\n",
      "Rec 3) 1004870 - electronics smartphone samsung medium\n",
      "Rec 4) 1004836 - electronics smartphone samsung medium\n"
     ]
    }
   ],
   "source": [
    "top_n_by_brand(X_rating, brand='samsung', n=5)"
   ]
  },
  {
   "cell_type": "code",
   "execution_count": 67,
   "id": "d6879b5c",
   "metadata": {},
   "outputs": [
    {
     "name": "stdout",
     "output_type": "stream",
     "text": [
      "Top 5 recommendations for product_id apple:\n",
      "1005115 - electronics smartphone apple high \n",
      "\n",
      "Rec 1) 4804056 - electronics audio headphone apple high\n",
      "Rec 2) 1004249 - electronics smartphone apple high\n",
      "Rec 3) 1002544 - electronics smartphone apple medium\n",
      "Rec 4) 1005105 - electronics smartphone apple high\n"
     ]
    }
   ],
   "source": [
    "top_n_by_brand(X_rating, brand='apple', n=5)"
   ]
  },
  {
   "cell_type": "code",
   "execution_count": 68,
   "id": "1d6802ec",
   "metadata": {},
   "outputs": [
    {
     "name": "stdout",
     "output_type": "stream",
     "text": [
      "Top 5 recommendations for product_id huawei:\n",
      "1004785 - electronics smartphone huawei medium \n",
      "\n",
      "Rec 1) 1004565 - electronics smartphone huawei low\n",
      "Rec 2) 1004781 - electronics smartphone huawei medium\n",
      "Rec 3) 1004903 - electronics smartphone huawei low\n",
      "Rec 4) 1004708 - electronics smartphone huawei low\n"
     ]
    }
   ],
   "source": [
    "top_n_by_brand(X_rating, brand='huawei', n=5)"
   ]
  },
  {
   "cell_type": "code",
   "execution_count": 69,
   "id": "f6746eee",
   "metadata": {},
   "outputs": [
    {
     "name": "stdout",
     "output_type": "stream",
     "text": [
      "Top 5 recommendations for product_id lg:\n",
      "2702277 - appliances kitchen refrigerators lg medium \n",
      "\n",
      "Rec 1) 3601485 - appliances kitchen washer lg medium\n",
      "Rec 2) 3601244 - appliances kitchen washer lg medium\n",
      "Rec 3) 3601437 - appliances kitchen washer lg medium\n",
      "Rec 4) 1802037 - electronics video tv lg medium\n"
     ]
    }
   ],
   "source": [
    "top_n_by_brand(X_rating, brand='lg', n=5)"
   ]
  },
  {
   "cell_type": "code",
   "execution_count": 70,
   "id": "b21db18d",
   "metadata": {},
   "outputs": [
    {
     "name": "stdout",
     "output_type": "stream",
     "text": [
      "Top 5 recommendations for product_id lenovo:\n",
      "1307366 - computers notebook lenovo low \n",
      "\n",
      "Rec 1) 1307067 - computers notebook lenovo low\n",
      "Rec 2) 1307004 - computers notebook lenovo low\n",
      "Rec 3) 1307237 - computers notebook lenovo low\n",
      "Rec 4) 1307377 - computers notebook lenovo medium\n"
     ]
    }
   ],
   "source": [
    "top_n_by_brand(X_rating, brand='lenovo', n=5)"
   ]
  },
  {
   "cell_type": "code",
   "execution_count": null,
   "id": "de3cae3b",
   "metadata": {},
   "outputs": [],
   "source": [
    " \n",
    "    rating_idx = pd.DataFrame(X_rating.groupby(['product_id','brand']).rating.sum()).sort_values('rating', ascending=False).reset_index('brand')\n",
    "    rating_idx = rating_idx[rating_idx['brand']==brand].index[0:n]\n",
    "#     return rating_idx\n",
    "\n",
    "    counter = 0\n",
    "\n",
    "    for i in rating_idx:\n",
    "            meta_text = X_meta[X_meta['product_id'] == i][['metadata']].iloc[0,:][0]\n",
    "\n",
    "            if counter == 0:\n",
    "                print(f\"Top {n} recommendations for product_id {brand}:\")\n",
    "                print(f\"{i} - {meta_text} \\n\")\n",
    "    #             print(\"-----------------------\")\n",
    "\n",
    "            else:\n",
    "                print(f\"Rec {counter}) {i} - {meta_text}\")\n",
    "\n",
    "            counter += 1"
   ]
  },
  {
   "cell_type": "code",
   "execution_count": null,
   "id": "d0e74ce8",
   "metadata": {},
   "outputs": [],
   "source": [
    "def top_n_by_brand(X_rating, brand='apple', n=5):\n",
    "    \n",
    "    rating_idx = rec_df.sort_values(ranking, ascending=False).index\n",
    "    \n",
    "    counter = 0\n",
    "    \n",
    "    product_ids=[]\n",
    "    metas=[]\n",
    "    prices=[]\n",
    "    \n",
    "    for i in feat_idx:\n",
    "        meta_text = meta_df[meta_df['product_id'] == i][['metadata']].iloc[0,:][0]\n",
    "        price = meta_df[meta_df['product_id'] == i][['price']].iloc[0,:][0]\n",
    "        \n",
    "#         if counter == 0:\n",
    "#             print(f\"Top {n} recommendations for product_id {product_id}:\")\n",
    "#             print(f\"{i} - {meta_text} {price} \\n\")\n",
    "#             print(\"-----------------------\")\n",
    "\n",
    "#         else:\n",
    "#             print(f\"Rec {counter}) {i} - {meta_text} {price}\")\n",
    "        \n",
    "        product_ids.append(i)\n",
    "        metas.append(meta_text)\n",
    "        prices.append(price)\n",
    "        \n",
    "        counter += 1\n",
    "    \n",
    "    return pd.DataFrame({'product_id':product_ids, 'meta_text':metas, 'price':prices})"
   ]
  },
  {
   "cell_type": "code",
   "execution_count": 85,
   "id": "cd0547b0",
   "metadata": {},
   "outputs": [],
   "source": [
    "def top_n_by_brand(X_rating, brand, n=10):\n",
    "    \n",
    "    \"\"\"select top n products by brand'\"\"\"\n",
    "    \n",
    "    rating_idx = pd.DataFrame(X_rating.groupby(['product_id','brand']).rating.sum()).sort_values('rating', ascending=False).reset_index('brand')\n",
    "    rating_idx = rating_idx[rating_idx['brand']==brand].index[0:n]\n",
    "    return rating_idx\n",
    "#     return rating_idx\n",
    "\n",
    "#     counter = 0\n",
    "\n",
    "#     for i in rating_idx:\n",
    "#             meta_text = X_meta[X_meta['product_id'] == i][['metadata']].iloc[0,:][0]\n",
    "\n",
    "#             if counter == 0:\n",
    "#                 print(f\"Top {n} recommendations for product_id {brand}:\")\n",
    "#                 print(f\"{i} - {meta_text} \\n\")\n",
    "#     #             print(\"-----------------------\")\n",
    "\n",
    "#             else:\n",
    "#                 print(f\"Rec {counter}) {i} - {meta_text}\")\n",
    "\n",
    "#             counter += 1"
   ]
  },
  {
   "cell_type": "code",
   "execution_count": 86,
   "id": "ab704e6a",
   "metadata": {},
   "outputs": [
    {
     "data": {
      "text/plain": [
       "Int64Index([1307366, 1307067, 1307004, 1307237, 1307377], dtype='int64', name='product_id')"
      ]
     },
     "execution_count": 86,
     "metadata": {},
     "output_type": "execute_result"
    }
   ],
   "source": [
    "top_n_by_brand(X_rating, brand='lenovo', n=5)"
   ]
  },
  {
   "cell_type": "code",
   "execution_count": 87,
   "id": "3a260236",
   "metadata": {},
   "outputs": [
    {
     "data": {
      "text/plain": [
       "Int64Index([1005115, 4804056, 1004249, 1002544, 1005105], dtype='int64', name='product_id')"
      ]
     },
     "execution_count": 87,
     "metadata": {},
     "output_type": "execute_result"
    }
   ],
   "source": [
    "top_n_by_brand(X_rating, brand='apple', n=5)"
   ]
  },
  {
   "cell_type": "code",
   "execution_count": 88,
   "id": "95e5fbce",
   "metadata": {},
   "outputs": [
    {
     "data": {
      "text/plain": [
       "Int64Index([1004856, 1004767, 1004833, 1004870, 1004836], dtype='int64', name='product_id')"
      ]
     },
     "execution_count": 88,
     "metadata": {},
     "output_type": "execute_result"
    }
   ],
   "source": [
    "top_n_by_brand(X_rating, brand='samsung', n=5)"
   ]
  },
  {
   "cell_type": "code",
   "execution_count": 89,
   "id": "da6d9b60",
   "metadata": {},
   "outputs": [
    {
     "data": {
      "text/plain": [
       "Int64Index([1004785, 1004565, 1004781, 1004903, 1004708], dtype='int64', name='product_id')"
      ]
     },
     "execution_count": 89,
     "metadata": {},
     "output_type": "execute_result"
    }
   ],
   "source": [
    "top_n_by_brand(X_rating, brand='huawei', n=5)"
   ]
  },
  {
   "cell_type": "code",
   "execution_count": 90,
   "id": "0bc26988",
   "metadata": {},
   "outputs": [
    {
     "data": {
      "text/plain": [
       "Int64Index([2702277, 3601485, 3601244, 3601437, 1802037], dtype='int64', name='product_id')"
      ]
     },
     "execution_count": 90,
     "metadata": {},
     "output_type": "execute_result"
    }
   ],
   "source": [
    "top_n_by_brand(X_rating, brand='lg', n=5)"
   ]
  },
  {
   "cell_type": "code",
   "execution_count": 91,
   "id": "ad50f1f9",
   "metadata": {},
   "outputs": [],
   "source": [
    "lst = [1307366, 1307067, 1307004, 1307237, 1307377, 1005115, 4804056, 1004249, 1002544, 1005105, 1004856, 1004767, 1004833, 1004870, 1004836,1004785, 1004565, 1004781, 1004903, 1004708, 2702277, 3601485, 3601244, 3601437, 1802037]"
   ]
  },
  {
   "cell_type": "code",
   "execution_count": 92,
   "id": "5e2ba53c",
   "metadata": {},
   "outputs": [
    {
     "data": {
      "text/plain": [
       "25"
      ]
     },
     "execution_count": 92,
     "metadata": {},
     "output_type": "execute_result"
    }
   ],
   "source": [
    "len(lst)"
   ]
  },
  {
   "cell_type": "code",
   "execution_count": 98,
   "id": "a60a349c",
   "metadata": {},
   "outputs": [],
   "source": [
    "top25=pd.DataFrame(lst)"
   ]
  },
  {
   "cell_type": "code",
   "execution_count": 107,
   "id": "1b39ed56",
   "metadata": {},
   "outputs": [],
   "source": [
    "top25.rename(columns={0:'product_id'}, inplace=True)"
   ]
  },
  {
   "cell_type": "code",
   "execution_count": 109,
   "id": "045a4c18",
   "metadata": {},
   "outputs": [
    {
     "data": {
      "text/html": [
       "<div>\n",
       "<style scoped>\n",
       "    .dataframe tbody tr th:only-of-type {\n",
       "        vertical-align: middle;\n",
       "    }\n",
       "\n",
       "    .dataframe tbody tr th {\n",
       "        vertical-align: top;\n",
       "    }\n",
       "\n",
       "    .dataframe thead th {\n",
       "        text-align: right;\n",
       "    }\n",
       "</style>\n",
       "<table border=\"1\" class=\"dataframe\">\n",
       "  <thead>\n",
       "    <tr style=\"text-align: right;\">\n",
       "      <th></th>\n",
       "      <th>product_id</th>\n",
       "    </tr>\n",
       "  </thead>\n",
       "  <tbody>\n",
       "    <tr>\n",
       "      <th>0</th>\n",
       "      <td>1307366</td>\n",
       "    </tr>\n",
       "    <tr>\n",
       "      <th>1</th>\n",
       "      <td>1307067</td>\n",
       "    </tr>\n",
       "    <tr>\n",
       "      <th>2</th>\n",
       "      <td>1307004</td>\n",
       "    </tr>\n",
       "    <tr>\n",
       "      <th>3</th>\n",
       "      <td>1307237</td>\n",
       "    </tr>\n",
       "    <tr>\n",
       "      <th>4</th>\n",
       "      <td>1307377</td>\n",
       "    </tr>\n",
       "    <tr>\n",
       "      <th>5</th>\n",
       "      <td>1005115</td>\n",
       "    </tr>\n",
       "    <tr>\n",
       "      <th>6</th>\n",
       "      <td>4804056</td>\n",
       "    </tr>\n",
       "    <tr>\n",
       "      <th>7</th>\n",
       "      <td>1004249</td>\n",
       "    </tr>\n",
       "    <tr>\n",
       "      <th>8</th>\n",
       "      <td>1002544</td>\n",
       "    </tr>\n",
       "    <tr>\n",
       "      <th>9</th>\n",
       "      <td>1005105</td>\n",
       "    </tr>\n",
       "    <tr>\n",
       "      <th>10</th>\n",
       "      <td>1004856</td>\n",
       "    </tr>\n",
       "    <tr>\n",
       "      <th>11</th>\n",
       "      <td>1004767</td>\n",
       "    </tr>\n",
       "    <tr>\n",
       "      <th>12</th>\n",
       "      <td>1004833</td>\n",
       "    </tr>\n",
       "    <tr>\n",
       "      <th>13</th>\n",
       "      <td>1004870</td>\n",
       "    </tr>\n",
       "    <tr>\n",
       "      <th>14</th>\n",
       "      <td>1004836</td>\n",
       "    </tr>\n",
       "    <tr>\n",
       "      <th>15</th>\n",
       "      <td>1004785</td>\n",
       "    </tr>\n",
       "    <tr>\n",
       "      <th>16</th>\n",
       "      <td>1004565</td>\n",
       "    </tr>\n",
       "    <tr>\n",
       "      <th>17</th>\n",
       "      <td>1004781</td>\n",
       "    </tr>\n",
       "    <tr>\n",
       "      <th>18</th>\n",
       "      <td>1004903</td>\n",
       "    </tr>\n",
       "    <tr>\n",
       "      <th>19</th>\n",
       "      <td>1004708</td>\n",
       "    </tr>\n",
       "    <tr>\n",
       "      <th>20</th>\n",
       "      <td>2702277</td>\n",
       "    </tr>\n",
       "    <tr>\n",
       "      <th>21</th>\n",
       "      <td>3601485</td>\n",
       "    </tr>\n",
       "    <tr>\n",
       "      <th>22</th>\n",
       "      <td>3601244</td>\n",
       "    </tr>\n",
       "    <tr>\n",
       "      <th>23</th>\n",
       "      <td>3601437</td>\n",
       "    </tr>\n",
       "    <tr>\n",
       "      <th>24</th>\n",
       "      <td>1802037</td>\n",
       "    </tr>\n",
       "  </tbody>\n",
       "</table>\n",
       "</div>"
      ],
      "text/plain": [
       "    product_id\n",
       "0      1307366\n",
       "1      1307067\n",
       "2      1307004\n",
       "3      1307237\n",
       "4      1307377\n",
       "5      1005115\n",
       "6      4804056\n",
       "7      1004249\n",
       "8      1002544\n",
       "9      1005105\n",
       "10     1004856\n",
       "11     1004767\n",
       "12     1004833\n",
       "13     1004870\n",
       "14     1004836\n",
       "15     1004785\n",
       "16     1004565\n",
       "17     1004781\n",
       "18     1004903\n",
       "19     1004708\n",
       "20     2702277\n",
       "21     3601485\n",
       "22     3601244\n",
       "23     3601437\n",
       "24     1802037"
      ]
     },
     "execution_count": 109,
     "metadata": {},
     "output_type": "execute_result"
    }
   ],
   "source": [
    "top25"
   ]
  },
  {
   "cell_type": "code",
   "execution_count": 114,
   "id": "c2a2dbb3",
   "metadata": {},
   "outputs": [],
   "source": [
    "top25 = top25.merge(X_rating, how='left', left_on='product_id', right_on='product_id').drop_duplicates(['product_id'])"
   ]
  },
  {
   "cell_type": "code",
   "execution_count": 118,
   "id": "e9614969",
   "metadata": {},
   "outputs": [],
   "source": [
    "top25 = top25.reset_index()"
   ]
  },
  {
   "cell_type": "code",
   "execution_count": 119,
   "id": "9ffd4638",
   "metadata": {},
   "outputs": [
    {
     "data": {
      "text/html": [
       "<div>\n",
       "<style scoped>\n",
       "    .dataframe tbody tr th:only-of-type {\n",
       "        vertical-align: middle;\n",
       "    }\n",
       "\n",
       "    .dataframe tbody tr th {\n",
       "        vertical-align: top;\n",
       "    }\n",
       "\n",
       "    .dataframe thead th {\n",
       "        text-align: right;\n",
       "    }\n",
       "</style>\n",
       "<table border=\"1\" class=\"dataframe\">\n",
       "  <thead>\n",
       "    <tr style=\"text-align: right;\">\n",
       "      <th></th>\n",
       "      <th>index</th>\n",
       "      <th>product_id</th>\n",
       "      <th>event_time</th>\n",
       "      <th>event_type</th>\n",
       "      <th>category_id</th>\n",
       "      <th>category_code</th>\n",
       "      <th>brand</th>\n",
       "      <th>price</th>\n",
       "      <th>user_id</th>\n",
       "      <th>user_session</th>\n",
       "      <th>25%</th>\n",
       "      <th>75%</th>\n",
       "      <th>price_category</th>\n",
       "      <th>rating</th>\n",
       "      <th>metadata</th>\n",
       "    </tr>\n",
       "  </thead>\n",
       "  <tbody>\n",
       "    <tr>\n",
       "      <th>0</th>\n",
       "      <td>0</td>\n",
       "      <td>1307366</td>\n",
       "      <td>2019-10-01 02:38:03 UTC</td>\n",
       "      <td>view</td>\n",
       "      <td>2053013558920217191</td>\n",
       "      <td>computers notebook</td>\n",
       "      <td>lenovo</td>\n",
       "      <td>248.62</td>\n",
       "      <td>532340721</td>\n",
       "      <td>e7613958-fa9a-4dba-a199-7e611fac38c6</td>\n",
       "      <td>360.34</td>\n",
       "      <td>873.61</td>\n",
       "      <td>low</td>\n",
       "      <td>1</td>\n",
       "      <td>computers notebook lenovo low</td>\n",
       "    </tr>\n",
       "    <tr>\n",
       "      <th>1</th>\n",
       "      <td>2740</td>\n",
       "      <td>1307067</td>\n",
       "      <td>2019-10-01 02:20:03 UTC</td>\n",
       "      <td>view</td>\n",
       "      <td>2053013558920217191</td>\n",
       "      <td>computers notebook</td>\n",
       "      <td>lenovo</td>\n",
       "      <td>251.74</td>\n",
       "      <td>541316253</td>\n",
       "      <td>d15e32ab-efb2-4232-a646-0492a50d2fe1</td>\n",
       "      <td>360.34</td>\n",
       "      <td>873.61</td>\n",
       "      <td>low</td>\n",
       "      <td>1</td>\n",
       "      <td>computers notebook lenovo low</td>\n",
       "    </tr>\n",
       "    <tr>\n",
       "      <th>2</th>\n",
       "      <td>4618</td>\n",
       "      <td>1307004</td>\n",
       "      <td>2019-10-01 00:30:16 UTC</td>\n",
       "      <td>view</td>\n",
       "      <td>2053013558920217191</td>\n",
       "      <td>computers notebook</td>\n",
       "      <td>lenovo</td>\n",
       "      <td>290.61</td>\n",
       "      <td>551508458</td>\n",
       "      <td>eb9a8d4b-da50-43c5-b2c2-21fe9487a175</td>\n",
       "      <td>360.34</td>\n",
       "      <td>873.61</td>\n",
       "      <td>low</td>\n",
       "      <td>1</td>\n",
       "      <td>computers notebook lenovo low</td>\n",
       "    </tr>\n",
       "    <tr>\n",
       "      <th>3</th>\n",
       "      <td>6228</td>\n",
       "      <td>1307237</td>\n",
       "      <td>2019-10-01 07:18:29 UTC</td>\n",
       "      <td>view</td>\n",
       "      <td>2053013558920217191</td>\n",
       "      <td>computers notebook</td>\n",
       "      <td>lenovo</td>\n",
       "      <td>257.38</td>\n",
       "      <td>513225144</td>\n",
       "      <td>b01b12bb-3bee-412e-abe4-d40ef9e570f7</td>\n",
       "      <td>360.34</td>\n",
       "      <td>873.61</td>\n",
       "      <td>low</td>\n",
       "      <td>1</td>\n",
       "      <td>computers notebook lenovo low</td>\n",
       "    </tr>\n",
       "    <tr>\n",
       "      <th>4</th>\n",
       "      <td>7101</td>\n",
       "      <td>1307377</td>\n",
       "      <td>2019-10-01 02:51:52 UTC</td>\n",
       "      <td>view</td>\n",
       "      <td>2053013558920217191</td>\n",
       "      <td>computers notebook</td>\n",
       "      <td>lenovo</td>\n",
       "      <td>432.42</td>\n",
       "      <td>519309066</td>\n",
       "      <td>d60c7cf6-dc82-4776-a920-6cdbd1f22c2d</td>\n",
       "      <td>360.34</td>\n",
       "      <td>873.61</td>\n",
       "      <td>medium</td>\n",
       "      <td>1</td>\n",
       "      <td>computers notebook lenovo medium</td>\n",
       "    </tr>\n",
       "  </tbody>\n",
       "</table>\n",
       "</div>"
      ],
      "text/plain": [
       "   index  product_id               event_time event_type          category_id  \\\n",
       "0      0     1307366  2019-10-01 02:38:03 UTC       view  2053013558920217191   \n",
       "1   2740     1307067  2019-10-01 02:20:03 UTC       view  2053013558920217191   \n",
       "2   4618     1307004  2019-10-01 00:30:16 UTC       view  2053013558920217191   \n",
       "3   6228     1307237  2019-10-01 07:18:29 UTC       view  2053013558920217191   \n",
       "4   7101     1307377  2019-10-01 02:51:52 UTC       view  2053013558920217191   \n",
       "\n",
       "        category_code   brand   price    user_id  \\\n",
       "0  computers notebook  lenovo  248.62  532340721   \n",
       "1  computers notebook  lenovo  251.74  541316253   \n",
       "2  computers notebook  lenovo  290.61  551508458   \n",
       "3  computers notebook  lenovo  257.38  513225144   \n",
       "4  computers notebook  lenovo  432.42  519309066   \n",
       "\n",
       "                           user_session     25%     75% price_category  \\\n",
       "0  e7613958-fa9a-4dba-a199-7e611fac38c6  360.34  873.61            low   \n",
       "1  d15e32ab-efb2-4232-a646-0492a50d2fe1  360.34  873.61            low   \n",
       "2  eb9a8d4b-da50-43c5-b2c2-21fe9487a175  360.34  873.61            low   \n",
       "3  b01b12bb-3bee-412e-abe4-d40ef9e570f7  360.34  873.61            low   \n",
       "4  d60c7cf6-dc82-4776-a920-6cdbd1f22c2d  360.34  873.61         medium   \n",
       "\n",
       "   rating                          metadata  \n",
       "0       1     computers notebook lenovo low  \n",
       "1       1     computers notebook lenovo low  \n",
       "2       1     computers notebook lenovo low  \n",
       "3       1     computers notebook lenovo low  \n",
       "4       1  computers notebook lenovo medium  "
      ]
     },
     "execution_count": 119,
     "metadata": {},
     "output_type": "execute_result"
    }
   ],
   "source": [
    "top25.head()"
   ]
  },
  {
   "cell_type": "code",
   "execution_count": 120,
   "id": "eb8790d3",
   "metadata": {},
   "outputs": [
    {
     "data": {
      "text/html": [
       "<div>\n",
       "<style scoped>\n",
       "    .dataframe tbody tr th:only-of-type {\n",
       "        vertical-align: middle;\n",
       "    }\n",
       "\n",
       "    .dataframe tbody tr th {\n",
       "        vertical-align: top;\n",
       "    }\n",
       "\n",
       "    .dataframe thead th {\n",
       "        text-align: right;\n",
       "    }\n",
       "</style>\n",
       "<table border=\"1\" class=\"dataframe\">\n",
       "  <thead>\n",
       "    <tr style=\"text-align: right;\">\n",
       "      <th></th>\n",
       "      <th>product_id</th>\n",
       "      <th>category_code</th>\n",
       "      <th>brand</th>\n",
       "      <th>price</th>\n",
       "      <th>metadata</th>\n",
       "    </tr>\n",
       "  </thead>\n",
       "  <tbody>\n",
       "    <tr>\n",
       "      <th>0</th>\n",
       "      <td>1307366</td>\n",
       "      <td>computers notebook</td>\n",
       "      <td>lenovo</td>\n",
       "      <td>248.62</td>\n",
       "      <td>computers notebook lenovo low</td>\n",
       "    </tr>\n",
       "    <tr>\n",
       "      <th>1</th>\n",
       "      <td>1307067</td>\n",
       "      <td>computers notebook</td>\n",
       "      <td>lenovo</td>\n",
       "      <td>251.74</td>\n",
       "      <td>computers notebook lenovo low</td>\n",
       "    </tr>\n",
       "    <tr>\n",
       "      <th>2</th>\n",
       "      <td>1307004</td>\n",
       "      <td>computers notebook</td>\n",
       "      <td>lenovo</td>\n",
       "      <td>290.61</td>\n",
       "      <td>computers notebook lenovo low</td>\n",
       "    </tr>\n",
       "    <tr>\n",
       "      <th>3</th>\n",
       "      <td>1307237</td>\n",
       "      <td>computers notebook</td>\n",
       "      <td>lenovo</td>\n",
       "      <td>257.38</td>\n",
       "      <td>computers notebook lenovo low</td>\n",
       "    </tr>\n",
       "    <tr>\n",
       "      <th>4</th>\n",
       "      <td>1307377</td>\n",
       "      <td>computers notebook</td>\n",
       "      <td>lenovo</td>\n",
       "      <td>432.42</td>\n",
       "      <td>computers notebook lenovo medium</td>\n",
       "    </tr>\n",
       "    <tr>\n",
       "      <th>5</th>\n",
       "      <td>1005115</td>\n",
       "      <td>electronics smartphone</td>\n",
       "      <td>apple</td>\n",
       "      <td>975.57</td>\n",
       "      <td>electronics smartphone apple high</td>\n",
       "    </tr>\n",
       "    <tr>\n",
       "      <th>6</th>\n",
       "      <td>4804056</td>\n",
       "      <td>electronics audio headphone</td>\n",
       "      <td>apple</td>\n",
       "      <td>161.98</td>\n",
       "      <td>electronics audio headphone apple high</td>\n",
       "    </tr>\n",
       "    <tr>\n",
       "      <th>7</th>\n",
       "      <td>1004249</td>\n",
       "      <td>electronics smartphone</td>\n",
       "      <td>apple</td>\n",
       "      <td>739.81</td>\n",
       "      <td>electronics smartphone apple high</td>\n",
       "    </tr>\n",
       "    <tr>\n",
       "      <th>8</th>\n",
       "      <td>1002544</td>\n",
       "      <td>electronics smartphone</td>\n",
       "      <td>apple</td>\n",
       "      <td>464.13</td>\n",
       "      <td>electronics smartphone apple medium</td>\n",
       "    </tr>\n",
       "    <tr>\n",
       "      <th>9</th>\n",
       "      <td>1005105</td>\n",
       "      <td>electronics smartphone</td>\n",
       "      <td>apple</td>\n",
       "      <td>1415.48</td>\n",
       "      <td>electronics smartphone apple high</td>\n",
       "    </tr>\n",
       "    <tr>\n",
       "      <th>10</th>\n",
       "      <td>1004856</td>\n",
       "      <td>electronics smartphone</td>\n",
       "      <td>samsung</td>\n",
       "      <td>130.76</td>\n",
       "      <td>electronics smartphone samsung low</td>\n",
       "    </tr>\n",
       "    <tr>\n",
       "      <th>11</th>\n",
       "      <td>1004767</td>\n",
       "      <td>electronics smartphone</td>\n",
       "      <td>samsung</td>\n",
       "      <td>254.82</td>\n",
       "      <td>electronics smartphone samsung medium</td>\n",
       "    </tr>\n",
       "    <tr>\n",
       "      <th>12</th>\n",
       "      <td>1004833</td>\n",
       "      <td>electronics smartphone</td>\n",
       "      <td>samsung</td>\n",
       "      <td>174.76</td>\n",
       "      <td>electronics smartphone samsung low</td>\n",
       "    </tr>\n",
       "    <tr>\n",
       "      <th>13</th>\n",
       "      <td>1004870</td>\n",
       "      <td>electronics smartphone</td>\n",
       "      <td>samsung</td>\n",
       "      <td>286.86</td>\n",
       "      <td>electronics smartphone samsung medium</td>\n",
       "    </tr>\n",
       "    <tr>\n",
       "      <th>14</th>\n",
       "      <td>1004836</td>\n",
       "      <td>electronics smartphone</td>\n",
       "      <td>samsung</td>\n",
       "      <td>241.19</td>\n",
       "      <td>electronics smartphone samsung medium</td>\n",
       "    </tr>\n",
       "    <tr>\n",
       "      <th>15</th>\n",
       "      <td>1004785</td>\n",
       "      <td>electronics smartphone</td>\n",
       "      <td>huawei</td>\n",
       "      <td>278.55</td>\n",
       "      <td>electronics smartphone huawei medium</td>\n",
       "    </tr>\n",
       "    <tr>\n",
       "      <th>16</th>\n",
       "      <td>1004565</td>\n",
       "      <td>electronics smartphone</td>\n",
       "      <td>huawei</td>\n",
       "      <td>177.47</td>\n",
       "      <td>electronics smartphone huawei low</td>\n",
       "    </tr>\n",
       "    <tr>\n",
       "      <th>17</th>\n",
       "      <td>1004781</td>\n",
       "      <td>electronics smartphone</td>\n",
       "      <td>huawei</td>\n",
       "      <td>278.31</td>\n",
       "      <td>electronics smartphone huawei medium</td>\n",
       "    </tr>\n",
       "    <tr>\n",
       "      <th>18</th>\n",
       "      <td>1004903</td>\n",
       "      <td>electronics smartphone</td>\n",
       "      <td>huawei</td>\n",
       "      <td>111.82</td>\n",
       "      <td>electronics smartphone huawei low</td>\n",
       "    </tr>\n",
       "    <tr>\n",
       "      <th>19</th>\n",
       "      <td>1004708</td>\n",
       "      <td>electronics smartphone</td>\n",
       "      <td>huawei</td>\n",
       "      <td>159.77</td>\n",
       "      <td>electronics smartphone huawei low</td>\n",
       "    </tr>\n",
       "    <tr>\n",
       "      <th>20</th>\n",
       "      <td>2702277</td>\n",
       "      <td>appliances kitchen refrigerators</td>\n",
       "      <td>lg</td>\n",
       "      <td>465.70</td>\n",
       "      <td>appliances kitchen refrigerators lg medium</td>\n",
       "    </tr>\n",
       "    <tr>\n",
       "      <th>21</th>\n",
       "      <td>3601485</td>\n",
       "      <td>appliances kitchen washer</td>\n",
       "      <td>lg</td>\n",
       "      <td>308.65</td>\n",
       "      <td>appliances kitchen washer lg medium</td>\n",
       "    </tr>\n",
       "    <tr>\n",
       "      <th>22</th>\n",
       "      <td>3601244</td>\n",
       "      <td>appliances kitchen washer</td>\n",
       "      <td>lg</td>\n",
       "      <td>339.75</td>\n",
       "      <td>appliances kitchen washer lg medium</td>\n",
       "    </tr>\n",
       "    <tr>\n",
       "      <th>23</th>\n",
       "      <td>3601437</td>\n",
       "      <td>appliances kitchen washer</td>\n",
       "      <td>lg</td>\n",
       "      <td>380.85</td>\n",
       "      <td>appliances kitchen washer lg medium</td>\n",
       "    </tr>\n",
       "    <tr>\n",
       "      <th>24</th>\n",
       "      <td>1802037</td>\n",
       "      <td>electronics video tv</td>\n",
       "      <td>lg</td>\n",
       "      <td>303.45</td>\n",
       "      <td>electronics video tv lg medium</td>\n",
       "    </tr>\n",
       "  </tbody>\n",
       "</table>\n",
       "</div>"
      ],
      "text/plain": [
       "    product_id                     category_code    brand    price  \\\n",
       "0      1307366                computers notebook   lenovo   248.62   \n",
       "1      1307067                computers notebook   lenovo   251.74   \n",
       "2      1307004                computers notebook   lenovo   290.61   \n",
       "3      1307237                computers notebook   lenovo   257.38   \n",
       "4      1307377                computers notebook   lenovo   432.42   \n",
       "5      1005115            electronics smartphone    apple   975.57   \n",
       "6      4804056       electronics audio headphone    apple   161.98   \n",
       "7      1004249            electronics smartphone    apple   739.81   \n",
       "8      1002544            electronics smartphone    apple   464.13   \n",
       "9      1005105            electronics smartphone    apple  1415.48   \n",
       "10     1004856            electronics smartphone  samsung   130.76   \n",
       "11     1004767            electronics smartphone  samsung   254.82   \n",
       "12     1004833            electronics smartphone  samsung   174.76   \n",
       "13     1004870            electronics smartphone  samsung   286.86   \n",
       "14     1004836            electronics smartphone  samsung   241.19   \n",
       "15     1004785            electronics smartphone   huawei   278.55   \n",
       "16     1004565            electronics smartphone   huawei   177.47   \n",
       "17     1004781            electronics smartphone   huawei   278.31   \n",
       "18     1004903            electronics smartphone   huawei   111.82   \n",
       "19     1004708            electronics smartphone   huawei   159.77   \n",
       "20     2702277  appliances kitchen refrigerators       lg   465.70   \n",
       "21     3601485         appliances kitchen washer       lg   308.65   \n",
       "22     3601244         appliances kitchen washer       lg   339.75   \n",
       "23     3601437         appliances kitchen washer       lg   380.85   \n",
       "24     1802037              electronics video tv       lg   303.45   \n",
       "\n",
       "                                      metadata  \n",
       "0                computers notebook lenovo low  \n",
       "1                computers notebook lenovo low  \n",
       "2                computers notebook lenovo low  \n",
       "3                computers notebook lenovo low  \n",
       "4             computers notebook lenovo medium  \n",
       "5            electronics smartphone apple high  \n",
       "6       electronics audio headphone apple high  \n",
       "7            electronics smartphone apple high  \n",
       "8          electronics smartphone apple medium  \n",
       "9            electronics smartphone apple high  \n",
       "10          electronics smartphone samsung low  \n",
       "11       electronics smartphone samsung medium  \n",
       "12          electronics smartphone samsung low  \n",
       "13       electronics smartphone samsung medium  \n",
       "14       electronics smartphone samsung medium  \n",
       "15        electronics smartphone huawei medium  \n",
       "16           electronics smartphone huawei low  \n",
       "17        electronics smartphone huawei medium  \n",
       "18           electronics smartphone huawei low  \n",
       "19           electronics smartphone huawei low  \n",
       "20  appliances kitchen refrigerators lg medium  \n",
       "21         appliances kitchen washer lg medium  \n",
       "22         appliances kitchen washer lg medium  \n",
       "23         appliances kitchen washer lg medium  \n",
       "24              electronics video tv lg medium  "
      ]
     },
     "execution_count": 120,
     "metadata": {},
     "output_type": "execute_result"
    }
   ],
   "source": [
    "top25[['product_id', 'category_code', 'brand', 'price', 'metadata']]"
   ]
  },
  {
   "cell_type": "code",
   "execution_count": 121,
   "id": "7cf66a2e",
   "metadata": {},
   "outputs": [],
   "source": [
    "top25.to_csv('top25.csv')"
   ]
  },
  {
   "cell_type": "code",
   "execution_count": 122,
   "id": "1baeea2e",
   "metadata": {},
   "outputs": [
    {
     "name": "stdout",
     "output_type": "stream",
     "text": [
      "/home/cjergen/code/sailormoonvicky/eCommerce/notebooks\r\n"
     ]
    }
   ],
   "source": [
    "!pwd"
   ]
  },
  {
   "cell_type": "code",
   "execution_count": null,
   "id": "2e4214ac",
   "metadata": {},
   "outputs": [],
   "source": []
  }
 ],
 "metadata": {
  "kernelspec": {
   "display_name": "Python 3 (ipykernel)",
   "language": "python",
   "name": "python3"
  },
  "language_info": {
   "codemirror_mode": {
    "name": "ipython",
    "version": 3
   },
   "file_extension": ".py",
   "mimetype": "text/x-python",
   "name": "python",
   "nbconvert_exporter": "python",
   "pygments_lexer": "ipython3",
   "version": "3.10.6"
  },
  "toc": {
   "base_numbering": 1,
   "nav_menu": {},
   "number_sections": true,
   "sideBar": true,
   "skip_h1_title": false,
   "title_cell": "Table of Contents",
   "title_sidebar": "Contents",
   "toc_cell": false,
   "toc_position": {},
   "toc_section_display": true,
   "toc_window_display": false
  }
 },
 "nbformat": 4,
 "nbformat_minor": 5
}
