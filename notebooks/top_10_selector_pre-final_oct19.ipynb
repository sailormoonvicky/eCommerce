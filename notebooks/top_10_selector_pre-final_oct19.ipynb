{
 "cells": [
  {
   "cell_type": "markdown",
   "id": "cc9a61c8",
   "metadata": {},
   "source": [
    "# Top 10 selector"
   ]
  },
  {
   "cell_type": "code",
   "execution_count": 1,
   "id": "7c0cb91d",
   "metadata": {},
   "outputs": [],
   "source": [
    "import pandas as pd\n",
    "import numpy as np\n",
    "import matplotlib.pyplot as plt\n",
    "from sklearn.preprocessing import OneHotEncoder\n",
    "from sklearn.feature_extraction.text import CountVectorizer\n",
    "from sklearn.decomposition import TruncatedSVD\n",
    "from sklearn.metrics.pairwise import cosine_similarity"
   ]
  },
  {
   "cell_type": "code",
   "execution_count": 2,
   "id": "7e62ac0d",
   "metadata": {},
   "outputs": [],
   "source": [
    "df = pd.read_csv('../data/10%sample/2019-Oct.csv_10%.csv')"
   ]
  },
  {
   "cell_type": "code",
   "execution_count": 22,
   "id": "f79392dc",
   "metadata": {},
   "outputs": [
    {
     "data": {
      "text/plain": [
       "(4248118, 9)"
      ]
     },
     "execution_count": 22,
     "metadata": {},
     "output_type": "execute_result"
    }
   ],
   "source": [
    "df.shape"
   ]
  },
  {
   "cell_type": "code",
   "execution_count": 3,
   "id": "2044494d",
   "metadata": {},
   "outputs": [
    {
     "data": {
      "text/html": [
       "<div>\n",
       "<style scoped>\n",
       "    .dataframe tbody tr th:only-of-type {\n",
       "        vertical-align: middle;\n",
       "    }\n",
       "\n",
       "    .dataframe tbody tr th {\n",
       "        vertical-align: top;\n",
       "    }\n",
       "\n",
       "    .dataframe thead th {\n",
       "        text-align: right;\n",
       "    }\n",
       "</style>\n",
       "<table border=\"1\" class=\"dataframe\">\n",
       "  <thead>\n",
       "    <tr style=\"text-align: right;\">\n",
       "      <th></th>\n",
       "      <th>event_time</th>\n",
       "      <th>event_type</th>\n",
       "      <th>product_id</th>\n",
       "      <th>category_id</th>\n",
       "      <th>category_code</th>\n",
       "      <th>brand</th>\n",
       "      <th>price</th>\n",
       "      <th>user_id</th>\n",
       "      <th>user_session</th>\n",
       "    </tr>\n",
       "  </thead>\n",
       "  <tbody>\n",
       "    <tr>\n",
       "      <th>0</th>\n",
       "      <td>2019-10-01 00:00:17 UTC</td>\n",
       "      <td>view</td>\n",
       "      <td>23100006</td>\n",
       "      <td>2053013561638126333</td>\n",
       "      <td>NaN</td>\n",
       "      <td>NaN</td>\n",
       "      <td>357.79</td>\n",
       "      <td>513642368</td>\n",
       "      <td>17566c27-0a8f-4506-9f30-c6a2ccbf583b</td>\n",
       "    </tr>\n",
       "    <tr>\n",
       "      <th>1</th>\n",
       "      <td>2019-10-01 00:00:20 UTC</td>\n",
       "      <td>view</td>\n",
       "      <td>4803399</td>\n",
       "      <td>2053013554658804075</td>\n",
       "      <td>electronics.audio.headphone</td>\n",
       "      <td>jbl</td>\n",
       "      <td>33.21</td>\n",
       "      <td>555428858</td>\n",
       "      <td>8a6afed4-77f8-40c9-8e76-e062b28216ce</td>\n",
       "    </tr>\n",
       "    <tr>\n",
       "      <th>2</th>\n",
       "      <td>2019-10-01 00:00:23 UTC</td>\n",
       "      <td>view</td>\n",
       "      <td>6200260</td>\n",
       "      <td>2053013552293216471</td>\n",
       "      <td>appliances.environment.air_heater</td>\n",
       "      <td>midea</td>\n",
       "      <td>47.62</td>\n",
       "      <td>538645907</td>\n",
       "      <td>7d9a8784-7b6c-426e-9924-9f688812fd71</td>\n",
       "    </tr>\n",
       "    <tr>\n",
       "      <th>3</th>\n",
       "      <td>2019-10-01 00:00:58 UTC</td>\n",
       "      <td>view</td>\n",
       "      <td>4802639</td>\n",
       "      <td>2053013554658804075</td>\n",
       "      <td>electronics.audio.headphone</td>\n",
       "      <td>sony</td>\n",
       "      <td>218.77</td>\n",
       "      <td>514808401</td>\n",
       "      <td>1877639d-46a4-44f8-bae9-a14456952240</td>\n",
       "    </tr>\n",
       "    <tr>\n",
       "      <th>4</th>\n",
       "      <td>2019-10-01 00:01:11 UTC</td>\n",
       "      <td>view</td>\n",
       "      <td>1004836</td>\n",
       "      <td>2053013555631882655</td>\n",
       "      <td>electronics.smartphone</td>\n",
       "      <td>samsung</td>\n",
       "      <td>241.19</td>\n",
       "      <td>546259103</td>\n",
       "      <td>6e2984c8-502e-4fe7-bbba-34087f760175</td>\n",
       "    </tr>\n",
       "  </tbody>\n",
       "</table>\n",
       "</div>"
      ],
      "text/plain": [
       "                event_time event_type  product_id          category_id  \\\n",
       "0  2019-10-01 00:00:17 UTC       view    23100006  2053013561638126333   \n",
       "1  2019-10-01 00:00:20 UTC       view     4803399  2053013554658804075   \n",
       "2  2019-10-01 00:00:23 UTC       view     6200260  2053013552293216471   \n",
       "3  2019-10-01 00:00:58 UTC       view     4802639  2053013554658804075   \n",
       "4  2019-10-01 00:01:11 UTC       view     1004836  2053013555631882655   \n",
       "\n",
       "                       category_code    brand   price    user_id  \\\n",
       "0                                NaN      NaN  357.79  513642368   \n",
       "1        electronics.audio.headphone      jbl   33.21  555428858   \n",
       "2  appliances.environment.air_heater    midea   47.62  538645907   \n",
       "3        electronics.audio.headphone     sony  218.77  514808401   \n",
       "4             electronics.smartphone  samsung  241.19  546259103   \n",
       "\n",
       "                           user_session  \n",
       "0  17566c27-0a8f-4506-9f30-c6a2ccbf583b  \n",
       "1  8a6afed4-77f8-40c9-8e76-e062b28216ce  \n",
       "2  7d9a8784-7b6c-426e-9924-9f688812fd71  \n",
       "3  1877639d-46a4-44f8-bae9-a14456952240  \n",
       "4  6e2984c8-502e-4fe7-bbba-34087f760175  "
      ]
     },
     "execution_count": 3,
     "metadata": {},
     "output_type": "execute_result"
    }
   ],
   "source": [
    "df.head()"
   ]
  },
  {
   "cell_type": "code",
   "execution_count": 21,
   "id": "2cdf5109",
   "metadata": {},
   "outputs": [
    {
     "data": {
      "text/html": [
       "<div>\n",
       "<style scoped>\n",
       "    .dataframe tbody tr th:only-of-type {\n",
       "        vertical-align: middle;\n",
       "    }\n",
       "\n",
       "    .dataframe tbody tr th {\n",
       "        vertical-align: top;\n",
       "    }\n",
       "\n",
       "    .dataframe thead th {\n",
       "        text-align: right;\n",
       "    }\n",
       "</style>\n",
       "<table border=\"1\" class=\"dataframe\">\n",
       "  <thead>\n",
       "    <tr style=\"text-align: right;\">\n",
       "      <th></th>\n",
       "      <th>event_time</th>\n",
       "      <th>event_type</th>\n",
       "      <th>product_id</th>\n",
       "      <th>category_id</th>\n",
       "      <th>category_code</th>\n",
       "      <th>brand</th>\n",
       "      <th>price</th>\n",
       "      <th>user_id</th>\n",
       "      <th>user_session</th>\n",
       "    </tr>\n",
       "  </thead>\n",
       "  <tbody>\n",
       "    <tr>\n",
       "      <th>119</th>\n",
       "      <td>2019-10-01 02:17:13 UTC</td>\n",
       "      <td>view</td>\n",
       "      <td>1002544</td>\n",
       "      <td>2053013555631882655</td>\n",
       "      <td>electronics.smartphone</td>\n",
       "      <td>apple</td>\n",
       "      <td>464.13</td>\n",
       "      <td>515544667</td>\n",
       "      <td>f619453a-5696-43ba-8cd5-3752e31d811d</td>\n",
       "    </tr>\n",
       "    <tr>\n",
       "      <th>163</th>\n",
       "      <td>2019-10-01 02:19:44 UTC</td>\n",
       "      <td>view</td>\n",
       "      <td>1002544</td>\n",
       "      <td>2053013555631882655</td>\n",
       "      <td>electronics.smartphone</td>\n",
       "      <td>apple</td>\n",
       "      <td>464.13</td>\n",
       "      <td>554571432</td>\n",
       "      <td>8aeea188-8933-4756-a96b-f9eb6893f1a8</td>\n",
       "    </tr>\n",
       "    <tr>\n",
       "      <th>283</th>\n",
       "      <td>2019-10-01 02:23:15 UTC</td>\n",
       "      <td>view</td>\n",
       "      <td>1002544</td>\n",
       "      <td>2053013555631882655</td>\n",
       "      <td>electronics.smartphone</td>\n",
       "      <td>apple</td>\n",
       "      <td>464.13</td>\n",
       "      <td>479233261</td>\n",
       "      <td>44dd8d4a-5fa0-44a8-9729-4720cb8cc98f</td>\n",
       "    </tr>\n",
       "    <tr>\n",
       "      <th>434</th>\n",
       "      <td>2019-10-01 02:26:42 UTC</td>\n",
       "      <td>view</td>\n",
       "      <td>1002544</td>\n",
       "      <td>2053013555631882655</td>\n",
       "      <td>electronics.smartphone</td>\n",
       "      <td>apple</td>\n",
       "      <td>464.13</td>\n",
       "      <td>546213844</td>\n",
       "      <td>42ae575d-3316-4b2d-98cd-ae60756542c3</td>\n",
       "    </tr>\n",
       "    <tr>\n",
       "      <th>503</th>\n",
       "      <td>2019-10-01 02:28:10 UTC</td>\n",
       "      <td>view</td>\n",
       "      <td>1002544</td>\n",
       "      <td>2053013555631882655</td>\n",
       "      <td>electronics.smartphone</td>\n",
       "      <td>apple</td>\n",
       "      <td>464.13</td>\n",
       "      <td>519830620</td>\n",
       "      <td>a03d035b-3275-4db1-8467-b4650f249145</td>\n",
       "    </tr>\n",
       "    <tr>\n",
       "      <th>...</th>\n",
       "      <td>...</td>\n",
       "      <td>...</td>\n",
       "      <td>...</td>\n",
       "      <td>...</td>\n",
       "      <td>...</td>\n",
       "      <td>...</td>\n",
       "      <td>...</td>\n",
       "      <td>...</td>\n",
       "      <td>...</td>\n",
       "    </tr>\n",
       "    <tr>\n",
       "      <th>4246143</th>\n",
       "      <td>2019-10-31 21:34:33 UTC</td>\n",
       "      <td>view</td>\n",
       "      <td>1002544</td>\n",
       "      <td>2053013555631882655</td>\n",
       "      <td>electronics.smartphone</td>\n",
       "      <td>apple</td>\n",
       "      <td>458.28</td>\n",
       "      <td>512640398</td>\n",
       "      <td>e11d7cfe-fc41-4659-8223-6d7f6a244bbf</td>\n",
       "    </tr>\n",
       "    <tr>\n",
       "      <th>4246498</th>\n",
       "      <td>2019-10-31 21:58:25 UTC</td>\n",
       "      <td>view</td>\n",
       "      <td>1002544</td>\n",
       "      <td>2053013555631882655</td>\n",
       "      <td>electronics.smartphone</td>\n",
       "      <td>apple</td>\n",
       "      <td>458.28</td>\n",
       "      <td>563557069</td>\n",
       "      <td>b44541e9-ab55-4272-a52c-16d0d58bdda6</td>\n",
       "    </tr>\n",
       "    <tr>\n",
       "      <th>4246737</th>\n",
       "      <td>2019-10-31 22:14:51 UTC</td>\n",
       "      <td>view</td>\n",
       "      <td>1002544</td>\n",
       "      <td>2053013555631882655</td>\n",
       "      <td>electronics.smartphone</td>\n",
       "      <td>apple</td>\n",
       "      <td>458.28</td>\n",
       "      <td>550264978</td>\n",
       "      <td>2b130498-46c6-42df-bfc3-2ec802e91280</td>\n",
       "    </tr>\n",
       "    <tr>\n",
       "      <th>4246776</th>\n",
       "      <td>2019-10-31 22:17:48 UTC</td>\n",
       "      <td>view</td>\n",
       "      <td>1002544</td>\n",
       "      <td>2053013555631882655</td>\n",
       "      <td>electronics.smartphone</td>\n",
       "      <td>apple</td>\n",
       "      <td>458.28</td>\n",
       "      <td>522614060</td>\n",
       "      <td>bb9b2f2c-ff9f-4c31-bfee-c0765a682a18</td>\n",
       "    </tr>\n",
       "    <tr>\n",
       "      <th>4246797</th>\n",
       "      <td>2019-10-31 22:19:03 UTC</td>\n",
       "      <td>view</td>\n",
       "      <td>1002544</td>\n",
       "      <td>2053013555631882655</td>\n",
       "      <td>electronics.smartphone</td>\n",
       "      <td>apple</td>\n",
       "      <td>458.28</td>\n",
       "      <td>514800491</td>\n",
       "      <td>9ffdadf1-06fa-4730-9fd9-28964bbe6290</td>\n",
       "    </tr>\n",
       "  </tbody>\n",
       "</table>\n",
       "<p>20531 rows × 9 columns</p>\n",
       "</div>"
      ],
      "text/plain": [
       "                      event_time event_type  product_id          category_id  \\\n",
       "119      2019-10-01 02:17:13 UTC       view     1002544  2053013555631882655   \n",
       "163      2019-10-01 02:19:44 UTC       view     1002544  2053013555631882655   \n",
       "283      2019-10-01 02:23:15 UTC       view     1002544  2053013555631882655   \n",
       "434      2019-10-01 02:26:42 UTC       view     1002544  2053013555631882655   \n",
       "503      2019-10-01 02:28:10 UTC       view     1002544  2053013555631882655   \n",
       "...                          ...        ...         ...                  ...   \n",
       "4246143  2019-10-31 21:34:33 UTC       view     1002544  2053013555631882655   \n",
       "4246498  2019-10-31 21:58:25 UTC       view     1002544  2053013555631882655   \n",
       "4246737  2019-10-31 22:14:51 UTC       view     1002544  2053013555631882655   \n",
       "4246776  2019-10-31 22:17:48 UTC       view     1002544  2053013555631882655   \n",
       "4246797  2019-10-31 22:19:03 UTC       view     1002544  2053013555631882655   \n",
       "\n",
       "                  category_code  brand   price    user_id  \\\n",
       "119      electronics.smartphone  apple  464.13  515544667   \n",
       "163      electronics.smartphone  apple  464.13  554571432   \n",
       "283      electronics.smartphone  apple  464.13  479233261   \n",
       "434      electronics.smartphone  apple  464.13  546213844   \n",
       "503      electronics.smartphone  apple  464.13  519830620   \n",
       "...                         ...    ...     ...        ...   \n",
       "4246143  electronics.smartphone  apple  458.28  512640398   \n",
       "4246498  electronics.smartphone  apple  458.28  563557069   \n",
       "4246737  electronics.smartphone  apple  458.28  550264978   \n",
       "4246776  electronics.smartphone  apple  458.28  522614060   \n",
       "4246797  electronics.smartphone  apple  458.28  514800491   \n",
       "\n",
       "                                 user_session  \n",
       "119      f619453a-5696-43ba-8cd5-3752e31d811d  \n",
       "163      8aeea188-8933-4756-a96b-f9eb6893f1a8  \n",
       "283      44dd8d4a-5fa0-44a8-9729-4720cb8cc98f  \n",
       "434      42ae575d-3316-4b2d-98cd-ae60756542c3  \n",
       "503      a03d035b-3275-4db1-8467-b4650f249145  \n",
       "...                                       ...  \n",
       "4246143  e11d7cfe-fc41-4659-8223-6d7f6a244bbf  \n",
       "4246498  b44541e9-ab55-4272-a52c-16d0d58bdda6  \n",
       "4246737  2b130498-46c6-42df-bfc3-2ec802e91280  \n",
       "4246776  bb9b2f2c-ff9f-4c31-bfee-c0765a682a18  \n",
       "4246797  9ffdadf1-06fa-4730-9fd9-28964bbe6290  \n",
       "\n",
       "[20531 rows x 9 columns]"
      ]
     },
     "execution_count": 21,
     "metadata": {},
     "output_type": "execute_result"
    }
   ],
   "source": [
    "# df.query(\"brand == 'apple' and category_code == 'sport bicycle'\")  #check the dataframe output\n",
    "df.query(\"product_id == 1002544\")"
   ]
  },
  {
   "cell_type": "code",
   "execution_count": 5,
   "id": "a70c588a",
   "metadata": {},
   "outputs": [],
   "source": [
    "def preprocessing_feat(X):    \n",
    "    X_preprocessed = X.dropna(subset = ['category_code', 'brand']) #tbd!!\n",
    "    X_preprocessed = X_preprocessed.drop_duplicates()\n",
    "    X_preprocessed['category_code'] = X_preprocessed['category_code'].str.replace('.',' ')\n",
    "    return X_preprocessed\n",
    "\n",
    "def pricing_criterion(X):\n",
    "    pricing_guide = X.groupby('category_code')['price'].describe()[[\"25%\", \"75%\"]].reset_index()\n",
    "    X_merged = X.merge(pricing_guide, on=\"category_code\", how=\"right\")\n",
    "    X_merged[\"price_category\"] = X_merged.apply(lambda row: make_column(row), axis=1)\n",
    "    return X_merged\n",
    "\n",
    "def make_column(row):\n",
    "    if row[\"price\"] < row[\"25%\"]:\n",
    "        return \"low\"\n",
    "    elif row[\"price\"] < row[\"75%\"]:\n",
    "        return \"medium\"\n",
    "    else:\n",
    "        return \"high\"\n",
    "\n",
    "def metadata(X):\n",
    "    X['metadata'] = X[['category_code', 'brand', 'price_category']].apply(lambda x: ' '.join(x), axis = 1)\n",
    "    return X\n",
    "\n",
    "def rating(X):\n",
    "    dct = {'view': 1, 'cart': 3, 'purchase': 5}\n",
    "    X['rating'] = X['event_type'].map(dct)\n",
    "    return X"
   ]
  },
  {
   "cell_type": "code",
   "execution_count": 6,
   "id": "9fdd8623",
   "metadata": {},
   "outputs": [
    {
     "name": "stderr",
     "output_type": "stream",
     "text": [
      "/var/folders/6f/vn_j9pqn1qd8rp92y6x0h0hh0000gn/T/ipykernel_23140/3456390047.py:4: FutureWarning: The default value of regex will change from True to False in a future version. In addition, single character regular expressions will *not* be treated as literal strings when regex=True.\n",
      "  X_preprocessed['category_code'] = X_preprocessed['category_code'].str.replace('.',' ')\n"
     ]
    }
   ],
   "source": [
    "X_prep = preprocessing_feat(df)"
   ]
  },
  {
   "cell_type": "code",
   "execution_count": 7,
   "id": "6615a22d",
   "metadata": {},
   "outputs": [
    {
     "data": {
      "text/html": [
       "<div>\n",
       "<style scoped>\n",
       "    .dataframe tbody tr th:only-of-type {\n",
       "        vertical-align: middle;\n",
       "    }\n",
       "\n",
       "    .dataframe tbody tr th {\n",
       "        vertical-align: top;\n",
       "    }\n",
       "\n",
       "    .dataframe thead th {\n",
       "        text-align: right;\n",
       "    }\n",
       "</style>\n",
       "<table border=\"1\" class=\"dataframe\">\n",
       "  <thead>\n",
       "    <tr style=\"text-align: right;\">\n",
       "      <th></th>\n",
       "      <th>event_time</th>\n",
       "      <th>event_type</th>\n",
       "      <th>product_id</th>\n",
       "      <th>category_id</th>\n",
       "      <th>category_code</th>\n",
       "      <th>brand</th>\n",
       "      <th>price</th>\n",
       "      <th>user_id</th>\n",
       "      <th>user_session</th>\n",
       "    </tr>\n",
       "  </thead>\n",
       "  <tbody>\n",
       "  </tbody>\n",
       "</table>\n",
       "</div>"
      ],
      "text/plain": [
       "Empty DataFrame\n",
       "Columns: [event_time, event_type, product_id, category_id, category_code, brand, price, user_id, user_session]\n",
       "Index: []"
      ]
     },
     "execution_count": 7,
     "metadata": {},
     "output_type": "execute_result"
    }
   ],
   "source": [
    "# X_prep.query(\"brand == 'apple' and category_code == 'sport bicycle'\")  #check the dataframe output\n",
    "X_prep.query(\"product_id == 4804718\")"
   ]
  },
  {
   "cell_type": "code",
   "execution_count": 8,
   "id": "5e3aa5b8",
   "metadata": {},
   "outputs": [],
   "source": [
    "X_pric = pricing_criterion(X_prep)"
   ]
  },
  {
   "cell_type": "code",
   "execution_count": 9,
   "id": "4b92a2f1",
   "metadata": {},
   "outputs": [],
   "source": [
    "X_rating = rating(X_pric)"
   ]
  },
  {
   "cell_type": "code",
   "execution_count": 10,
   "id": "cd55a1d0",
   "metadata": {},
   "outputs": [],
   "source": [
    "def metadata(X):\n",
    "    X['metadata'] = X[['category_code', 'brand', 'price_category']].apply(lambda x: ' '.join(x), axis = 1)\n",
    "    return X"
   ]
  },
  {
   "cell_type": "code",
   "execution_count": 11,
   "id": "153b79cf",
   "metadata": {},
   "outputs": [],
   "source": [
    "X_meta = metadata(X_pric)"
   ]
  },
  {
   "cell_type": "code",
   "execution_count": 12,
   "id": "3a5ec4a6",
   "metadata": {},
   "outputs": [
    {
     "data": {
      "text/html": [
       "<div>\n",
       "<style scoped>\n",
       "    .dataframe tbody tr th:only-of-type {\n",
       "        vertical-align: middle;\n",
       "    }\n",
       "\n",
       "    .dataframe tbody tr th {\n",
       "        vertical-align: top;\n",
       "    }\n",
       "\n",
       "    .dataframe thead th {\n",
       "        text-align: right;\n",
       "    }\n",
       "</style>\n",
       "<table border=\"1\" class=\"dataframe\">\n",
       "  <thead>\n",
       "    <tr style=\"text-align: right;\">\n",
       "      <th></th>\n",
       "      <th>event_time</th>\n",
       "      <th>event_type</th>\n",
       "      <th>product_id</th>\n",
       "      <th>category_id</th>\n",
       "      <th>category_code</th>\n",
       "      <th>brand</th>\n",
       "      <th>price</th>\n",
       "      <th>user_id</th>\n",
       "      <th>user_session</th>\n",
       "      <th>25%</th>\n",
       "      <th>75%</th>\n",
       "      <th>price_category</th>\n",
       "      <th>rating</th>\n",
       "      <th>metadata</th>\n",
       "    </tr>\n",
       "  </thead>\n",
       "  <tbody>\n",
       "  </tbody>\n",
       "</table>\n",
       "</div>"
      ],
      "text/plain": [
       "Empty DataFrame\n",
       "Columns: [event_time, event_type, product_id, category_id, category_code, brand, price, user_id, user_session, 25%, 75%, price_category, rating, metadata]\n",
       "Index: []"
      ]
     },
     "execution_count": 12,
     "metadata": {},
     "output_type": "execute_result"
    }
   ],
   "source": [
    "X_meta.query(\"brand == 'apple' and category_code == 'sport bicycle'\")\n",
    "# df_m.query(\"user_session == 'bde905b5-20f1-40ff-8ef6-a60d875e31e0'\")"
   ]
  },
  {
   "cell_type": "code",
   "execution_count": 13,
   "id": "577c492e",
   "metadata": {},
   "outputs": [],
   "source": [
    "def ranking(X, n=5):\n",
    "    X = pd.DataFrame(X_rating.groupby(by='product_id').rating.sum()).sort_values('rating', ascending=False).reset_index().index[0:n]\n",
    "    return X\n",
    "    "
   ]
  },
  {
   "cell_type": "code",
   "execution_count": 14,
   "id": "06fb8098",
   "metadata": {},
   "outputs": [],
   "source": [
    "# def top_n(product_id, X_rating, n=10):\n",
    "    \n",
    "#     \"\"\"select top n products by ranking'\"\"\"\n",
    "    \n",
    "#     rating_idx = pd.DataFrame(X_rating.groupby(by='product_id').rating.sum()).sort_values('rating', ascending=False).reset_index().index[0:n]\n",
    "#     return rating_idx\n",
    "\n",
    "#     counter = 0\n",
    "    \n",
    "#     for i in rating_idx:\n",
    "#         meta_text = X_rating[X_rating['product_id'] == i][['metadata']].iloc[0,:][0]\n",
    "        \n",
    "#         if counter == 0:\n",
    "#             print(f\"Top {n} recommendations for product_id {product_id}:\")\n",
    "#             print(f\"{i} - {meta_text} \\n\")\n",
    "# #             print(\"-----------------------\")\n",
    "\n",
    "#         else:\n",
    "#             print(f\"Rec {counter}) {i} - {meta_text}\")\n",
    "        \n",
    "#         counter += 1"
   ]
  },
  {
   "cell_type": "code",
   "execution_count": 15,
   "id": "bc0020f9",
   "metadata": {},
   "outputs": [],
   "source": [
    "def top_n_overall(product_id, X_rating, n=5):\n",
    "    \n",
    "    \"\"\"select top n products by ranking'\"\"\"\n",
    "    \n",
    "    rating_idx = pd.DataFrame(X_rating.groupby(by='product_id').rating.sum()).sort_values('rating', ascending=False).index[0:n]\n",
    "    #     rec_df.sort_values(ranking, ascending=False).index[0:n]\n",
    "    counter = 0\n",
    "    \n",
    "    for i in rating_idx:\n",
    "        meta_text = X_meta[X_meta['product_id'] == i][['metadata']].iloc[0,:][0]\n",
    "        \n",
    "        if counter == 0:\n",
    "            print(f\"Top {n} recommendations for product_id {product_id}:\")\n",
    "            print(f\"{i} - {meta_text} \\n\")\n",
    "#             print(\"-----------------------\")\n",
    "\n",
    "        else:\n",
    "            print(f\"Rec {counter}) {i} - {meta_text}\")\n",
    "        \n",
    "        counter += 1"
   ]
  },
  {
   "cell_type": "code",
   "execution_count": 16,
   "id": "15d323d3",
   "metadata": {},
   "outputs": [
    {
     "name": "stdout",
     "output_type": "stream",
     "text": [
      "Top 5 recommendations for product_id 49800017:\n",
      "1004856 - electronics smartphone samsung low \n",
      "\n",
      "Rec 1) 1004767 - electronics smartphone samsung medium\n",
      "Rec 2) 1005115 - electronics smartphone apple high\n",
      "Rec 3) 1004833 - electronics smartphone samsung low\n",
      "Rec 4) 4804056 - electronics audio headphone apple high\n"
     ]
    }
   ],
   "source": [
    "top_n_overall(49800017, X_rating)"
   ]
  },
  {
   "cell_type": "code",
   "execution_count": 17,
   "id": "85b45480",
   "metadata": {},
   "outputs": [],
   "source": [
    "def top_n_brands(X_rating, n=20):\n",
    "    \n",
    "    \"\"\"select top n products by ranking'\"\"\"\n",
    "    \n",
    "    rating_idx =     pd.DataFrame(X_rating.groupby(['brand']).rating.sum()).sort_values('rating', ascending=False).index[0:n]\n",
    "\n",
    "    #     rec_df.sort_values(ranking, ascending=False).index[0:n]\n",
    "    return list(rating_idx)"
   ]
  },
  {
   "cell_type": "code",
   "execution_count": 18,
   "id": "9f7b6d22",
   "metadata": {},
   "outputs": [
    {
     "data": {
      "text/plain": [
       "['samsung',\n",
       " 'apple',\n",
       " 'xiaomi',\n",
       " 'huawei',\n",
       " 'oppo',\n",
       " 'lg',\n",
       " 'acer',\n",
       " 'lenovo',\n",
       " 'bosch',\n",
       " 'indesit',\n",
       " 'hp',\n",
       " 'artel',\n",
       " 'respect',\n",
       " 'casio',\n",
       " 'elenberg',\n",
       " 'sony',\n",
       " 'beko',\n",
       " 'asus',\n",
       " 'haier',\n",
       " 'nokia']"
      ]
     },
     "execution_count": 18,
     "metadata": {},
     "output_type": "execute_result"
    }
   ],
   "source": [
    "top_n_brands(X_rating)"
   ]
  },
  {
   "cell_type": "code",
   "execution_count": 19,
   "id": "3fdcf86e",
   "metadata": {},
   "outputs": [],
   "source": [
    "def top_n_by_brand(X_rating, brand, n=10):\n",
    "    \n",
    "    \"\"\"select top n products by brand'\"\"\"\n",
    "    \n",
    "    rating_idx = pd.DataFrame(X_rating.groupby(['product_id','brand']).rating.sum()).sort_values('rating', ascending=False).reset_index('brand')\n",
    "    rating_idx = rating_idx[rating_idx['brand']==brand].index[0:n]\n",
    "#     return rating_idx\n",
    "\n",
    "    counter = 0\n",
    "\n",
    "    for i in rating_idx:\n",
    "            meta_text = X_meta[X_meta['product_id'] == i][['metadata']].iloc[0,:][0]\n",
    "\n",
    "            if counter == 0:\n",
    "                print(f\"Top {n} recommendations for product_id {brand}:\")\n",
    "                print(f\"{i} - {meta_text} \\n\")\n",
    "    #             print(\"-----------------------\")\n",
    "\n",
    "            else:\n",
    "                print(f\"Rec {counter}) {i} - {meta_text}\")\n",
    "\n",
    "            counter += 1"
   ]
  },
  {
   "cell_type": "code",
   "execution_count": 20,
   "id": "ed048231",
   "metadata": {},
   "outputs": [
    {
     "name": "stdout",
     "output_type": "stream",
     "text": [
      "Top 10 recommendations for product_id apple:\n",
      "1005115 - electronics smartphone apple high \n",
      "\n",
      "Rec 1) 4804056 - electronics audio headphone apple high\n",
      "Rec 2) 1004249 - electronics smartphone apple high\n",
      "Rec 3) 1002544 - electronics smartphone apple medium\n",
      "Rec 4) 1005105 - electronics smartphone apple high\n",
      "Rec 5) 1002524 - electronics smartphone apple medium\n",
      "Rec 6) 1002633 - electronics smartphone apple medium\n",
      "Rec 7) 1003306 - electronics smartphone apple medium\n",
      "Rec 8) 1005135 - electronics smartphone apple high\n",
      "Rec 9) 1003317 - electronics smartphone apple high\n"
     ]
    }
   ],
   "source": [
    "top_n_by_brand(X_rating, brand='apple')"
   ]
  },
  {
   "cell_type": "code",
   "execution_count": null,
   "id": "d6879b5c",
   "metadata": {},
   "outputs": [],
   "source": []
  },
  {
   "cell_type": "code",
   "execution_count": null,
   "id": "1d6802ec",
   "metadata": {},
   "outputs": [],
   "source": []
  },
  {
   "cell_type": "code",
   "execution_count": null,
   "id": "f6746eee",
   "metadata": {},
   "outputs": [],
   "source": []
  },
  {
   "cell_type": "code",
   "execution_count": null,
   "id": "b21db18d",
   "metadata": {},
   "outputs": [],
   "source": []
  }
 ],
 "metadata": {
  "kernelspec": {
   "display_name": "Python 3 (ipykernel)",
   "language": "python",
   "name": "python3"
  },
  "language_info": {
   "codemirror_mode": {
    "name": "ipython",
    "version": 3
   },
   "file_extension": ".py",
   "mimetype": "text/x-python",
   "name": "python",
   "nbconvert_exporter": "python",
   "pygments_lexer": "ipython3",
   "version": "3.10.6"
  },
  "toc": {
   "base_numbering": 1,
   "nav_menu": {},
   "number_sections": true,
   "sideBar": true,
   "skip_h1_title": false,
   "title_cell": "Table of Contents",
   "title_sidebar": "Contents",
   "toc_cell": false,
   "toc_position": {},
   "toc_section_display": true,
   "toc_window_display": false
  }
 },
 "nbformat": 4,
 "nbformat_minor": 5
}
