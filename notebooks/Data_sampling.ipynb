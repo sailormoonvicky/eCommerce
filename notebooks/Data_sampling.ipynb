{
 "cells": [
  {
   "cell_type": "code",
   "execution_count": 8,
   "id": "194adffc",
   "metadata": {
    "ExecuteTime": {
     "end_time": "2022-11-29T14:41:29.212816Z",
     "start_time": "2022-11-29T14:41:29.193529Z"
    }
   },
   "outputs": [],
   "source": [
    "import os\n",
    "import pandas as pd\n",
    "import random\n",
    "import numpy as np"
   ]
  },
  {
   "cell_type": "code",
   "execution_count": 32,
   "id": "7e7cb5ba",
   "metadata": {
    "ExecuteTime": {
     "end_time": "2022-11-29T15:19:20.721179Z",
     "start_time": "2022-11-29T15:19:20.718158Z"
    },
    "scrolled": true
   },
   "outputs": [],
   "source": [
    "\n",
    "os.chdir('../')\n"
   ]
  },
  {
   "cell_type": "code",
   "execution_count": 33,
   "id": "186c56bf",
   "metadata": {
    "ExecuteTime": {
     "end_time": "2022-11-29T15:19:22.364400Z",
     "start_time": "2022-11-29T15:19:22.359657Z"
    }
   },
   "outputs": [
    {
     "data": {
      "text/plain": [
       "'/Users/zhenghanhu/code/sailormoonvicky/eCommerce'"
      ]
     },
     "execution_count": 33,
     "metadata": {},
     "output_type": "execute_result"
    }
   ],
   "source": [
    "cwd=os.getcwd()\n",
    "cwd"
   ]
  },
  {
   "cell_type": "code",
   "execution_count": 25,
   "id": "3966d224",
   "metadata": {
    "ExecuteTime": {
     "end_time": "2022-11-29T15:15:02.632717Z",
     "start_time": "2022-11-29T15:15:02.623451Z"
    }
   },
   "outputs": [],
   "source": [
    "def data_sample_1():\n",
    "    '''randomly select 1% data from the project data directory'''\n",
    "    cwd=os.getcwd()\n",
    "    for pt in os.listdir(cwd):\n",
    "        if pt.endswith('csv'):\n",
    "            p = 0.01  # 1% of the lines\n",
    "            filename = pt\n",
    "            # keep the header, then take only 1% of lines\n",
    "            # if random from [0,1] interval is greater than 0.01 the row will be skipped\n",
    "            df = pd.read_csv(\n",
    "            filename,\n",
    "            header=0, \n",
    "            skiprows=lambda i: i>0 and random.random() > p)\n",
    "            df.to_csv(f'1%_sample_{pt}', index = False)"
   ]
  },
  {
   "cell_type": "code",
   "execution_count": 27,
   "id": "8ecaa6be",
   "metadata": {
    "ExecuteTime": {
     "end_time": "2022-11-29T15:16:05.459259Z",
     "start_time": "2022-11-29T15:16:05.451086Z"
    }
   },
   "outputs": [],
   "source": [
    "def data_sample_5():\n",
    "    '''randomly select 5% data from the project data directory'''\n",
    "    cwd=os.getcwd()\n",
    "    for pt in os.listdir(cwd):\n",
    "        if pt.endswith('csv'):\n",
    "            p = 0.05  # 5% of the lines\n",
    "            filename = pt\n",
    "            # keep the header, then take only 5% of lines\n",
    "            # if random from [0,1] interval is greater than 0.05 the row will be skipped\n",
    "            df = pd.read_csv(\n",
    "            filename,\n",
    "            header=0, \n",
    "            skiprows=lambda i: i>0 and random.random() > p)\n",
    "            df.to_csv(f'5%_sample_{pt}', index = False)"
   ]
  },
  {
   "cell_type": "code",
   "execution_count": 29,
   "id": "bc52340d",
   "metadata": {
    "ExecuteTime": {
     "end_time": "2022-11-29T15:16:56.944974Z",
     "start_time": "2022-11-29T15:16:56.930012Z"
    }
   },
   "outputs": [],
   "source": [
    "def data_sample_10():\n",
    "    '''randomly select 10% data from the project data directory'''\n",
    "    cwd=os.getcwd()\n",
    "    for pt in os.listdir(cwd):\n",
    "        if pt.endswith('csv'):\n",
    "            p = 0.1  # 10% of the lines\n",
    "            filename = pt\n",
    "            # keep the header, then take only 10% of lines\n",
    "            # if random from [0,1] interval is greater than 0.1 the row will be skipped\n",
    "            df = pd.read_csv(\n",
    "            filename,\n",
    "            header=0, \n",
    "            # skiprows=lambda i: i>0 and random.random() > p\n",
    "            nrows = len(pt)*p)\n",
    "            df.to_csv(f'10%_sample_{pt}', index = False)"
   ]
  },
  {
   "cell_type": "code",
   "execution_count": 24,
   "id": "4491a790",
   "metadata": {},
   "outputs": [],
   "source": [
    "\n",
    "import csv\n",
    "import pandas as pd\n",
    "\n",
    "# Open the CSV file\n",
    "def data_sample_10():\n",
    "    '''randomly select 10% data from the project data directory'''\n",
    "    cwd=\"../data/sample_data/\"\n",
    "    for pt in os.listdir(cwd):\n",
    "        if pt.endswith('.csv'):\n",
    "            with open(cwd + pt) as csv_file:\n",
    "                count = sum(1 for row in csv_file)\n",
    "            # Calculate the number of rows to skip and the number of rows to read\n",
    "            nrows = int(count * 0.1)\n",
    "\n",
    "            # Load a random sample of 10% of the rows from the file\n",
    "            df = pd.read_csv(cwd + pt, nrows=nrows)\n",
    "            df.to_csv(f'10%_sample_{pt}', index = False)"
   ]
  },
  {
   "cell_type": "code",
   "execution_count": 25,
   "id": "e99f75df",
   "metadata": {},
   "outputs": [],
   "source": [
    "data_sample_10()"
   ]
  },
  {
   "cell_type": "code",
   "execution_count": null,
   "id": "06d0acc8",
   "metadata": {},
   "outputs": [],
   "source": []
  }
 ],
 "metadata": {
  "kernelspec": {
   "display_name": "Python 3.10.6 64-bit ('eCommerce')",
   "language": "python",
   "name": "python3"
  },
  "language_info": {
   "codemirror_mode": {
    "name": "ipython",
    "version": 3
   },
   "file_extension": ".py",
   "mimetype": "text/x-python",
   "name": "python",
   "nbconvert_exporter": "python",
   "pygments_lexer": "ipython3",
   "version": "3.10.6"
  },
  "toc": {
   "base_numbering": 1,
   "nav_menu": {},
   "number_sections": true,
   "sideBar": true,
   "skip_h1_title": false,
   "title_cell": "Table of Contents",
   "title_sidebar": "Contents",
   "toc_cell": false,
   "toc_position": {},
   "toc_section_display": true,
   "toc_window_display": false
  },
  "varInspector": {
   "cols": {
    "lenName": 16,
    "lenType": 16,
    "lenVar": 40
   },
   "kernels_config": {
    "python": {
     "delete_cmd_postfix": "",
     "delete_cmd_prefix": "del ",
     "library": "var_list.py",
     "varRefreshCmd": "print(var_dic_list())"
    },
    "r": {
     "delete_cmd_postfix": ") ",
     "delete_cmd_prefix": "rm(",
     "library": "var_list.r",
     "varRefreshCmd": "cat(var_dic_list()) "
    }
   },
   "types_to_exclude": [
    "module",
    "function",
    "builtin_function_or_method",
    "instance",
    "_Feature"
   ],
   "window_display": false
  },
  "vscode": {
   "interpreter": {
    "hash": "d5b53fa61bf557de7d3105556fea89f1c95347b9f2056abd5e548e461ad5d24f"
   }
  }
 },
 "nbformat": 4,
 "nbformat_minor": 5
}
